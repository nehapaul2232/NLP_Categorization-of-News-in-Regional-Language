{
  "cells": [
    {
      "cell_type": "code",
      "execution_count": null,
      "id": "2710c1d9",
      "metadata": {
        "id": "2710c1d9"
      },
      "outputs": [],
      "source": [
        "import tensorflow as tf\n",
        "import numpy as np\n",
        "import pandas as pd\n",
        "%matplotlib inline\n",
        "import seaborn as sns\n",
        "from sklearn.model_selection import train_test_split\n"
      ]
    },
    {
      "cell_type": "code",
      "execution_count": null,
      "id": "a80af5f1",
      "metadata": {
        "id": "a80af5f1"
      },
      "outputs": [],
      "source": [
        "# Function to evaluate: accuracy, precision, recall, f1-score\n",
        "from sklearn.metrics import accuracy_score, precision_recall_fscore_support\n",
        "\n",
        "def calculate_results(y_true, y_pred):\n",
        "  \"\"\"\n",
        "  Calculates model accuracy, precision, recall and f1 score of a binary classification model.\n",
        "\n",
        "  Args:\n",
        "  -----\n",
        "  y_true = true labels in the form of a 1D array\n",
        "  y_pred = predicted labels in the form of a 1D array\n",
        "\n",
        "  Returns a dictionary of accuracy, precision, recall, f1-score.\n",
        "  \"\"\"\n",
        "  # Calculate model accuracy\n",
        "  model_accuracy = accuracy_score(y_true, y_pred) * 100\n",
        "  # Calculate model precision, recall and f1 score using \"weighted\" average\n",
        "  model_precision, model_recall, model_f1, _ = precision_recall_fscore_support(y_true, y_pred, average=\"weighted\")\n",
        "  model_results = {\"accuracy\": model_accuracy,\n",
        "                  \"precision\": model_precision,\n",
        "                  \"recall\": model_recall,\n",
        "                  \"f1\": model_f1}\n",
        "  return model_results"
      ]
    },
    {
      "cell_type": "code",
      "execution_count": null,
      "id": "453c14cd",
      "metadata": {
        "id": "453c14cd"
      },
      "outputs": [],
      "source": [
        "# Function to convert pred probs into labels\n",
        "def make_preds(model, data):\n",
        "    \"\"\"\n",
        "    This function make predictions on the validation data and returns the prediction labels\n",
        "    \"\"\"\n",
        "    pred_probs = model.predict(data)\n",
        "    preds = tf.argmax(pred_probs, axis=1)\n",
        "    \n",
        "    return preds"
      ]
    },
    {
      "cell_type": "code",
      "execution_count": null,
      "id": "6f1886b0",
      "metadata": {
        "id": "6f1886b0"
      },
      "outputs": [],
      "source": [
        "# Make a function some predictions on test data and visualize them\n",
        "def visualize_random_preds(model):\n",
        "    \"\"\"\n",
        "    Make predictions with our model and visualize them with their labels\n",
        "    r\n",
        "    Args:\n",
        "        model: model you want to predict the labels with\n",
        "         \n",
        "    \"\"\"\n",
        "    \n",
        "    \n",
        "    # Selecting a random sentence from our validation dataset\n",
        "    random_number = random.randint(0, len(test_sentences))\n",
        "    pred_probs = model.predict(test_data)\n",
        "    y_preds = tf.argmax(pred_probs, axis=1)\n",
        "    print(f\"Text: \\n{test_sentences[random_number]}\\n\")\n",
        "    print(f\"Predicted label: {class_names[y_preds[random_number]]}\\n\")\n",
        "    print(f\"Original label: {test_labels[random_number]}\\n\" )\n",
        "\n"
      ]
    },
    {
      "cell_type": "code",
      "execution_count": null,
      "id": "d3c6ed49",
      "metadata": {
        "id": "d3c6ed49"
      },
      "outputs": [],
      "source": [
        "train = pd.read_csv(\"train_telugu_news.csv\")\n",
        "test = pd.read_csv(\"test_telugu_news.csv]\")"
      ]
    },
    {
      "cell_type": "code",
      "source": [
        "train"
      ],
      "metadata": {
        "colab": {
          "base_uri": "https://localhost:8080/",
          "height": 423
        },
        "id": "U54pKaIymrjI",
        "outputId": "51adc938-eab8-4a11-fb07-847803ba0d4b"
      },
      "id": "U54pKaIymrjI",
      "execution_count": null,
      "outputs": [
        {
          "output_type": "execute_result",
          "data": {
            "text/plain": [
              "         SNo                 date  \\\n",
              "0        414  11-05-2017 00:39:13   \n",
              "1       2668  12-06-2017 00:40:32   \n",
              "2      19923  19-01-2017 19:51:31   \n",
              "3      15762  23-11-2017 17:29:04   \n",
              "4       8624  03-04-2017 15:48:23   \n",
              "...      ...                  ...   \n",
              "17307  10296  02-02-2017 12:18:11   \n",
              "17308  13641  20-12-2017 04:16:32   \n",
              "17309  17288  20-05-2017 03:00:10   \n",
              "17310  20882  13-06-2017 04:30:36   \n",
              "17311  13905  17-12-2017 02:12:54   \n",
              "\n",
              "                                                heading  \\\n",
              "0                                ఐడిబిఐపై ఆర్‌బిఐ నజర్‌   \n",
              "1                 బ్యాంకింగ్‌ చీఫ్‌లతో నేడు జైట్లీ భేటీ   \n",
              "2                             కీలక వికెట్ తీసిన జడేజా..   \n",
              "3               మరో రెచ్చగొట్టే చర్యకు దిగిన పాకిస్థాన్   \n",
              "4      గోవాలో కొడుకుతో కలిసి అల్లు అర్జున్ స్విమ్మింగ్!   \n",
              "...                                                 ...   \n",
              "17307       చిరు,ఎన్టీఆర్ వల్ల కాజల్‌కు దక్కిందేమిటి..?   \n",
              "17308               హిమాచల్‌ సీఎం రేసులో నడ్డా, జైరామ్‌   \n",
              "17309                             సతతహరిత విప్లవం అవసరం   \n",
              "17310                     ఇంగ్లండ్‌ జెర్సీలో వార్న్‌..!   \n",
              "17311                           ఆ శక్తి రాహుల్‌కు ఉంది!   \n",
              "\n",
              "                                                    body          topic  \n",
              "0      భారీ ఎత్తున మొండిబకాయిలు పెరిగిపోవడంతో ఐడిబిఐ ...       business  \n",
              "1      న్యూఢిల్లీ : ఆర్థిక మంత్రి అరుణ్‌ జైట్లీ సోమవా...       business  \n",
              "2      కటక్: ఇంగ్లండ్‌తో జరుగుతున్న సెకండ్ వన్డే మ్యా...         sports  \n",
              "3      \\nఇస్లామాబాద్ : పాకిస్థాన్ అంతర్జాతీయ ఉగ్రవాది...         nation  \n",
              "4      స్టార్‌ హీరోగా వరుస సినిమాలతో బిజీగా ఉన్నప్పటి...  entertainment  \n",
              "...                                                  ...            ...  \n",
              "17307  ఇండస్ట్రీలో హీరోయిన్‌గా రాణించాలంటే కేవలం గ్లా...  entertainment  \n",
              "17308  షిమ్లా, డిసెంబరు 19: హిమాచల్‌ ప్రదేశ్‌ అసెంబ్ల...         nation  \n",
              "17309  2022 నాటికి  రైతుల ఆదాయం రెట్టింపు చేయడానికి క...         nation  \n",
              "17310  పందెంలో ఓడిన షేనలండన్: ఆస్ట్రేలియా స్పిన్ లెజె...         sports  \n",
              "17311   ధైర్యంగా పార్టీని నడపగలరు దేశం సవాళ్లను ఎదుర్...         nation  \n",
              "\n",
              "[17312 rows x 5 columns]"
            ],
            "text/html": [
              "\n",
              "  <div id=\"df-2650b191-7a19-418f-ac95-4cf421f0db4e\">\n",
              "    <div class=\"colab-df-container\">\n",
              "      <div>\n",
              "<style scoped>\n",
              "    .dataframe tbody tr th:only-of-type {\n",
              "        vertical-align: middle;\n",
              "    }\n",
              "\n",
              "    .dataframe tbody tr th {\n",
              "        vertical-align: top;\n",
              "    }\n",
              "\n",
              "    .dataframe thead th {\n",
              "        text-align: right;\n",
              "    }\n",
              "</style>\n",
              "<table border=\"1\" class=\"dataframe\">\n",
              "  <thead>\n",
              "    <tr style=\"text-align: right;\">\n",
              "      <th></th>\n",
              "      <th>SNo</th>\n",
              "      <th>date</th>\n",
              "      <th>heading</th>\n",
              "      <th>body</th>\n",
              "      <th>topic</th>\n",
              "    </tr>\n",
              "  </thead>\n",
              "  <tbody>\n",
              "    <tr>\n",
              "      <th>0</th>\n",
              "      <td>414</td>\n",
              "      <td>11-05-2017 00:39:13</td>\n",
              "      <td>ఐడిబిఐపై ఆర్‌బిఐ నజర్‌</td>\n",
              "      <td>భారీ ఎత్తున మొండిబకాయిలు పెరిగిపోవడంతో ఐడిబిఐ ...</td>\n",
              "      <td>business</td>\n",
              "    </tr>\n",
              "    <tr>\n",
              "      <th>1</th>\n",
              "      <td>2668</td>\n",
              "      <td>12-06-2017 00:40:32</td>\n",
              "      <td>బ్యాంకింగ్‌ చీఫ్‌లతో నేడు జైట్లీ భేటీ</td>\n",
              "      <td>న్యూఢిల్లీ : ఆర్థిక మంత్రి అరుణ్‌ జైట్లీ సోమవా...</td>\n",
              "      <td>business</td>\n",
              "    </tr>\n",
              "    <tr>\n",
              "      <th>2</th>\n",
              "      <td>19923</td>\n",
              "      <td>19-01-2017 19:51:31</td>\n",
              "      <td>కీలక వికెట్ తీసిన జడేజా..</td>\n",
              "      <td>కటక్: ఇంగ్లండ్‌తో జరుగుతున్న సెకండ్ వన్డే మ్యా...</td>\n",
              "      <td>sports</td>\n",
              "    </tr>\n",
              "    <tr>\n",
              "      <th>3</th>\n",
              "      <td>15762</td>\n",
              "      <td>23-11-2017 17:29:04</td>\n",
              "      <td>మరో రెచ్చగొట్టే చర్యకు దిగిన పాకిస్థాన్</td>\n",
              "      <td>\\nఇస్లామాబాద్ : పాకిస్థాన్ అంతర్జాతీయ ఉగ్రవాది...</td>\n",
              "      <td>nation</td>\n",
              "    </tr>\n",
              "    <tr>\n",
              "      <th>4</th>\n",
              "      <td>8624</td>\n",
              "      <td>03-04-2017 15:48:23</td>\n",
              "      <td>గోవాలో కొడుకుతో కలిసి అల్లు అర్జున్ స్విమ్మింగ్!</td>\n",
              "      <td>స్టార్‌ హీరోగా వరుస సినిమాలతో బిజీగా ఉన్నప్పటి...</td>\n",
              "      <td>entertainment</td>\n",
              "    </tr>\n",
              "    <tr>\n",
              "      <th>...</th>\n",
              "      <td>...</td>\n",
              "      <td>...</td>\n",
              "      <td>...</td>\n",
              "      <td>...</td>\n",
              "      <td>...</td>\n",
              "    </tr>\n",
              "    <tr>\n",
              "      <th>17307</th>\n",
              "      <td>10296</td>\n",
              "      <td>02-02-2017 12:18:11</td>\n",
              "      <td>చిరు,ఎన్టీఆర్ వల్ల కాజల్‌కు దక్కిందేమిటి..?</td>\n",
              "      <td>ఇండస్ట్రీలో హీరోయిన్‌గా రాణించాలంటే కేవలం గ్లా...</td>\n",
              "      <td>entertainment</td>\n",
              "    </tr>\n",
              "    <tr>\n",
              "      <th>17308</th>\n",
              "      <td>13641</td>\n",
              "      <td>20-12-2017 04:16:32</td>\n",
              "      <td>హిమాచల్‌ సీఎం రేసులో నడ్డా, జైరామ్‌</td>\n",
              "      <td>షిమ్లా, డిసెంబరు 19: హిమాచల్‌ ప్రదేశ్‌ అసెంబ్ల...</td>\n",
              "      <td>nation</td>\n",
              "    </tr>\n",
              "    <tr>\n",
              "      <th>17309</th>\n",
              "      <td>17288</td>\n",
              "      <td>20-05-2017 03:00:10</td>\n",
              "      <td>సతతహరిత విప్లవం అవసరం</td>\n",
              "      <td>2022 నాటికి  రైతుల ఆదాయం రెట్టింపు చేయడానికి క...</td>\n",
              "      <td>nation</td>\n",
              "    </tr>\n",
              "    <tr>\n",
              "      <th>17310</th>\n",
              "      <td>20882</td>\n",
              "      <td>13-06-2017 04:30:36</td>\n",
              "      <td>ఇంగ్లండ్‌ జెర్సీలో వార్న్‌..!</td>\n",
              "      <td>పందెంలో ఓడిన షేనలండన్: ఆస్ట్రేలియా స్పిన్ లెజె...</td>\n",
              "      <td>sports</td>\n",
              "    </tr>\n",
              "    <tr>\n",
              "      <th>17311</th>\n",
              "      <td>13905</td>\n",
              "      <td>17-12-2017 02:12:54</td>\n",
              "      <td>ఆ శక్తి రాహుల్‌కు ఉంది!</td>\n",
              "      <td>ధైర్యంగా పార్టీని నడపగలరు దేశం సవాళ్లను ఎదుర్...</td>\n",
              "      <td>nation</td>\n",
              "    </tr>\n",
              "  </tbody>\n",
              "</table>\n",
              "<p>17312 rows × 5 columns</p>\n",
              "</div>\n",
              "      <button class=\"colab-df-convert\" onclick=\"convertToInteractive('df-2650b191-7a19-418f-ac95-4cf421f0db4e')\"\n",
              "              title=\"Convert this dataframe to an interactive table.\"\n",
              "              style=\"display:none;\">\n",
              "        \n",
              "  <svg xmlns=\"http://www.w3.org/2000/svg\" height=\"24px\"viewBox=\"0 0 24 24\"\n",
              "       width=\"24px\">\n",
              "    <path d=\"M0 0h24v24H0V0z\" fill=\"none\"/>\n",
              "    <path d=\"M18.56 5.44l.94 2.06.94-2.06 2.06-.94-2.06-.94-.94-2.06-.94 2.06-2.06.94zm-11 1L8.5 8.5l.94-2.06 2.06-.94-2.06-.94L8.5 2.5l-.94 2.06-2.06.94zm10 10l.94 2.06.94-2.06 2.06-.94-2.06-.94-.94-2.06-.94 2.06-2.06.94z\"/><path d=\"M17.41 7.96l-1.37-1.37c-.4-.4-.92-.59-1.43-.59-.52 0-1.04.2-1.43.59L10.3 9.45l-7.72 7.72c-.78.78-.78 2.05 0 2.83L4 21.41c.39.39.9.59 1.41.59.51 0 1.02-.2 1.41-.59l7.78-7.78 2.81-2.81c.8-.78.8-2.07 0-2.86zM5.41 20L4 18.59l7.72-7.72 1.47 1.35L5.41 20z\"/>\n",
              "  </svg>\n",
              "      </button>\n",
              "      \n",
              "  <style>\n",
              "    .colab-df-container {\n",
              "      display:flex;\n",
              "      flex-wrap:wrap;\n",
              "      gap: 12px;\n",
              "    }\n",
              "\n",
              "    .colab-df-convert {\n",
              "      background-color: #E8F0FE;\n",
              "      border: none;\n",
              "      border-radius: 50%;\n",
              "      cursor: pointer;\n",
              "      display: none;\n",
              "      fill: #1967D2;\n",
              "      height: 32px;\n",
              "      padding: 0 0 0 0;\n",
              "      width: 32px;\n",
              "    }\n",
              "\n",
              "    .colab-df-convert:hover {\n",
              "      background-color: #E2EBFA;\n",
              "      box-shadow: 0px 1px 2px rgba(60, 64, 67, 0.3), 0px 1px 3px 1px rgba(60, 64, 67, 0.15);\n",
              "      fill: #174EA6;\n",
              "    }\n",
              "\n",
              "    [theme=dark] .colab-df-convert {\n",
              "      background-color: #3B4455;\n",
              "      fill: #D2E3FC;\n",
              "    }\n",
              "\n",
              "    [theme=dark] .colab-df-convert:hover {\n",
              "      background-color: #434B5C;\n",
              "      box-shadow: 0px 1px 3px 1px rgba(0, 0, 0, 0.15);\n",
              "      filter: drop-shadow(0px 1px 2px rgba(0, 0, 0, 0.3));\n",
              "      fill: #FFFFFF;\n",
              "    }\n",
              "  </style>\n",
              "\n",
              "      <script>\n",
              "        const buttonEl =\n",
              "          document.querySelector('#df-2650b191-7a19-418f-ac95-4cf421f0db4e button.colab-df-convert');\n",
              "        buttonEl.style.display =\n",
              "          google.colab.kernel.accessAllowed ? 'block' : 'none';\n",
              "\n",
              "        async function convertToInteractive(key) {\n",
              "          const element = document.querySelector('#df-2650b191-7a19-418f-ac95-4cf421f0db4e');\n",
              "          const dataTable =\n",
              "            await google.colab.kernel.invokeFunction('convertToInteractive',\n",
              "                                                     [key], {});\n",
              "          if (!dataTable) return;\n",
              "\n",
              "          const docLinkHtml = 'Like what you see? Visit the ' +\n",
              "            '<a target=\"_blank\" href=https://colab.research.google.com/notebooks/data_table.ipynb>data table notebook</a>'\n",
              "            + ' to learn more about interactive tables.';\n",
              "          element.innerHTML = '';\n",
              "          dataTable['output_type'] = 'display_data';\n",
              "          await google.colab.output.renderOutput(dataTable, element);\n",
              "          const docLink = document.createElement('div');\n",
              "          docLink.innerHTML = docLinkHtml;\n",
              "          element.appendChild(docLink);\n",
              "        }\n",
              "      </script>\n",
              "    </div>\n",
              "  </div>\n",
              "  "
            ]
          },
          "metadata": {},
          "execution_count": 13
        }
      ]
    },
    {
      "cell_type": "code",
      "source": [
        "test"
      ],
      "metadata": {
        "colab": {
          "base_uri": "https://localhost:8080/",
          "height": 423
        },
        "id": "TP8x260sms2J",
        "outputId": "0c11ac3e-fdba-4acf-b375-27f1357cd1dd"
      },
      "id": "TP8x260sms2J",
      "execution_count": null,
      "outputs": [
        {
          "output_type": "execute_result",
          "data": {
            "text/plain": [
              "        SNo                 date  \\\n",
              "0      7771  19-05-2017 13:44:10   \n",
              "1      9591  01-08-2017 13:58:24   \n",
              "2     12622  05-04-2017 00:31:58   \n",
              "3     16401  30-08-2017 03:34:37   \n",
              "4     10422  10-04-2017 09:00:48   \n",
              "...     ...                  ...   \n",
              "4324   4093  18-11-2017 01:17:03   \n",
              "4325  13874  22-03-2017 19:02:03   \n",
              "4326  15364  15-06-2017 03:18:08   \n",
              "4327  17166  18-05-2017 19:22:27   \n",
              "4328   8138  15-11-2017 22:37:02   \n",
              "\n",
              "                                                heading  \\\n",
              "0                                                  కేశవ   \n",
              "1     డబ్బుల కోసం ప్రాణాల మీదకు తెచ్చుకుంటారా.. హీరో...   \n",
              "2                       దక్షిణాదిన బీజేపీ పప్పులుడకవ్‌    \n",
              "3                    పీఎస్‌ఎల్వీ-సీ39కి గ్రీన్‌సిగ్నల్‌   \n",
              "4     ఏయ్ జయప్రకాష్ అనే కేక వినిపించింది.. వెనక్కి త...   \n",
              "...                                                 ...   \n",
              "4324                                 వర్గ హత్యలు ఆగాలి!   \n",
              "4325                           'ఫేస్‌బుక్‌'పై నిషేధం..?   \n",
              "4326                     అమెరికా చట్టసభ్యుడిపై కాల్పులు   \n",
              "4327          కోటి రూపాయల.. రద్దైన పాత కరెన్సీ స్వాధీనం   \n",
              "4328                        ప్రస్తుతం ఆ కేటగిరీలో ఉన్నా   \n",
              "\n",
              "                                                   body          topic  \n",
              "0     హీరోగా తెలుగు సినిమాల్లోకి ఎంట్రీ ఇచ్చిన నిఖిల...  entertainment  \n",
              "1      సినిమాల్లో యాక్షన్ స్టంట్లు చేసేటప్పుడు ఎక్కు...  entertainment  \n",
              "2     దక్షిణ భారతాన్ని ఆక్రమించేందుకు బీజేపీ పంచెలు ...         nation  \n",
              "3      నేటి మధ్యాహ్నం 1.59కి కౌంట్‌డౌన్‌ షురూశ్రీహరి...         nation  \n",
              "4      ‘ఏమి రా... అబ్బి... యాడికి పోయినావు’ అంటూ రాయ...  entertainment  \n",
              "...                                                 ...            ...  \n",
              "4324  \\nమొన్న త్రిసూరులో పట్టపగలు ఆరెస్సెస్ కార్యకర్...      editorial  \n",
              "4325  ఇస్లామాబాద్: దైవదూషణకు సంబంధించిన సమాచారానికి ...         nation  \n",
              "4326  ఒక రిపబ్లికన్‌ సభ్యుడు, నలుగురు అధికారులకు గాయ...         nation  \n",
              "4327  థానే: కోటి రూపాయల విలువైన రద్దైన పాత రూ.1000, ...         nation  \n",
              "4328  \\n‘‘సంగీతం అనేది మహా సముద్రం. నేర్చుకునే కొద్ద...  entertainment  \n",
              "\n",
              "[4329 rows x 5 columns]"
            ],
            "text/html": [
              "\n",
              "  <div id=\"df-afd0e23a-f266-4536-8150-62924d796e8a\">\n",
              "    <div class=\"colab-df-container\">\n",
              "      <div>\n",
              "<style scoped>\n",
              "    .dataframe tbody tr th:only-of-type {\n",
              "        vertical-align: middle;\n",
              "    }\n",
              "\n",
              "    .dataframe tbody tr th {\n",
              "        vertical-align: top;\n",
              "    }\n",
              "\n",
              "    .dataframe thead th {\n",
              "        text-align: right;\n",
              "    }\n",
              "</style>\n",
              "<table border=\"1\" class=\"dataframe\">\n",
              "  <thead>\n",
              "    <tr style=\"text-align: right;\">\n",
              "      <th></th>\n",
              "      <th>SNo</th>\n",
              "      <th>date</th>\n",
              "      <th>heading</th>\n",
              "      <th>body</th>\n",
              "      <th>topic</th>\n",
              "    </tr>\n",
              "  </thead>\n",
              "  <tbody>\n",
              "    <tr>\n",
              "      <th>0</th>\n",
              "      <td>7771</td>\n",
              "      <td>19-05-2017 13:44:10</td>\n",
              "      <td>కేశవ</td>\n",
              "      <td>హీరోగా తెలుగు సినిమాల్లోకి ఎంట్రీ ఇచ్చిన నిఖిల...</td>\n",
              "      <td>entertainment</td>\n",
              "    </tr>\n",
              "    <tr>\n",
              "      <th>1</th>\n",
              "      <td>9591</td>\n",
              "      <td>01-08-2017 13:58:24</td>\n",
              "      <td>డబ్బుల కోసం ప్రాణాల మీదకు తెచ్చుకుంటారా.. హీరో...</td>\n",
              "      <td>సినిమాల్లో యాక్షన్ స్టంట్లు చేసేటప్పుడు ఎక్కు...</td>\n",
              "      <td>entertainment</td>\n",
              "    </tr>\n",
              "    <tr>\n",
              "      <th>2</th>\n",
              "      <td>12622</td>\n",
              "      <td>05-04-2017 00:31:58</td>\n",
              "      <td>దక్షిణాదిన బీజేపీ పప్పులుడకవ్‌</td>\n",
              "      <td>దక్షిణ భారతాన్ని ఆక్రమించేందుకు బీజేపీ పంచెలు ...</td>\n",
              "      <td>nation</td>\n",
              "    </tr>\n",
              "    <tr>\n",
              "      <th>3</th>\n",
              "      <td>16401</td>\n",
              "      <td>30-08-2017 03:34:37</td>\n",
              "      <td>పీఎస్‌ఎల్వీ-సీ39కి గ్రీన్‌సిగ్నల్‌</td>\n",
              "      <td>నేటి మధ్యాహ్నం 1.59కి కౌంట్‌డౌన్‌ షురూశ్రీహరి...</td>\n",
              "      <td>nation</td>\n",
              "    </tr>\n",
              "    <tr>\n",
              "      <th>4</th>\n",
              "      <td>10422</td>\n",
              "      <td>10-04-2017 09:00:48</td>\n",
              "      <td>ఏయ్ జయప్రకాష్ అనే కేక వినిపించింది.. వెనక్కి త...</td>\n",
              "      <td>‘ఏమి రా... అబ్బి... యాడికి పోయినావు’ అంటూ రాయ...</td>\n",
              "      <td>entertainment</td>\n",
              "    </tr>\n",
              "    <tr>\n",
              "      <th>...</th>\n",
              "      <td>...</td>\n",
              "      <td>...</td>\n",
              "      <td>...</td>\n",
              "      <td>...</td>\n",
              "      <td>...</td>\n",
              "    </tr>\n",
              "    <tr>\n",
              "      <th>4324</th>\n",
              "      <td>4093</td>\n",
              "      <td>18-11-2017 01:17:03</td>\n",
              "      <td>వర్గ హత్యలు ఆగాలి!</td>\n",
              "      <td>\\nమొన్న త్రిసూరులో పట్టపగలు ఆరెస్సెస్ కార్యకర్...</td>\n",
              "      <td>editorial</td>\n",
              "    </tr>\n",
              "    <tr>\n",
              "      <th>4325</th>\n",
              "      <td>13874</td>\n",
              "      <td>22-03-2017 19:02:03</td>\n",
              "      <td>'ఫేస్‌బుక్‌'పై నిషేధం..?</td>\n",
              "      <td>ఇస్లామాబాద్: దైవదూషణకు సంబంధించిన సమాచారానికి ...</td>\n",
              "      <td>nation</td>\n",
              "    </tr>\n",
              "    <tr>\n",
              "      <th>4326</th>\n",
              "      <td>15364</td>\n",
              "      <td>15-06-2017 03:18:08</td>\n",
              "      <td>అమెరికా చట్టసభ్యుడిపై కాల్పులు</td>\n",
              "      <td>ఒక రిపబ్లికన్‌ సభ్యుడు, నలుగురు అధికారులకు గాయ...</td>\n",
              "      <td>nation</td>\n",
              "    </tr>\n",
              "    <tr>\n",
              "      <th>4327</th>\n",
              "      <td>17166</td>\n",
              "      <td>18-05-2017 19:22:27</td>\n",
              "      <td>కోటి రూపాయల.. రద్దైన పాత కరెన్సీ స్వాధీనం</td>\n",
              "      <td>థానే: కోటి రూపాయల విలువైన రద్దైన పాత రూ.1000, ...</td>\n",
              "      <td>nation</td>\n",
              "    </tr>\n",
              "    <tr>\n",
              "      <th>4328</th>\n",
              "      <td>8138</td>\n",
              "      <td>15-11-2017 22:37:02</td>\n",
              "      <td>ప్రస్తుతం ఆ కేటగిరీలో ఉన్నా</td>\n",
              "      <td>\\n‘‘సంగీతం అనేది మహా సముద్రం. నేర్చుకునే కొద్ద...</td>\n",
              "      <td>entertainment</td>\n",
              "    </tr>\n",
              "  </tbody>\n",
              "</table>\n",
              "<p>4329 rows × 5 columns</p>\n",
              "</div>\n",
              "      <button class=\"colab-df-convert\" onclick=\"convertToInteractive('df-afd0e23a-f266-4536-8150-62924d796e8a')\"\n",
              "              title=\"Convert this dataframe to an interactive table.\"\n",
              "              style=\"display:none;\">\n",
              "        \n",
              "  <svg xmlns=\"http://www.w3.org/2000/svg\" height=\"24px\"viewBox=\"0 0 24 24\"\n",
              "       width=\"24px\">\n",
              "    <path d=\"M0 0h24v24H0V0z\" fill=\"none\"/>\n",
              "    <path d=\"M18.56 5.44l.94 2.06.94-2.06 2.06-.94-2.06-.94-.94-2.06-.94 2.06-2.06.94zm-11 1L8.5 8.5l.94-2.06 2.06-.94-2.06-.94L8.5 2.5l-.94 2.06-2.06.94zm10 10l.94 2.06.94-2.06 2.06-.94-2.06-.94-.94-2.06-.94 2.06-2.06.94z\"/><path d=\"M17.41 7.96l-1.37-1.37c-.4-.4-.92-.59-1.43-.59-.52 0-1.04.2-1.43.59L10.3 9.45l-7.72 7.72c-.78.78-.78 2.05 0 2.83L4 21.41c.39.39.9.59 1.41.59.51 0 1.02-.2 1.41-.59l7.78-7.78 2.81-2.81c.8-.78.8-2.07 0-2.86zM5.41 20L4 18.59l7.72-7.72 1.47 1.35L5.41 20z\"/>\n",
              "  </svg>\n",
              "      </button>\n",
              "      \n",
              "  <style>\n",
              "    .colab-df-container {\n",
              "      display:flex;\n",
              "      flex-wrap:wrap;\n",
              "      gap: 12px;\n",
              "    }\n",
              "\n",
              "    .colab-df-convert {\n",
              "      background-color: #E8F0FE;\n",
              "      border: none;\n",
              "      border-radius: 50%;\n",
              "      cursor: pointer;\n",
              "      display: none;\n",
              "      fill: #1967D2;\n",
              "      height: 32px;\n",
              "      padding: 0 0 0 0;\n",
              "      width: 32px;\n",
              "    }\n",
              "\n",
              "    .colab-df-convert:hover {\n",
              "      background-color: #E2EBFA;\n",
              "      box-shadow: 0px 1px 2px rgba(60, 64, 67, 0.3), 0px 1px 3px 1px rgba(60, 64, 67, 0.15);\n",
              "      fill: #174EA6;\n",
              "    }\n",
              "\n",
              "    [theme=dark] .colab-df-convert {\n",
              "      background-color: #3B4455;\n",
              "      fill: #D2E3FC;\n",
              "    }\n",
              "\n",
              "    [theme=dark] .colab-df-convert:hover {\n",
              "      background-color: #434B5C;\n",
              "      box-shadow: 0px 1px 3px 1px rgba(0, 0, 0, 0.15);\n",
              "      filter: drop-shadow(0px 1px 2px rgba(0, 0, 0, 0.3));\n",
              "      fill: #FFFFFF;\n",
              "    }\n",
              "  </style>\n",
              "\n",
              "      <script>\n",
              "        const buttonEl =\n",
              "          document.querySelector('#df-afd0e23a-f266-4536-8150-62924d796e8a button.colab-df-convert');\n",
              "        buttonEl.style.display =\n",
              "          google.colab.kernel.accessAllowed ? 'block' : 'none';\n",
              "\n",
              "        async function convertToInteractive(key) {\n",
              "          const element = document.querySelector('#df-afd0e23a-f266-4536-8150-62924d796e8a');\n",
              "          const dataTable =\n",
              "            await google.colab.kernel.invokeFunction('convertToInteractive',\n",
              "                                                     [key], {});\n",
              "          if (!dataTable) return;\n",
              "\n",
              "          const docLinkHtml = 'Like what you see? Visit the ' +\n",
              "            '<a target=\"_blank\" href=https://colab.research.google.com/notebooks/data_table.ipynb>data table notebook</a>'\n",
              "            + ' to learn more about interactive tables.';\n",
              "          element.innerHTML = '';\n",
              "          dataTable['output_type'] = 'display_data';\n",
              "          await google.colab.output.renderOutput(dataTable, element);\n",
              "          const docLink = document.createElement('div');\n",
              "          docLink.innerHTML = docLinkHtml;\n",
              "          element.appendChild(docLink);\n",
              "        }\n",
              "      </script>\n",
              "    </div>\n",
              "  </div>\n",
              "  "
            ]
          },
          "metadata": {},
          "execution_count": 14
        }
      ]
    },
    {
      "cell_type": "code",
      "execution_count": null,
      "id": "24f359fb",
      "metadata": {
        "id": "24f359fb",
        "scrolled": true,
        "colab": {
          "base_uri": "https://localhost:8080/",
          "height": 206
        },
        "outputId": "d4baaa4b-add0-4423-f7c7-d844ba46e926"
      },
      "outputs": [
        {
          "output_type": "execute_result",
          "data": {
            "text/plain": [
              "     SNo                 date  \\\n",
              "0    414  11-05-2017 00:39:13   \n",
              "1   2668  12-06-2017 00:40:32   \n",
              "2  19923  19-01-2017 19:51:31   \n",
              "3  15762  23-11-2017 17:29:04   \n",
              "4   8624  03-04-2017 15:48:23   \n",
              "\n",
              "                                            heading  \\\n",
              "0                            ఐడిబిఐపై ఆర్‌బిఐ నజర్‌   \n",
              "1             బ్యాంకింగ్‌ చీఫ్‌లతో నేడు జైట్లీ భేటీ   \n",
              "2                         కీలక వికెట్ తీసిన జడేజా..   \n",
              "3           మరో రెచ్చగొట్టే చర్యకు దిగిన పాకిస్థాన్   \n",
              "4  గోవాలో కొడుకుతో కలిసి అల్లు అర్జున్ స్విమ్మింగ్!   \n",
              "\n",
              "                                                body          topic  \n",
              "0  భారీ ఎత్తున మొండిబకాయిలు పెరిగిపోవడంతో ఐడిబిఐ ...       business  \n",
              "1  న్యూఢిల్లీ : ఆర్థిక మంత్రి అరుణ్‌ జైట్లీ సోమవా...       business  \n",
              "2  కటక్: ఇంగ్లండ్‌తో జరుగుతున్న సెకండ్ వన్డే మ్యా...         sports  \n",
              "3  \\nఇస్లామాబాద్ : పాకిస్థాన్ అంతర్జాతీయ ఉగ్రవాది...         nation  \n",
              "4  స్టార్‌ హీరోగా వరుస సినిమాలతో బిజీగా ఉన్నప్పటి...  entertainment  "
            ],
            "text/html": [
              "\n",
              "  <div id=\"df-ef9d0785-da45-4e07-aadb-01e8dbd06c93\">\n",
              "    <div class=\"colab-df-container\">\n",
              "      <div>\n",
              "<style scoped>\n",
              "    .dataframe tbody tr th:only-of-type {\n",
              "        vertical-align: middle;\n",
              "    }\n",
              "\n",
              "    .dataframe tbody tr th {\n",
              "        vertical-align: top;\n",
              "    }\n",
              "\n",
              "    .dataframe thead th {\n",
              "        text-align: right;\n",
              "    }\n",
              "</style>\n",
              "<table border=\"1\" class=\"dataframe\">\n",
              "  <thead>\n",
              "    <tr style=\"text-align: right;\">\n",
              "      <th></th>\n",
              "      <th>SNo</th>\n",
              "      <th>date</th>\n",
              "      <th>heading</th>\n",
              "      <th>body</th>\n",
              "      <th>topic</th>\n",
              "    </tr>\n",
              "  </thead>\n",
              "  <tbody>\n",
              "    <tr>\n",
              "      <th>0</th>\n",
              "      <td>414</td>\n",
              "      <td>11-05-2017 00:39:13</td>\n",
              "      <td>ఐడిబిఐపై ఆర్‌బిఐ నజర్‌</td>\n",
              "      <td>భారీ ఎత్తున మొండిబకాయిలు పెరిగిపోవడంతో ఐడిబిఐ ...</td>\n",
              "      <td>business</td>\n",
              "    </tr>\n",
              "    <tr>\n",
              "      <th>1</th>\n",
              "      <td>2668</td>\n",
              "      <td>12-06-2017 00:40:32</td>\n",
              "      <td>బ్యాంకింగ్‌ చీఫ్‌లతో నేడు జైట్లీ భేటీ</td>\n",
              "      <td>న్యూఢిల్లీ : ఆర్థిక మంత్రి అరుణ్‌ జైట్లీ సోమవా...</td>\n",
              "      <td>business</td>\n",
              "    </tr>\n",
              "    <tr>\n",
              "      <th>2</th>\n",
              "      <td>19923</td>\n",
              "      <td>19-01-2017 19:51:31</td>\n",
              "      <td>కీలక వికెట్ తీసిన జడేజా..</td>\n",
              "      <td>కటక్: ఇంగ్లండ్‌తో జరుగుతున్న సెకండ్ వన్డే మ్యా...</td>\n",
              "      <td>sports</td>\n",
              "    </tr>\n",
              "    <tr>\n",
              "      <th>3</th>\n",
              "      <td>15762</td>\n",
              "      <td>23-11-2017 17:29:04</td>\n",
              "      <td>మరో రెచ్చగొట్టే చర్యకు దిగిన పాకిస్థాన్</td>\n",
              "      <td>\\nఇస్లామాబాద్ : పాకిస్థాన్ అంతర్జాతీయ ఉగ్రవాది...</td>\n",
              "      <td>nation</td>\n",
              "    </tr>\n",
              "    <tr>\n",
              "      <th>4</th>\n",
              "      <td>8624</td>\n",
              "      <td>03-04-2017 15:48:23</td>\n",
              "      <td>గోవాలో కొడుకుతో కలిసి అల్లు అర్జున్ స్విమ్మింగ్!</td>\n",
              "      <td>స్టార్‌ హీరోగా వరుస సినిమాలతో బిజీగా ఉన్నప్పటి...</td>\n",
              "      <td>entertainment</td>\n",
              "    </tr>\n",
              "  </tbody>\n",
              "</table>\n",
              "</div>\n",
              "      <button class=\"colab-df-convert\" onclick=\"convertToInteractive('df-ef9d0785-da45-4e07-aadb-01e8dbd06c93')\"\n",
              "              title=\"Convert this dataframe to an interactive table.\"\n",
              "              style=\"display:none;\">\n",
              "        \n",
              "  <svg xmlns=\"http://www.w3.org/2000/svg\" height=\"24px\"viewBox=\"0 0 24 24\"\n",
              "       width=\"24px\">\n",
              "    <path d=\"M0 0h24v24H0V0z\" fill=\"none\"/>\n",
              "    <path d=\"M18.56 5.44l.94 2.06.94-2.06 2.06-.94-2.06-.94-.94-2.06-.94 2.06-2.06.94zm-11 1L8.5 8.5l.94-2.06 2.06-.94-2.06-.94L8.5 2.5l-.94 2.06-2.06.94zm10 10l.94 2.06.94-2.06 2.06-.94-2.06-.94-.94-2.06-.94 2.06-2.06.94z\"/><path d=\"M17.41 7.96l-1.37-1.37c-.4-.4-.92-.59-1.43-.59-.52 0-1.04.2-1.43.59L10.3 9.45l-7.72 7.72c-.78.78-.78 2.05 0 2.83L4 21.41c.39.39.9.59 1.41.59.51 0 1.02-.2 1.41-.59l7.78-7.78 2.81-2.81c.8-.78.8-2.07 0-2.86zM5.41 20L4 18.59l7.72-7.72 1.47 1.35L5.41 20z\"/>\n",
              "  </svg>\n",
              "      </button>\n",
              "      \n",
              "  <style>\n",
              "    .colab-df-container {\n",
              "      display:flex;\n",
              "      flex-wrap:wrap;\n",
              "      gap: 12px;\n",
              "    }\n",
              "\n",
              "    .colab-df-convert {\n",
              "      background-color: #E8F0FE;\n",
              "      border: none;\n",
              "      border-radius: 50%;\n",
              "      cursor: pointer;\n",
              "      display: none;\n",
              "      fill: #1967D2;\n",
              "      height: 32px;\n",
              "      padding: 0 0 0 0;\n",
              "      width: 32px;\n",
              "    }\n",
              "\n",
              "    .colab-df-convert:hover {\n",
              "      background-color: #E2EBFA;\n",
              "      box-shadow: 0px 1px 2px rgba(60, 64, 67, 0.3), 0px 1px 3px 1px rgba(60, 64, 67, 0.15);\n",
              "      fill: #174EA6;\n",
              "    }\n",
              "\n",
              "    [theme=dark] .colab-df-convert {\n",
              "      background-color: #3B4455;\n",
              "      fill: #D2E3FC;\n",
              "    }\n",
              "\n",
              "    [theme=dark] .colab-df-convert:hover {\n",
              "      background-color: #434B5C;\n",
              "      box-shadow: 0px 1px 3px 1px rgba(0, 0, 0, 0.15);\n",
              "      filter: drop-shadow(0px 1px 2px rgba(0, 0, 0, 0.3));\n",
              "      fill: #FFFFFF;\n",
              "    }\n",
              "  </style>\n",
              "\n",
              "      <script>\n",
              "        const buttonEl =\n",
              "          document.querySelector('#df-ef9d0785-da45-4e07-aadb-01e8dbd06c93 button.colab-df-convert');\n",
              "        buttonEl.style.display =\n",
              "          google.colab.kernel.accessAllowed ? 'block' : 'none';\n",
              "\n",
              "        async function convertToInteractive(key) {\n",
              "          const element = document.querySelector('#df-ef9d0785-da45-4e07-aadb-01e8dbd06c93');\n",
              "          const dataTable =\n",
              "            await google.colab.kernel.invokeFunction('convertToInteractive',\n",
              "                                                     [key], {});\n",
              "          if (!dataTable) return;\n",
              "\n",
              "          const docLinkHtml = 'Like what you see? Visit the ' +\n",
              "            '<a target=\"_blank\" href=https://colab.research.google.com/notebooks/data_table.ipynb>data table notebook</a>'\n",
              "            + ' to learn more about interactive tables.';\n",
              "          element.innerHTML = '';\n",
              "          dataTable['output_type'] = 'display_data';\n",
              "          await google.colab.output.renderOutput(dataTable, element);\n",
              "          const docLink = document.createElement('div');\n",
              "          docLink.innerHTML = docLinkHtml;\n",
              "          element.appendChild(docLink);\n",
              "        }\n",
              "      </script>\n",
              "    </div>\n",
              "  </div>\n",
              "  "
            ]
          },
          "metadata": {},
          "execution_count": 15
        }
      ],
      "source": [
        "train.head()"
      ]
    },
    {
      "cell_type": "code",
      "execution_count": null,
      "id": "f5efa780",
      "metadata": {
        "colab": {
          "base_uri": "https://localhost:8080/",
          "height": 206
        },
        "id": "f5efa780",
        "outputId": "69bcec7b-d62c-44ae-bc9b-9b9b1ce3d9c4"
      },
      "outputs": [
        {
          "output_type": "execute_result",
          "data": {
            "text/plain": [
              "     SNo                 date  \\\n",
              "0   7771  19-05-2017 13:44:10   \n",
              "1   9591  01-08-2017 13:58:24   \n",
              "2  12622  05-04-2017 00:31:58   \n",
              "3  16401  30-08-2017 03:34:37   \n",
              "4  10422  10-04-2017 09:00:48   \n",
              "\n",
              "                                             heading  \\\n",
              "0                                               కేశవ   \n",
              "1  డబ్బుల కోసం ప్రాణాల మీదకు తెచ్చుకుంటారా.. హీరో...   \n",
              "2                    దక్షిణాదిన బీజేపీ పప్పులుడకవ్‌    \n",
              "3                 పీఎస్‌ఎల్వీ-సీ39కి గ్రీన్‌సిగ్నల్‌   \n",
              "4  ఏయ్ జయప్రకాష్ అనే కేక వినిపించింది.. వెనక్కి త...   \n",
              "\n",
              "                                                body          topic  \n",
              "0  హీరోగా తెలుగు సినిమాల్లోకి ఎంట్రీ ఇచ్చిన నిఖిల...  entertainment  \n",
              "1   సినిమాల్లో యాక్షన్ స్టంట్లు చేసేటప్పుడు ఎక్కు...  entertainment  \n",
              "2  దక్షిణ భారతాన్ని ఆక్రమించేందుకు బీజేపీ పంచెలు ...         nation  \n",
              "3   నేటి మధ్యాహ్నం 1.59కి కౌంట్‌డౌన్‌ షురూశ్రీహరి...         nation  \n",
              "4   ‘ఏమి రా... అబ్బి... యాడికి పోయినావు’ అంటూ రాయ...  entertainment  "
            ],
            "text/html": [
              "\n",
              "  <div id=\"df-64e31c13-36ea-4593-a7cb-4dabf440573d\">\n",
              "    <div class=\"colab-df-container\">\n",
              "      <div>\n",
              "<style scoped>\n",
              "    .dataframe tbody tr th:only-of-type {\n",
              "        vertical-align: middle;\n",
              "    }\n",
              "\n",
              "    .dataframe tbody tr th {\n",
              "        vertical-align: top;\n",
              "    }\n",
              "\n",
              "    .dataframe thead th {\n",
              "        text-align: right;\n",
              "    }\n",
              "</style>\n",
              "<table border=\"1\" class=\"dataframe\">\n",
              "  <thead>\n",
              "    <tr style=\"text-align: right;\">\n",
              "      <th></th>\n",
              "      <th>SNo</th>\n",
              "      <th>date</th>\n",
              "      <th>heading</th>\n",
              "      <th>body</th>\n",
              "      <th>topic</th>\n",
              "    </tr>\n",
              "  </thead>\n",
              "  <tbody>\n",
              "    <tr>\n",
              "      <th>0</th>\n",
              "      <td>7771</td>\n",
              "      <td>19-05-2017 13:44:10</td>\n",
              "      <td>కేశవ</td>\n",
              "      <td>హీరోగా తెలుగు సినిమాల్లోకి ఎంట్రీ ఇచ్చిన నిఖిల...</td>\n",
              "      <td>entertainment</td>\n",
              "    </tr>\n",
              "    <tr>\n",
              "      <th>1</th>\n",
              "      <td>9591</td>\n",
              "      <td>01-08-2017 13:58:24</td>\n",
              "      <td>డబ్బుల కోసం ప్రాణాల మీదకు తెచ్చుకుంటారా.. హీరో...</td>\n",
              "      <td>సినిమాల్లో యాక్షన్ స్టంట్లు చేసేటప్పుడు ఎక్కు...</td>\n",
              "      <td>entertainment</td>\n",
              "    </tr>\n",
              "    <tr>\n",
              "      <th>2</th>\n",
              "      <td>12622</td>\n",
              "      <td>05-04-2017 00:31:58</td>\n",
              "      <td>దక్షిణాదిన బీజేపీ పప్పులుడకవ్‌</td>\n",
              "      <td>దక్షిణ భారతాన్ని ఆక్రమించేందుకు బీజేపీ పంచెలు ...</td>\n",
              "      <td>nation</td>\n",
              "    </tr>\n",
              "    <tr>\n",
              "      <th>3</th>\n",
              "      <td>16401</td>\n",
              "      <td>30-08-2017 03:34:37</td>\n",
              "      <td>పీఎస్‌ఎల్వీ-సీ39కి గ్రీన్‌సిగ్నల్‌</td>\n",
              "      <td>నేటి మధ్యాహ్నం 1.59కి కౌంట్‌డౌన్‌ షురూశ్రీహరి...</td>\n",
              "      <td>nation</td>\n",
              "    </tr>\n",
              "    <tr>\n",
              "      <th>4</th>\n",
              "      <td>10422</td>\n",
              "      <td>10-04-2017 09:00:48</td>\n",
              "      <td>ఏయ్ జయప్రకాష్ అనే కేక వినిపించింది.. వెనక్కి త...</td>\n",
              "      <td>‘ఏమి రా... అబ్బి... యాడికి పోయినావు’ అంటూ రాయ...</td>\n",
              "      <td>entertainment</td>\n",
              "    </tr>\n",
              "  </tbody>\n",
              "</table>\n",
              "</div>\n",
              "      <button class=\"colab-df-convert\" onclick=\"convertToInteractive('df-64e31c13-36ea-4593-a7cb-4dabf440573d')\"\n",
              "              title=\"Convert this dataframe to an interactive table.\"\n",
              "              style=\"display:none;\">\n",
              "        \n",
              "  <svg xmlns=\"http://www.w3.org/2000/svg\" height=\"24px\"viewBox=\"0 0 24 24\"\n",
              "       width=\"24px\">\n",
              "    <path d=\"M0 0h24v24H0V0z\" fill=\"none\"/>\n",
              "    <path d=\"M18.56 5.44l.94 2.06.94-2.06 2.06-.94-2.06-.94-.94-2.06-.94 2.06-2.06.94zm-11 1L8.5 8.5l.94-2.06 2.06-.94-2.06-.94L8.5 2.5l-.94 2.06-2.06.94zm10 10l.94 2.06.94-2.06 2.06-.94-2.06-.94-.94-2.06-.94 2.06-2.06.94z\"/><path d=\"M17.41 7.96l-1.37-1.37c-.4-.4-.92-.59-1.43-.59-.52 0-1.04.2-1.43.59L10.3 9.45l-7.72 7.72c-.78.78-.78 2.05 0 2.83L4 21.41c.39.39.9.59 1.41.59.51 0 1.02-.2 1.41-.59l7.78-7.78 2.81-2.81c.8-.78.8-2.07 0-2.86zM5.41 20L4 18.59l7.72-7.72 1.47 1.35L5.41 20z\"/>\n",
              "  </svg>\n",
              "      </button>\n",
              "      \n",
              "  <style>\n",
              "    .colab-df-container {\n",
              "      display:flex;\n",
              "      flex-wrap:wrap;\n",
              "      gap: 12px;\n",
              "    }\n",
              "\n",
              "    .colab-df-convert {\n",
              "      background-color: #E8F0FE;\n",
              "      border: none;\n",
              "      border-radius: 50%;\n",
              "      cursor: pointer;\n",
              "      display: none;\n",
              "      fill: #1967D2;\n",
              "      height: 32px;\n",
              "      padding: 0 0 0 0;\n",
              "      width: 32px;\n",
              "    }\n",
              "\n",
              "    .colab-df-convert:hover {\n",
              "      background-color: #E2EBFA;\n",
              "      box-shadow: 0px 1px 2px rgba(60, 64, 67, 0.3), 0px 1px 3px 1px rgba(60, 64, 67, 0.15);\n",
              "      fill: #174EA6;\n",
              "    }\n",
              "\n",
              "    [theme=dark] .colab-df-convert {\n",
              "      background-color: #3B4455;\n",
              "      fill: #D2E3FC;\n",
              "    }\n",
              "\n",
              "    [theme=dark] .colab-df-convert:hover {\n",
              "      background-color: #434B5C;\n",
              "      box-shadow: 0px 1px 3px 1px rgba(0, 0, 0, 0.15);\n",
              "      filter: drop-shadow(0px 1px 2px rgba(0, 0, 0, 0.3));\n",
              "      fill: #FFFFFF;\n",
              "    }\n",
              "  </style>\n",
              "\n",
              "      <script>\n",
              "        const buttonEl =\n",
              "          document.querySelector('#df-64e31c13-36ea-4593-a7cb-4dabf440573d button.colab-df-convert');\n",
              "        buttonEl.style.display =\n",
              "          google.colab.kernel.accessAllowed ? 'block' : 'none';\n",
              "\n",
              "        async function convertToInteractive(key) {\n",
              "          const element = document.querySelector('#df-64e31c13-36ea-4593-a7cb-4dabf440573d');\n",
              "          const dataTable =\n",
              "            await google.colab.kernel.invokeFunction('convertToInteractive',\n",
              "                                                     [key], {});\n",
              "          if (!dataTable) return;\n",
              "\n",
              "          const docLinkHtml = 'Like what you see? Visit the ' +\n",
              "            '<a target=\"_blank\" href=https://colab.research.google.com/notebooks/data_table.ipynb>data table notebook</a>'\n",
              "            + ' to learn more about interactive tables.';\n",
              "          element.innerHTML = '';\n",
              "          dataTable['output_type'] = 'display_data';\n",
              "          await google.colab.output.renderOutput(dataTable, element);\n",
              "          const docLink = document.createElement('div');\n",
              "          docLink.innerHTML = docLinkHtml;\n",
              "          element.appendChild(docLink);\n",
              "        }\n",
              "      </script>\n",
              "    </div>\n",
              "  </div>\n",
              "  "
            ]
          },
          "metadata": {},
          "execution_count": 16
        }
      ],
      "source": [
        "test.head()"
      ]
    },
    {
      "cell_type": "code",
      "execution_count": null,
      "id": "d0f957c9",
      "metadata": {
        "colab": {
          "base_uri": "https://localhost:8080/"
        },
        "id": "d0f957c9",
        "outputId": "78240e1a-84d2-49bf-b6b2-d046b5e75905"
      },
      "outputs": [
        {
          "output_type": "execute_result",
          "data": {
            "text/plain": [
              "nation           6628\n",
              "entertainment    5145\n",
              "business         2572\n",
              "sports           1908\n",
              "editorial        1059\n",
              "Name: topic, dtype: int64"
            ]
          },
          "metadata": {},
          "execution_count": 17
        }
      ],
      "source": [
        "# How many classes are there\n",
        "train[\"topic\"].value_counts()"
      ]
    },
    {
      "cell_type": "code",
      "execution_count": null,
      "id": "1dc6c9ff",
      "metadata": {
        "colab": {
          "base_uri": "https://localhost:8080/"
        },
        "id": "1dc6c9ff",
        "outputId": "2384112c-9bed-455a-8268-7914df5aa164"
      },
      "outputs": [
        {
          "output_type": "execute_result",
          "data": {
            "text/plain": [
              "((17312, 5), (4329, 5))"
            ]
          },
          "metadata": {},
          "execution_count": 18
        }
      ],
      "source": [
        "# Check the data types and shapes of our datasets\n",
        "train.shape, test.shape"
      ]
    },
    {
      "cell_type": "code",
      "execution_count": null,
      "id": "dc573b78",
      "metadata": {
        "id": "dc573b78"
      },
      "outputs": [],
      "source": [
        "# Before preprocessing our data let's extract the features we need to work with \n",
        "features = train[\"body\"].to_numpy()\n",
        "labels = train[\"topic\"].to_numpy()\n",
        "\n",
        "test_sentences = test[\"body\"].to_numpy()\n",
        "test_labels = test[\"topic\"].to_numpy()"
      ]
    },
    {
      "cell_type": "code",
      "execution_count": null,
      "id": "14f9e501",
      "metadata": {
        "id": "14f9e501",
        "colab": {
          "base_uri": "https://localhost:8080/"
        },
        "outputId": "a482ff5d-e685-4754-94c7-70f6a97977bf"
      },
      "outputs": [
        {
          "output_type": "execute_result",
          "data": {
            "text/plain": [
              "(13849, 13849, 3463, 3463)"
            ]
          },
          "metadata": {},
          "execution_count": 20
        }
      ],
      "source": [
        "# Split our data into train and validation_sets\n",
        "train_sentences, val_sentences, train_labels, val_labels = train_test_split(features, labels, test_size=0.2, random_state=42)\n",
        "\n",
        "# Check the length of valid and train datasets\n",
        "len(train_sentences), len(train_labels), len(val_sentences), len(val_labels)"
      ]
    },
    {
      "cell_type": "code",
      "execution_count": null,
      "id": "2b098f44",
      "metadata": {
        "scrolled": true,
        "id": "2b098f44"
      },
      "outputs": [],
      "source": [
        "# Convert our labels into numbers\n",
        "from sklearn.preprocessing import LabelEncoder\n",
        "enc = LabelEncoder()\n",
        "train_labels_encoded = enc.fit_transform(train_labels)\n",
        "val_labels_encoded = enc.transform(val_labels)\n",
        "test_labels_encoded = enc.transform(test_labels)"
      ]
    },
    {
      "cell_type": "code",
      "execution_count": null,
      "id": "24381bb3",
      "metadata": {
        "colab": {
          "base_uri": "https://localhost:8080/"
        },
        "id": "24381bb3",
        "outputId": "728f250a-db95-4b66-be3e-a9f0d8df147f"
      },
      "outputs": [
        {
          "output_type": "execute_result",
          "data": {
            "text/plain": [
              "array(['business', 'editorial', 'entertainment', 'nation', 'sports'],\n",
              "      dtype=object)"
            ]
          },
          "metadata": {},
          "execution_count": 22
        }
      ],
      "source": [
        "class_names = np.unique(train_labels)\n",
        "class_names"
      ]
    },
    {
      "cell_type": "markdown",
      "id": "806586ef",
      "metadata": {
        "id": "806586ef"
      },
      "source": [
        "## Becoming one with the data (Inspecting the data)"
      ]
    },
    {
      "cell_type": "code",
      "execution_count": null,
      "id": "ddddce7f",
      "metadata": {
        "colab": {
          "base_uri": "https://localhost:8080/"
        },
        "id": "ddddce7f",
        "outputId": "709b47bb-d8e3-4baf-985f-44f9a2b39fcf"
      },
      "outputs": [
        {
          "output_type": "execute_result",
          "data": {
            "text/plain": [
              "17312"
            ]
          },
          "metadata": {},
          "execution_count": 23
        }
      ],
      "source": [
        "len(features)"
      ]
    },
    {
      "cell_type": "code",
      "execution_count": null,
      "id": "92c2a963",
      "metadata": {
        "scrolled": true,
        "colab": {
          "base_uri": "https://localhost:8080/"
        },
        "id": "92c2a963",
        "outputId": "a2a612b8-9825-4719-9fab-0f5c07342945"
      },
      "outputs": [
        {
          "output_type": "stream",
          "name": "stdout",
          "text": [
            "ద‌క్షిణాదిన విడుద‌ల‌య్యే ప్రాంతీయ‌ సినిమాల‌ను బాలీవుడ్ వాళ్లు చాలా చుల‌క‌న‌గా చూస్తుంటారు. అయితే బాలీవుడ్ స్టార్ హీరో అక్ష‌య్ కుమార్ మాత్రం విభిన్నంగా స్పందించాడు ద‌క్షిణాది సినిమాల‌ను చూసి బాలీవుడ్ చాలా నేర్చుకోవాల‌ని అభిప్రాయ‌ప‌డ్డాడు. ఇటీవ‌ల దుబాయ్‌లో జ‌రిగిన `2.0` వేడుక‌లో అక్ష‌య్ మాట్లాడాడు. `నేను ఇప్ప‌టివ‌ర‌కు బాలీవుడ్‌లో 130 సినిమాలు చేశాను. `2.0` నా 131వ సినిమా. నేను 130 సినిమాల్లో నేర్చుకున్న‌దాని కంటే.. ఈ సినిమా ద్వారానే ఎక్కువ నేర్చుకున్నాను. ద‌క్షిణాది సినిమా ఎంతో ఎదిగింది. అక్క‌ణ్నుంచి బాలీవుడ్ ఎన్నో విష‌యాలు నేర్చుకోవాలి.  ద‌క్షిణాదిన క‌లిసి మెలిసి ఆనందంగా ప‌నిచేస్తారు. ఒక‌ర్ని ఒక‌రు గౌర‌వించుకుంటారు. ఒక‌రి ప్ర‌తిభ‌ను మ‌రొక‌రు ప్ర‌శంసిస్తారు` అని తెలిపాడు.\n"
          ]
        }
      ],
      "source": [
        "# visuolise random train data and its labels\n",
        "import random \n",
        "random_sentence = random.choice(features)\n",
        "print(random_sentence)"
      ]
    },
    {
      "cell_type": "markdown",
      "id": "9fd9906e",
      "metadata": {
        "id": "9fd9906e"
      },
      "source": [
        "## Preprocess the data\n",
        "\n",
        "Before going to Neural Networks we need to turn our data into numerical format in which our model can understand\n",
        "\n",
        "* TextVectorization  (Converting our text into numbers)\n",
        "* Embedding layer ( Creating embeddings from the text vectors)"
      ]
    },
    {
      "cell_type": "code",
      "execution_count": null,
      "id": "550c908d",
      "metadata": {
        "id": "550c908d"
      },
      "outputs": [],
      "source": [
        "from tensorflow.keras.layers import TextVectorization, Embedding"
      ]
    },
    {
      "cell_type": "code",
      "execution_count": null,
      "id": "bce09605",
      "metadata": {
        "colab": {
          "base_uri": "https://localhost:8080/"
        },
        "id": "bce09605",
        "outputId": "f5714c9b-5b48-4617-a596-26b6f04cb124"
      },
      "outputs": [
        {
          "output_type": "execute_result",
          "data": {
            "text/plain": [
              "172"
            ]
          },
          "metadata": {},
          "execution_count": 26
        }
      ],
      "source": [
        "# Find average number of tokens (words) in training Tweets\n",
        "round(sum([len(i.split()) for i in train_sentences])/len(train_sentences))"
      ]
    },
    {
      "cell_type": "code",
      "execution_count": null,
      "id": "82468976",
      "metadata": {
        "id": "82468976"
      },
      "outputs": [],
      "source": [
        "# Instantiating our text vectorization layer with required parameters\n",
        "max_vocab_length = 10000 # Max number of words in our vocabulary\n",
        "max_length = 173 # Output sequence length\n",
        "text_vectorizer = TextVectorization(max_tokens=max_vocab_length,\n",
        "                                   output_sequence_length=max_length)"
      ]
    },
    {
      "cell_type": "code",
      "execution_count": null,
      "id": "28b1f81f",
      "metadata": {
        "id": "28b1f81f"
      },
      "outputs": [],
      "source": [
        "# Fit the text vectorizer\n",
        "text_vectorizer.adapt(train_sentences)"
      ]
    },
    {
      "cell_type": "code",
      "execution_count": null,
      "id": "cf4b9b01",
      "metadata": {
        "id": "cf4b9b01"
      },
      "outputs": [],
      "source": [
        "# Test out the text vectorization layer\n",
        "# sample_sentence = \"ఇండియ‌న్ వారెన్ బ‌ఫెట్ రాకేష్ ఝున్‌ఝున్ వాలా ఐటీ ఉద్యోగాల‌పై ఆస‌క్తిక‌ర విష‌యాల్ని వెల్ల‌డించారు.\"\n",
        "# text_vectorizer([sample_sentence]) # The text vectorization layer is working fine"
      ]
    },
    {
      "cell_type": "code",
      "execution_count": null,
      "id": "0da228ad",
      "metadata": {
        "id": "0da228ad"
      },
      "outputs": [],
      "source": [
        "# Creating embedding layer\n",
        "embedding_1 = Embedding(input_dim=max_vocab_length,\n",
        "                       output_dim=128,\n",
        "                       embeddings_initializer='uniform',\n",
        "                       input_length=max_length,\n",
        "                       name=\"embedding_1\")"
      ]
    },
    {
      "cell_type": "code",
      "execution_count": null,
      "id": "890d2895",
      "metadata": {
        "id": "890d2895"
      },
      "outputs": [],
      "source": [
        "# Test out the embedding layer\n",
        "# sample_sentence = \"ఇండియ‌న్ వారెన్ బ‌ఫెట్ రాకేష్ ఝున్‌ఝున్ వాలా ఐటీ ఉద్యోగాల‌పై ఆస‌క్తిక‌ర విష‌యాల్ని వెల్ల‌డించారు.\"\n",
        "# sample_embedding = embedding_1(text_vectorizer([sample_sentence]))\n",
        "# sample_embedding"
      ]
    },
    {
      "cell_type": "code",
      "execution_count": null,
      "id": "869618bd",
      "metadata": {
        "colab": {
          "base_uri": "https://localhost:8080/"
        },
        "id": "869618bd",
        "outputId": "ca9bdf96-f9f8-401c-ff10-ffc0c6037bd8"
      },
      "outputs": [
        {
          "output_type": "execute_result",
          "data": {
            "text/plain": [
              "(<PrefetchDataset element_spec=(TensorSpec(shape=(None,), dtype=tf.string, name=None), TensorSpec(shape=(None,), dtype=tf.int64, name=None))>,\n",
              " <PrefetchDataset element_spec=(TensorSpec(shape=(None,), dtype=tf.string, name=None), TensorSpec(shape=(None,), dtype=tf.int64, name=None))>,\n",
              " <PrefetchDataset element_spec=(TensorSpec(shape=(None,), dtype=tf.string, name=None), TensorSpec(shape=(None,), dtype=tf.int64, name=None))>)"
            ]
          },
          "metadata": {},
          "execution_count": 32
        }
      ],
      "source": [
        "# turn our data into tensorflow datasets\n",
        "train_sentences_dataset = tf.data.Dataset.from_tensor_slices(train_sentences)\n",
        "train_labels_encoded_dataset = tf.data.Dataset.from_tensor_slices(train_labels_encoded)\n",
        "train_data = tf.data.Dataset.zip((train_sentences_dataset, train_labels_encoded_dataset)).batch(32).prefetch(tf.data.AUTOTUNE)\n",
        "\n",
        "val_sentences_dataset = tf.data.Dataset.from_tensor_slices(val_sentences)\n",
        "val_labels_encoded_dataset = tf.data.Dataset.from_tensor_slices(val_labels_encoded)\n",
        "val_data = tf.data.Dataset.zip((val_sentences_dataset, val_labels_encoded_dataset)).batch(32).prefetch(tf.data.AUTOTUNE)\n",
        "\n",
        "test_sentences_dataset = tf.data.Dataset.from_tensor_slices(test_sentences)\n",
        "test_labels_encoded_dataset = tf.data.Dataset.from_tensor_slices(test_labels_encoded)\n",
        "test_data = tf.data.Dataset.zip((test_sentences_dataset, test_labels_encoded_dataset)).batch(32).prefetch(tf.data.AUTOTUNE)\n",
        "\n",
        "train_data, val_data, test_data"
      ]
    },
    {
      "cell_type": "markdown",
      "id": "e0e764cf",
      "metadata": {
        "id": "e0e764cf"
      },
      "source": [
        "## Let's build the model\n",
        "We've converted our text into numbers.\n",
        "Now let's build our model\n",
        "* Bidirectional LSTM\n"
      ]
    },
    {
      "cell_type": "markdown",
      "source": [
        "Bidirectional LSTM\n",
        "\n",
        "\n",
        "\n"
      ],
      "metadata": {
        "id": "_cVyXwoWNiWq"
      },
      "id": "_cVyXwoWNiWq"
    },
    {
      "cell_type": "code",
      "source": [
        "from tensorflow.keras.models import Sequential, Model\n",
        "from tensorflow.keras.layers import Dense, LSTM, GRU, Conv1D, Bidirectional, Input, GlobalAveragePooling1D, GlobalMaxPooling1D"
      ],
      "metadata": {
        "id": "SHUNlTQOynX8"
      },
      "id": "SHUNlTQOynX8",
      "execution_count": null,
      "outputs": []
    },
    {
      "cell_type": "code",
      "source": [
        "# Recreate another embedding layer\n",
        "embedding_4 = Embedding(input_dim=max_vocab_length,\n",
        "                       output_dim=128,\n",
        "                        input_length=max_length,\n",
        "                       name=\"embedding_4\")\n",
        "\n",
        "# Create LSTM model with functional API\n",
        "inputs = Input(shape=(1,), dtype=\"string\", name=\"input_layer\")\n",
        "x = text_vectorizer(inputs)\n",
        "x = embedding_4(x)\n",
        "x = Bidirectional(GRU(64))(x)\n",
        "outputs = Dense(5, activation=\"softmax\", name=\"output_layer\")(x)\n",
        "\n",
        "model_4 = Model(inputs, outputs, name=\"bidirectional_model\")\n",
        "\n",
        "# Compile the model\n",
        "model_4.compile(loss=\"sparse_categorical_crossentropy\",\n",
        "               optimizer='adam',\n",
        "               metrics=[\"accuracy\"])\n",
        "\n",
        "\n",
        "# Fit the model\n",
        "bidirectional_model_history = model_4.fit(train_data,\n",
        "                                 epochs=10,\n",
        "                                 steps_per_epoch=len(train_data),\n",
        "                                 validation_data=val_data,\n",
        "                                 validation_steps=len(val_data))"
      ],
      "metadata": {
        "id": "lNaAiOTiNkEa",
        "colab": {
          "base_uri": "https://localhost:8080/"
        },
        "outputId": "0e1c073f-8328-4365-f2ac-27f30b2523ae"
      },
      "id": "lNaAiOTiNkEa",
      "execution_count": null,
      "outputs": [
        {
          "output_type": "stream",
          "name": "stdout",
          "text": [
            "Epoch 1/10\n",
            "433/433 [==============================] - 61s 117ms/step - loss: 0.5750 - accuracy: 0.7914 - val_loss: 0.2437 - val_accuracy: 0.9217\n",
            "Epoch 2/10\n",
            "433/433 [==============================] - 8s 18ms/step - loss: 0.1333 - accuracy: 0.9588 - val_loss: 0.2441 - val_accuracy: 0.9307\n",
            "Epoch 3/10\n",
            "433/433 [==============================] - 8s 18ms/step - loss: 0.0578 - accuracy: 0.9837 - val_loss: 0.3483 - val_accuracy: 0.9036\n",
            "Epoch 4/10\n",
            "433/433 [==============================] - 7s 17ms/step - loss: 0.0308 - accuracy: 0.9920 - val_loss: 0.3227 - val_accuracy: 0.9220\n",
            "Epoch 5/10\n",
            "433/433 [==============================] - 8s 18ms/step - loss: 0.0202 - accuracy: 0.9944 - val_loss: 0.3006 - val_accuracy: 0.9249\n",
            "Epoch 6/10\n",
            "433/433 [==============================] - 8s 18ms/step - loss: 0.0079 - accuracy: 0.9982 - val_loss: 0.3214 - val_accuracy: 0.9290\n",
            "Epoch 7/10\n",
            "433/433 [==============================] - 8s 18ms/step - loss: 0.0051 - accuracy: 0.9987 - val_loss: 0.3737 - val_accuracy: 0.9252\n",
            "Epoch 8/10\n",
            "433/433 [==============================] - 8s 18ms/step - loss: 0.0041 - accuracy: 0.9990 - val_loss: 0.4071 - val_accuracy: 0.9243\n",
            "Epoch 9/10\n",
            "433/433 [==============================] - 7s 17ms/step - loss: 0.0046 - accuracy: 0.9986 - val_loss: 0.4080 - val_accuracy: 0.9197\n",
            "Epoch 10/10\n",
            "433/433 [==============================] - 7s 17ms/step - loss: 0.0087 - accuracy: 0.9971 - val_loss: 0.4030 - val_accuracy: 0.9220\n"
          ]
        }
      ]
    },
    {
      "cell_type": "code",
      "source": [
        "# Get results for the bidirectional model\n",
        "bidirectional_results = calculate_results(val_labels_encoded, make_preds(model_4, val_data))\n",
        "bidirectional_results"
      ],
      "metadata": {
        "colab": {
          "base_uri": "https://localhost:8080/"
        },
        "id": "pm1tIu1C6J-e",
        "outputId": "a909b1e9-3f14-4434-e50d-db03181aaf11"
      },
      "id": "pm1tIu1C6J-e",
      "execution_count": null,
      "outputs": [
        {
          "output_type": "stream",
          "name": "stdout",
          "text": [
            "109/109 [==============================] - 2s 11ms/step\n"
          ]
        },
        {
          "output_type": "execute_result",
          "data": {
            "text/plain": [
              "{'accuracy': 92.20329194340168,\n",
              " 'precision': 0.9228001435442044,\n",
              " 'recall': 0.9220329194340168,\n",
              " 'f1': 0.9211550958626744}"
            ]
          },
          "metadata": {},
          "execution_count": 35
        }
      ]
    },
    {
      "cell_type": "code",
      "source": [
        "model_4.evaluate(test_data)"
      ],
      "metadata": {
        "id": "g8kC975_StQn",
        "colab": {
          "base_uri": "https://localhost:8080/"
        },
        "outputId": "92e048c3-7f20-4997-84ee-212dd4cef67b"
      },
      "id": "g8kC975_StQn",
      "execution_count": null,
      "outputs": [
        {
          "output_type": "stream",
          "name": "stdout",
          "text": [
            "136/136 [==============================] - 1s 9ms/step - loss: 0.3878 - accuracy: 0.9286\n"
          ]
        },
        {
          "output_type": "execute_result",
          "data": {
            "text/plain": [
              "[0.38779935240745544, 0.9286209344863892]"
            ]
          },
          "metadata": {},
          "execution_count": 36
        }
      ]
    },
    {
      "cell_type": "code",
      "source": [
        "# Visualise model predictions\n",
        "visualize_random_preds(model_4)"
      ],
      "metadata": {
        "id": "w3y9wUBvUrRS",
        "colab": {
          "base_uri": "https://localhost:8080/"
        },
        "outputId": "de268a5d-0071-4a6f-a21d-4d3beb45cc7e"
      },
      "id": "w3y9wUBvUrRS",
      "execution_count": null,
      "outputs": [
        {
          "output_type": "stream",
          "name": "stdout",
          "text": [
            "136/136 [==============================] - 1s 8ms/step\n",
            "Text: \n",
            "ఇ-వాలెట్‌ వితడ్రాల్స్‌పైనే వడ్డింపులుముంబై: ఎటిఎంల ద్వారా జరిగే ప్రతి నగదు ఉపసంహరణపై రూ-.25 చొప్పున చార్జి విధించినట్టు వచ్చిన వార్తలను ఎస్‌బిఐ తోసిపుచ్చింది. ఈ వార్తల్లో ఏ మాత్రం నిజం లేదని పేర్కొంది. అయితే ఎస్‌బిఐ మొబైల్‌ ఇ-వాలెట్‌ ‘ఎస్‌బిఐ బుడ్డి’ ఖాతాలోని నగదును ఖాతాదారులు ఎటిఎంల ద్వారా ఉపసంహరించుకుంటే మాత్రం ప్రతి లావాదేవీపై రూ.25 ఛార్జి పడుతుందని ఎస్‌బిఐ ఎండి రజనీష్‌ కుమార్‌ చెప్పారు. బుడ్డీ మొబైల్‌ ఇ-వాలెట్‌ ఖాతాదారుల కోసం  ప్రత్యేకంగా ఎటిఎంల ద్వారా నగదు తీసుకునే సదుపాయాన్ని తొలి సారిగా అందుబాటులోకి తెచ్చినట్టు తెలిపారు. ఎస్‌బిఐ సాధారణ ఎస్‌బి ఖాతాల ఎటిఎం సర్వీసు ఛార్జీల్లో ఎలాంటి మార్పు లేదన్నారు. ఎస్‌బిఐ బుడ్డి ఖాతాదారులు ఇక నుంచి బిజినెస్‌ కరస్పాండెంట్ల (బిసి) ద్వారా కూడా తమ ఖాతాల్లో నగదు జమ చేయడం లేదా వెనక్కి తీసుకోవడం చేయవచ్చని ఎస్‌బిఐ వెల్లడించింది.\n",
            "\n",
            "Predicted label: business\n",
            "\n",
            "Original label: business\n",
            "\n"
          ]
        }
      ]
    },
    {
      "cell_type": "code",
      "source": [
        "visualize_random_preds(model_4)"
      ],
      "metadata": {
        "id": "CBHOVtiTZIgo",
        "colab": {
          "base_uri": "https://localhost:8080/"
        },
        "outputId": "4582a13b-e3f3-4309-b636-0c190fc07641"
      },
      "id": "CBHOVtiTZIgo",
      "execution_count": null,
      "outputs": [
        {
          "output_type": "stream",
          "name": "stdout",
          "text": [
            "136/136 [==============================] - 1s 8ms/step\n",
            "Text: \n",
            "ఆర్కేనగర్‌ ఉప ఎన్నిక ఫలితం తమిళ రాజకీయాల్లో కీలక మలుపు. స్వతంత్ర అభ్యర్థిగా బరిలోకి దిగి భారీ విజయం సాధించిన శశికళ మేనల్లుడు దినకరన్‌ అనతికాలంలోనే అక్కడి రాజకీయ చిత్రాన్ని మార్చివేసే సూచనలు కనిపిస్తున్నాయి. అన్నాడీఎంకే కంచుకోటలో సగానికిపైగా ఓట్లు సాధించుకొని, అమ్మ రికార్డును కూడా అధిగమించి దినకరన్‌ సాధించిన ఈ విజయం అతడికి అత్యంత విలువైనది. అమ్మ రాజకీయ వారసుడిగా రాష్ట్ర ప్రజలు తనను ఆమోదించారని చెప్పుకోవడానికి బలమైన ఊతాన్నిచ్చింది. మరో మూడునెలల్లో ప్రభుత్వాన్ని కూల్చుతానని ప్రకటించి, తదనుగుణంగా పావులు కదపడానికి వీలుకల్పించింది. అమ్మ స్థానంలో ప్రమాణస్వీకారానికి సిద్ధపడి, ఆఖరు నిముషంలో జైలుకుపోవాల్సి వచ్చిన చిన్నమ్మ కుటుంబం రాజకీయ పునఃప్రవేశానికి ఈ ఫలితం మార్గం సుగమం చేసింది. క్షేత్రస్థాయిలో దినకరన్‌కు అనుకూలమైన వాతావరణం ఉన్నదని గతంలో కొందరు పసిగట్టకపోలేదు. ఊహించనిదల్లా భారీ మెజారిటీ మాత్రమే. అధికారంలో ఉన్న పళని–పన్నీరు ప్రభుత్వంపై తొలి ప్రజా తీర్పే ఇంత వ్యతిరేకంగా ఉండటం అవమానకరం, ప్రమాదకరం. ఫలితాలు రాగానే, పార్టీకి వ్యతిరేకంగా పనిచేశారంటూ దినకరన్‌ మనుషులు మరికొందరిని బహిష్కరించడం, అతను డీఎంకేతో చేతులు కలిపారని విమర్శలు చేయడం వల్ల ప్రయోజనం ఉండదు. దినకరన్‌ భారీగా సొమ్ము పంచారనీ, అతడి పక్షానికి తమ శిబిరం నుంచి ఎవరూ పోరనీ, అక్రమాలపై ఎన్నికల సంఘానికి ఫిర్యాదు చేస్తామని అధికారపక్షం ఏవేవో చెబుతున్నది. ఆత్మవిమర్శంటూ చేసుకోవడానికి ఏమీ లేదు కనుక ఇకపై అధికారపక్షం చేయగలిగేది ఎదురుదాడే. ఈ ఎదురుదాడి క్రమేపీ సన్నగిల్లి చివరకు వారే రాబోయే రోజుల్లో ఆత్మరక్షణలో పడాల్సిన స్థితి వస్తుందని ప్రత్యేకంగా చెప్పుకోనక్కరలేదు. ఆర్కేనగర్‌లో ఓటుకు నాలుగువేల నుంచి పదివేల వరకూ పంచారనీ, ఇది అత్యంత ఖరీదైన ఉప ఎన్నిక అని మీడియా ఎప్పటినుంచో అంటున్నది. డబ్బుతో, బహుమానాలతో ఓటర్లను వశపరచుకున్న వార్తల్లో అవాస్తవమేదీ లేదు కానీ, డబ్బు పంచింది దినకరన్‌ మాత్రమే కాదు.  జయవారసత్వానికీ, తమ అధికారానికీ, ఏడాదిన్నర పనితీరుకూ ఈ తీర్పు తొలి పరీక్ష కనుక అధికారపక్షమేమీ చేతులు ముడుచుకొని కూర్చోలేదు. ఓటర్లు ఒకేపార్టీ నుంచి డబ్బు తీసుకొని దానికే ఓటుచేయడం ఏ ఎన్నికలోనూ జరగదు. పార్టీలన్నింటినుంచీ ఇచ్చినంతా పుచ్చుకొని అంతిమంగా తమకు నచ్చినవారికి ఓటువేయడమే ఎప్పుడూ జరిగేది. దినకరన్‌ భారీ మెజారిటీ చూసిన తరువాత కూడా డబ్బు ఒక్కటే పనిచేసిందని భావించడం సరికాకపోవచ్చు. నిజానికి, అన్ని వ్యవస్థల కళ్ళూ ఆయనమీదే కేంద్రీకరించి ఉన్నప్పుడు మిగతావారికంటే ఆయనకే ఈ విషయంలో ఇబ్బందులు ఎక్కువ. ఇక, ఓటింగ్‌ ముందు రోజు దినకరన్‌ వర్గానికి చెందిన వెట్రివేల్‌ విడుదల చేసిన జయలలిత ఆసుపత్రి వీడియో ఓటర్లపై ఎంతోకొంత సానుకూల ప్రభావం చూపించివుండవచ్చు. శశికళ, దినకరన్‌లు అమ్మ వారసులు కారనీ, పళని పన్నీరులని అప్పటికే నిర్థారణకు వచ్చినవారిపై ఈ వీడియో పనిచేసి రాత్రికిరాత్రికి మానసు మార్చివేయగలిగే అవకాశాలు చాలా తక్కువ.  ఆసుపత్రిలో చేరేటప్పటికే అమ్మ తీవ్ర అనారోగ్యంతో ఉన్నదనీ, శశికళే అమ్మను ఏదో చేసి ఆసుపత్రిలో పడేసిందన్న ఆరోపణలు వెల్లువెత్తిన నేపథ్యంలో, అవి నిజం కాదని ఈ వీడియో చెబుతున్నది. నకిలీదో కాదో తెలియదు కానీ, ఈ వీడియో అమ్మ నియోజకవర్గంలోని ఓటర్లకు ఆమె ఆరోగ్యస్థితిపై ఎన్నడూ లేనంత స్పష్టత ఇచ్చి దినకరన్‌ మరిన్ని ఓట్లు సాధించడానికి ఉపకరించి ఉండవచ్చు. దినకరన్‌ విజయానికి చిన్నాచితకా కారణాలు పనిచేయలేదన్నది సుస్పష్టం. కేంద్రప్రభుత్వం ఆయనను దీర్ఘకాలంగా వెంటాడి వేధిస్తున్నది. చిన్నమ్మ కుటుంబానికి సన్నిహితంగా ఉన్న పారిశ్రామికవేత్తలు, సినిమా ప్రముఖులపై దాడులు జరగడంతో పాటు, ఎన్నికల కమిషన్‌ అధికారులకు లంచం ఇవ్వజూపారన్న అభియోగంతో దినకరన్‌ జైలుకు కూడా వెళ్ళొచ్చారు.  అతనివర్గం గెలుస్తుందన్న భయంతోనే గతంలో ఎన్నిక వాయిదావేశారన్న వాదన కూడా ఉన్నది. ప్రభుత్వ వ్యవస్థలు వెంటాడుతుంటే, అతడు ఎదురొడ్డి పోరాడుతున్న తీరు ఓటర్లకు నచ్చివుండవచ్చు, సానుభూతి కలిగించివుండవచ్చు. జయ మరణం తరువాత రాష్ట్రంలో చోటుచేసుకున్న పరిణామాలన్నీ ఓటర్లకు ఈ సందర్భంగా గుర్తుకు వచ్చివుంటాయి. బీజేపీ పెద్దల అండదండలు చూసుకొని పన్నీరు కన్నీరు కార్చి తిరుగుబాటు చేయడం, ప్రమాణ స్వీకారానికి సిద్ధపడిన చిన్నమ్మ జైలుకుపోవడం, బలమైన పళనివర్గాన్ని పదిమంది ఎమ్మెల్యేలు కూడా లేని పన్నీరు బెదిరించడం, కేంద్రం ఒత్తిడితో రెండు వర్గాలు చేతులు కలిపి శశికళ కుటుంబాన్ని పార్టీనుంచి వెలివేయడం వంటి పరిణామాలను ప్రజలు సరిగానే అర్థం చేసుకున్నారు. అమ్మ పేరిట ఈ రెండువర్గాలూ అంతిమంగా తమిళుల ఆత్మగౌరవాన్ని ఢిల్లీకి తాకట్టు పెట్టేశారని వారికి అనిపించి ఉంటుంది. శశికళ నెత్తిన చేయిపెట్టి ఓదార్చిన క్షణం నుంచి రాష్ట్రంలో కాలూనడానికి నరేంద్రమోదీ– అమిత్‌షాలు చేసిన కుట్రలన్నింటికీ ఆర్కేనగర్‌ ఓటర్ల తీర్పు ధీటైన సమాధానంగా కొందరు అభివర్ణించడంలో తప్పేమీ లేదు.  ఇకపై, దినకరన్‌ ఏం చేయబోతారన్నది పెద్ద విషయం కాదు. ఓడిపోయివుంటే ఆయన పక్షాన మిగిలిన 18 మంది ఎమ్మెల్యేల వైఖరి మీద స్పష్టత వచ్చేది. ఇకపై, మోదీ జగన్నాటకంలో భాగస్వాములైన పళని–పన్నీరు వర్గం తనను తాను బలహీనపడకుండా ఎలా కాపాడుకుంటుందో చూడాలి. దినకరన్‌ మరో పార్టీయే పెడతారో, ఉన్నదానినే ఎలా చీల్చి స్వాధీనం చేసుకుంటారో ఇప్పుడే చెప్పలేం కానీ, చిన్నమ్మ పునఃప్రవేశానికి ఈ తీర్పు తొలిమెట్టు.\n",
            "\n",
            "Predicted label: nation\n",
            "\n",
            "Original label: editorial\n",
            "\n"
          ]
        }
      ]
    },
    {
      "cell_type": "code",
      "source": [
        "visualize_random_preds(model_4)"
      ],
      "metadata": {
        "id": "725UsDFWcogg",
        "colab": {
          "base_uri": "https://localhost:8080/"
        },
        "outputId": "b0cb2b17-5827-4975-a6dc-55705b80356b"
      },
      "id": "725UsDFWcogg",
      "execution_count": null,
      "outputs": [
        {
          "output_type": "stream",
          "name": "stdout",
          "text": [
            "136/136 [==============================] - 1s 8ms/step\n",
            "Text: \n",
            "\n",
            "అన్నీ సవ్యంగా ఉన్నప్పుడు ఆనందంగా ఉండటం కాదు, ప్రతికూల పరిస్థితుల్లోనూ నవ్వగలిగిన వాళ్లు గొప్పవాళ్లు. అలాంటి వ్యక్తుల జాబితాలో ఉండటానికి ప్రయత్నం చేస్తున్నానని అంటోంది త్రిష. ప్రస్తుతం వరుస చిత్రాలతో బిజీగా ఉన్న త్రిష మాట్లాడుతూ ‘‘విషయం ఏదైనా లాజికల్‌గా, మానసికంగా ఆలోచించడం నాకు అలవాటు. కొన్నిసార్లు ఎంత ఆలోచించి నిర్ణయాలు తీసుకున్నా ఎక్కడో లోపం జరుగుతుంది. ఆశించిన ఫలితాలు రావు. అంతమాత్రానికే డీలా పడాల్సిన అవసరం లేదు. పెళ్లి ఆగినంత మాత్రాన వివాహ వ్యవస్థ మీద ద్వేషం పెంచుకోవడం ఎందుకు? నాకు పెళ్లి మీద ఇంకా నమ్మకం ఉంది. నన్ను నన్నుగా ప్రేమించగలిగిన వ్యక్తి కోసం వెయిట్‌ చేస్తున్నా. ప్రేమ లేని చోట ఏ బంధం నిలవదు. వయసు మీద పడుతుందనో, సమాజంలో నలుగురూ ఆరా తీస్తున్నారనో ఎవరినో ఒకరిని పెళ్లి చేసుకుని ఇబ్బందులు పడుతున్నవారిని చాలా మందిని చూస్తుంటాం. అలాంటివారిలో ఒకరిగా మిగలడం నాకు నచ్చదు. పెళ్లికి, వయసుకు సంబంధం లేదని నా ఫీలింగ్‌’’ అని చెప్పుకొచ్చింది - త్రిష\n",
            "\n",
            "Predicted label: entertainment\n",
            "\n",
            "Original label: entertainment\n",
            "\n"
          ]
        }
      ]
    },
    {
      "cell_type": "code",
      "source": [
        "visualize_random_preds(model_4)"
      ],
      "metadata": {
        "id": "Dc7MIvpocpO2",
        "colab": {
          "base_uri": "https://localhost:8080/"
        },
        "outputId": "6f5f2706-f599-441b-9132-84b28bb19b68"
      },
      "id": "Dc7MIvpocpO2",
      "execution_count": null,
      "outputs": [
        {
          "output_type": "stream",
          "name": "stdout",
          "text": [
            "136/136 [==============================] - 1s 8ms/step\n",
            "Text: \n",
            "న్యూఢిల్లీ: దేశీయ ఐటి రంగంలో పెద్ద ఎత్తున ఉద్యోగాలు గల్లంతవుతున్నాయి. కొత్త నియామకాలు అంతంత మాత్రంగానే సాగుతున్నాయి. అబ్బురపడే రీతిలో వేతనాలు పెంచుతున్నారన్న మాట వినిపించడం లేదు. ఇలాంటి పరిణామాలు దేశంలోని సాఫ్ట్‌వేర్‌ అండ్‌ సర్వీసెస్‌ హబ్స్‌గా ఉన్న పట్టణాల్లో ఇళ్ల అద్దెలను ప్రభావితం చేస్తున్నాయని పరిశ్రమ సంఘం అసోచామ్‌ నివేదిక చెబుతోంది. జూలై నుంచి తదుపరి మూడు త్రైమాసికాల్లో ఇళ్ల అద్దెలు 10 శాతం నుంచి 20 శాతం వరకు తగ్గవచ్చని అసోచామ్‌ పేర్కొంది. నియామకాలు, ఉద్యోగుల వార్షిక వేతనాల పెంపుపై ఒత్తిడి నెలకొన్న నేపథ్యంలో బెంగళూరులోని ఇళ్ల యజమానులు ఇళ్ల అద్దెలను తగ్గిస్తున్నట్టు తెలిపింది. ఇప్పటికే అద్దెకు ఉన్న వారు పరిశ్రమలో నెలకొన్న పరిస్థితిని గురించి వివరిస్తూ అద్దె పెంచకుండా ఉండేలా యజమానులతో మాట్లాడుకుంటున్నారని పేర్కొంది. నెలవారీగా 50 వేల రూపాయలకన్నా ఎక్కువ అద్దె చెల్లిస్తున్న వారికి పరిస్థితి కాస్త సానుకూలంగా మారుతోంది. ఇక వచ్చే మూడు  త్రైమాసికాల్లో బెంగళూరు, చెన్నై, హైదరాబాద్‌ వంటి నగరాల్లో ఇళ్ల అద్దెలు 10-15 శాతం తగ్గవచ్చని, పుణెలో 20 శాతం వరకు తగ్గడానికి ఆస్కారం ఉందని అసోచామ్‌ నివేదిక చెబుతోంది.\n",
            "\n",
            "Predicted label: business\n",
            "\n",
            "Original label: business\n",
            "\n"
          ]
        }
      ]
    },
    {
      "cell_type": "code",
      "source": [
        "visualize_random_preds(model_4)"
      ],
      "metadata": {
        "id": "hM0ZbjE3cqHK",
        "colab": {
          "base_uri": "https://localhost:8080/"
        },
        "outputId": "4a2d0df2-104a-429b-cb9e-7f1a4b13c5dd"
      },
      "id": "hM0ZbjE3cqHK",
      "execution_count": null,
      "outputs": [
        {
          "output_type": "stream",
          "name": "stdout",
          "text": [
            "136/136 [==============================] - 1s 8ms/step\n",
            "Text: \n",
            "ట్రంప్‌ ప్రభుత్వం కొత్త నిబంధనలతో వలసదారులపై కొరడా ఝళిపించింది. అక్రమ వలసదారులను సాధ్యమైనంత త్వరగా దేశం నుంచి పంపించి వేసేందుకు అమెరికా అంతర్గత భద్రతా విభాగం (డీహెచ్‌ఎస్‌) కార్యదర్శి జాన్‌ కెల్లీ మంగళవారం తాజాగా రెండు ఆదేశాలను జారీచేసింది. గత నెలలో ట్రంప్‌ జారీ చేసిన ఎగ్జిక్యూటివ్‌ ఆర్డర్‌, డీహెచ్‌ఎస్‌ విడుదల చేసిన ఎన్‌ఫోర్స్‌మెంట్‌ మెమోల నేపథ్యంలో అక్రమ వలసలపై అమెరికా విధానాలు మరింత కఠినతరం కానున్నాయి. ఈ ఆదేశాల ప్రకారం అక్రమంగా సరిహద్దు దాటిన వారిని, ట్రాఫిక్‌ నిబంధనల ఉల్లంఘన సహా ఏ చిన్న తప్పు చేసినా, నేరం చేయబోతాడనే అనుమానం వచ్చినా దేశం నుంచి బహిష్కరించేందుకు అమెరికా ప్రభుత్వం రంగం సిద్ధం చేసింది. క్రిమినల్ కేసులున్న అక్రమ వలసదారులే ప్రస్తుతం తమ లక్ష్యమని అమెరికా ప్రభుత్వం చెబుతున్నప్పటికీ, అనంతర కాలంలో ఇది క్రమంగా అందరికీ వర్తిస్తుంది. అమెరికాలో వివిధ దేశాలకు చెందిన అక్రమంగా నివసిస్తున్న కోటి యాభై లక్షల మంది ప్రజలపై ట్రంప్‌ ప్రభుత్వ కొత్త నిబంధనల ప్రభావం పడనుంది. అమెరికాలో ఉంటూ తగిన అధికారిక అనుమతి పత్రాలు లేకుండానే చిన్న చిన్న ఉద్యోగాలు చేసుకుంటున్న మూడు లక్షల మంది భారతీయ అమెరికన్ల పరిస్థితి అగమ్యగోచరంగా మారింది. నేర చరిత్రగల విదేశీయులను దేశ భద్రతకు ఆటంకం కలిగించేవారిగా పరిగణించి వారందర్నీ దేశం నుంచి పంపించివేయాలనే ప్రభుత్వం నిర్ణయించింది. ట్రంప్‌ కొత్త నిబంధనల ప్రకారం కోర్టు విచారణ వంటి న్యాయ ప్రక్రియ అవసరం లేకుండానే వలసదారులను దేశం నుంచి పంపించవచ్చు. విదేశీయులపై ట్రంప్‌ చేపట్టిన నూతన దేశ బహిష్కరణ విధానాన్ని డెమోక్రాట్లు సహా ప్రజాస్వామికవాదులందరూ తప్పుపడుతున్నారు. రెడ్‌ ఇండియన్‌ మూలవాసీలను నిర్మూలించి, చారిత్రక అక్రమ వలసల పునాదిపై అమెరికన్‌ సమాజం మొలకెత్తిన విషయం తెలిసిందే. ప్రపంచవ్యాప్త భౌతిక, బౌద్ధిక శక్తుల పునాదిపై ఏర్పడిన బహళత్వం సమాజం ప్రపంచ ఆర్థిక సంక్షోభం పర్యవసానంగా నేడు సామాజికార్థిక ఆత్మరక్షణ విధానాల ద్వారా ముకుళిస్తోంది. ప్రపంచానికి పెద్దన్నగా ఉంటూ భూగోళ ఇంధనవనరుల వంటి ప్రకృతి సంపదలు, ప్రపంచ ఆర్థిక వ్యవస్థపై ఆధిపత్యం వహిస్తున్న సందర్భంలో అమెరికా పాలకులు తమ దేశంలోకి చౌక శ్రమశక్తి, చౌక మేధాశక్తి వలసలను బాగా ప్రోత్సహించారు. వినిమయ సరుకుల ఉత్పత్తి రంగం నుంచి ద్రవ్య వాణిజ్యం, సాఫ్ట్‌వేర్‌ ప్రధానంగా సాంకేతిక రంగానికే పరిమితమైన ఆమెరికా ఆర్థిక వ్యవస్థ క్రమంగా 2007నాటి గృహ రుణాల సంక్షోభంతో మొదలై తీవ్ర ఆర్థిక మాంద్యంలో కూరుకుపోయింది. పర్యవసానంగా అమెరికాలో నిరుద్యోగం ప్రబలి సామాజిక అశాంతి క్రమంగా పెరిగింది. మునుపటి స్థాయి ఆర్థిక వికాసాన్ని సాధించలేమన్న నిరాశా నిస్పృహలు అలుముకున్న నేపథ్యంలో అమెరికా ఉద్యోగాలు ‘అమెరికన్లకే అనే నినాదంతో ముందుకొచ్చిన’ రిపబ్లికన్‌ పార్టీ నాయకుడు ట్రంప్‌కు స్థానిక అమెరికన్లు పట్టం కట్టారు. అమెరికన్ల నిరుద్యోగానికి, ఉగ్రవాద దాడుల భయాందోళనలకు, ఆ సమాజంలో నేర స్వభావం పెచ్చరిల్లడానికి, ఆర్థిక వ్యవస్థ మాంద్యంలోకి కూరుకుపోవడానికి ప్రధాన కారణం తమ అవకాశాలను దెబ్బతీస్తున్న విదేశీ వలసదారులే అన్న భావం స్థానిక తెల్ల జాతీయులలోనే కాకుండా, ఆఫ్రికన్‌ అమెరికన్లలోనూ, భారతీయ సంతతికి చెందిన అమెరికన్లు (పీఐఓ) సహా అమెరికా పౌరులందరిలోనూ వలసకారులపై విద్వేషం ఏర్పడింది. దాంతో ఈ సామాజిక సమూహాలన్నీ వలసల్ని వ్యతిరేకిస్తున్న మితవాది ట్రంప్‌ను పూర్తిగా సమర్థించడం అమెరికా సమాజానికి కొత్త సవాళ్ళు ఎదురైనాయి. సమాజంలో అలుముకున్న విదేశీయతా వైముఖ్యం (జెనోఫోబియా) పునాదిపైనే ట్రంప్‌ కొత్త నిబంధనలు అవతరించాయి. రెండవ ప్రపంచ యుద్ధానంతరం అగ్రరాజ్యంగా అవతరించిన నాటి నుంచి అమెరికా అనుసరించిన భౌగోళిక రాజకీయాలు, దురాక్రమణ యుద్ధాలు, ఉగ్రవాద వ్యతిరేక యుద్ధం పేరుతో సాగించిన నేరాలు, ఎకనామిక్‌ హిట్‌ మాన్‌ల సహకారంతో సాగించిన కార్పొరేట్‌ కుట్రలు, దేశ ప్రజల జీవితాల్ని పణంగా పెట్టి అమలు చేసిన వలసవాద (స్వదేశీ, విదేశీ) ఆర్థిక విధానాలే అమెరికాలో అలుముకున్న ఉదాసీనతకు ప్రధాన కారణం. దాన్ని దాచిపెట్టి పొట్టచేతబట్టుకుని వలస వచ్చినవారిని దోషులుగా చేసి, వారిపైకి స్థానిక అమెరికన్ల విద్వేషాన్ని రెచ్చగొట్టడం వల్ల సామాజిక సమస్యల పరిష్కారాల్ని కొంతకాలం వాయిదా వేయొచ్చు. అయితే ట్రంప్‌ అధ్యక్షుడిగా ప్రమాణ స్వీకారం చేయక ముందు నుంచి ఆయనకు వ్యతిరేకంగా సాగుతున్న ‘ట్రంప్‌ మా కొద్దు’ తరహా ఉద్యమాలు అమెరికా సమాజ బహుళ ప్రజాస్వామిక సాంప్రదాయాలకు, విలువలకు అద్దం పడుతున్నాయి. అయితే ఆ దేశ సామాజికార్థిక విధానాల్లో మౌలికంగా ప్రజా ప్రయోజనకరమైన మార్పులు చోటు చేసుకోనంత వరకు ఉగ్రవాద ప్రమాదం సాకుతో వలసల నియంత్రించేందుకు ట్రంప్‌ చేపట్టిన విధానాలు ఆ దేశ ప్రజాస్వామిక విలువల వారసత్వాన్ని దెబ్బతీస్తాయి. చరిత్రలో ఆర్థిక వికాస కాలంలో వలసల్ని ప్రోత్సహించడం, సంక్షోభ కాలంలో వలసల్ని, వలస ప్రజల్ని కట్టడి చేయడం పారిశ్రామిక సమాజాలకు పరిపాటే. అమెరికా తదితర దేశాల విధానాల్లో వస్తున్న ఈ మార్పుల నేపథ్యంలో దేశానికి తిరిగి రాబోతున్న శ్రమశక్తిని, మేధాశక్తిని దేశ ఆర్థిక వికాసానికి దోహదం చేసే విధంగా మలచుకోగలగాలి. అందుకోసం తాత్కాలిక, దీర్ఘకాలిక ప్రణాళికలతో కూడిన జాతీయ విధానాన్ని దూరదృష్టితో రూపొందించాల్సిన తరుణమిది.\n",
            "\n",
            "Predicted label: nation\n",
            "\n",
            "Original label: editorial\n",
            "\n"
          ]
        }
      ]
    }
  ],
  "metadata": {
    "colab": {
      "provenance": [],
      "collapsed_sections": [
        "42f2f1e1",
        "3f7d7bec",
        "41d437bb"
      ]
    },
    "kernelspec": {
      "display_name": "Python 3 (ipykernel)",
      "language": "python",
      "name": "python3"
    },
    "language_info": {
      "codemirror_mode": {
        "name": "ipython",
        "version": 3
      },
      "file_extension": ".py",
      "mimetype": "text/x-python",
      "name": "python",
      "nbconvert_exporter": "python",
      "pygments_lexer": "ipython3",
      "version": "3.9.7"
    },
    "accelerator": "GPU"
  },
  "nbformat": 4,
  "nbformat_minor": 5
}