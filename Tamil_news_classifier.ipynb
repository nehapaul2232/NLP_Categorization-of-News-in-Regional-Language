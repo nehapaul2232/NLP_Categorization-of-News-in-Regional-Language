{
  "nbformat": 4,
  "nbformat_minor": 0,
  "metadata": {
    "colab": {
      "provenance": []
    },
    "kernelspec": {
      "name": "python3",
      "display_name": "Python 3"
    },
    "language_info": {
      "name": "python"
    }
  },
  "cells": [
    {
      "cell_type": "code",
      "execution_count": null,
      "metadata": {
        "id": "tlMJtE5ZMixk"
      },
      "outputs": [],
      "source": [
        "import numpy as np\n",
        "import pandas as pd\n",
        "import seaborn as sns\n",
        "import matplotlib.pyplot as plt\n",
        "from wordcloud import WordCloud, STOPWORDS, ImageColorGenerator\n",
        "%matplotlib inline"
      ]
    },
    {
      "cell_type": "code",
      "source": [
        "train_data = pd.read_csv('tamil_news_train.csv')\n",
        "test_data = pd.read_csv('tamil_news_test.csv')"
      ],
      "metadata": {
        "id": "W7c9eQqwM5BU"
      },
      "execution_count": null,
      "outputs": []
    },
    {
      "cell_type": "code",
      "source": [
        "train_data"
      ],
      "metadata": {
        "id": "CSi4KXNnM5EF",
        "colab": {
          "base_uri": "https://localhost:8080/",
          "height": 623
        },
        "outputId": "1e1514a9-e148-4db6-c576-e3fdf74cf4f6"
      },
      "execution_count": null,
      "outputs": [
        {
          "output_type": "execute_result",
          "data": {
            "text/plain": [
              "                                           NewsInEnglish  \\\n",
              "0      2017/May/19941-miss-iraq-competition-after-43-...   \n",
              "1      2018/Dec/55921-viswasam-s-rustic-folk-song-has...   \n",
              "2      2018/Dec/55929-inspector-who-bought-insurance-...   \n",
              "3                2017/Jan/16161-morarji-desai-budget.txt   \n",
              "4      2018/Jun/46476-i-have-not-joined-bjp-or-anyoth...   \n",
              "...                                                  ...   \n",
              "14516  2018/Apr/43310-karnataka-assembly-elections-20...   \n",
              "14517  2017/Dec/38185-the-police-made-elaborate-arran...   \n",
              "14518  2018/Jun/47685-chennai-hdfc-customer-money-the...   \n",
              "14519  2018/Aug/49520-pv-sindhu-settles-for-second-su...   \n",
              "14520  2018/May/45978-tamil-nadu-deputy-cm-o-panneers...   \n",
              "\n",
              "                                             NewsInTamil   Category  \\\n",
              "0             ஈராக்கில் 43 ஆண்டுகள் கழித்து அழகிப்போட்டி      world   \n",
              "1      இந்திய அளவில் ட்ரெண்ட் ஆன அஜித்தின் ‘தள்லே தில...     cinema   \n",
              "2      சொந்த செலவில் வாகன காப்பீடு எடுத்து கொடுத்த கா...  tamilnadu   \n",
              "3                  பிறந்தநாளில் பட்ஜெட் தாக்கல் செய்தவர்      india   \n",
              "4      “நானா? பாஜகவில் இணைந்துவிட்டேனா” - வரலட்சுமி வ...     cinema   \n",
              "...                                                  ...        ...   \n",
              "14516  ‘மோடி கூட்டத்தில் கலகம் செய்யுங்கள்’: ஜிக்னேஷ்...   politics   \n",
              "14517  புத்தாண்டு கொண்டாட்டம்: சென்னையில் 3,500 போலீச...  tamilnadu   \n",
              "14518               ‘இரும்புத்திரை’ பட பாணியில் திருட்டு  tamilnadu   \n",
              "14519     தங்க மங்கை பி.வி.சிந்துவின் சாதனைக் களங்கள் !       india   \n",
              "14520  துப்பாக்கிச் சூடு சம்பவம் நெஞ்சை உருக்குகிறது:...  tamilnadu   \n",
              "\n",
              "      CategoryInTamil  \n",
              "0               உலகம்  \n",
              "1              சினிமா  \n",
              "2           தமிழ்நாடு  \n",
              "3             இந்தியா  \n",
              "4              சினிமா  \n",
              "...               ...  \n",
              "14516         அரசியல்  \n",
              "14517       தமிழ்நாடு  \n",
              "14518       தமிழ்நாடு  \n",
              "14519         இந்தியா  \n",
              "14520       தமிழ்நாடு  \n",
              "\n",
              "[14521 rows x 4 columns]"
            ],
            "text/html": [
              "\n",
              "  <div id=\"df-e82d2281-4319-48d2-94d3-6831421ffa8f\">\n",
              "    <div class=\"colab-df-container\">\n",
              "      <div>\n",
              "<style scoped>\n",
              "    .dataframe tbody tr th:only-of-type {\n",
              "        vertical-align: middle;\n",
              "    }\n",
              "\n",
              "    .dataframe tbody tr th {\n",
              "        vertical-align: top;\n",
              "    }\n",
              "\n",
              "    .dataframe thead th {\n",
              "        text-align: right;\n",
              "    }\n",
              "</style>\n",
              "<table border=\"1\" class=\"dataframe\">\n",
              "  <thead>\n",
              "    <tr style=\"text-align: right;\">\n",
              "      <th></th>\n",
              "      <th>NewsInEnglish</th>\n",
              "      <th>NewsInTamil</th>\n",
              "      <th>Category</th>\n",
              "      <th>CategoryInTamil</th>\n",
              "    </tr>\n",
              "  </thead>\n",
              "  <tbody>\n",
              "    <tr>\n",
              "      <th>0</th>\n",
              "      <td>2017/May/19941-miss-iraq-competition-after-43-...</td>\n",
              "      <td>ஈராக்கில் 43 ஆண்டுகள் கழித்து அழகிப்போட்டி</td>\n",
              "      <td>world</td>\n",
              "      <td>உலகம்</td>\n",
              "    </tr>\n",
              "    <tr>\n",
              "      <th>1</th>\n",
              "      <td>2018/Dec/55921-viswasam-s-rustic-folk-song-has...</td>\n",
              "      <td>இந்திய அளவில் ட்ரெண்ட் ஆன அஜித்தின் ‘தள்லே தில...</td>\n",
              "      <td>cinema</td>\n",
              "      <td>சினிமா</td>\n",
              "    </tr>\n",
              "    <tr>\n",
              "      <th>2</th>\n",
              "      <td>2018/Dec/55929-inspector-who-bought-insurance-...</td>\n",
              "      <td>சொந்த செலவில் வாகன காப்பீடு எடுத்து கொடுத்த கா...</td>\n",
              "      <td>tamilnadu</td>\n",
              "      <td>தமிழ்நாடு</td>\n",
              "    </tr>\n",
              "    <tr>\n",
              "      <th>3</th>\n",
              "      <td>2017/Jan/16161-morarji-desai-budget.txt</td>\n",
              "      <td>பிறந்தநாளில் பட்ஜெட் தாக்கல் செய்தவர்</td>\n",
              "      <td>india</td>\n",
              "      <td>இந்தியா</td>\n",
              "    </tr>\n",
              "    <tr>\n",
              "      <th>4</th>\n",
              "      <td>2018/Jun/46476-i-have-not-joined-bjp-or-anyoth...</td>\n",
              "      <td>“நானா? பாஜகவில் இணைந்துவிட்டேனா” - வரலட்சுமி வ...</td>\n",
              "      <td>cinema</td>\n",
              "      <td>சினிமா</td>\n",
              "    </tr>\n",
              "    <tr>\n",
              "      <th>...</th>\n",
              "      <td>...</td>\n",
              "      <td>...</td>\n",
              "      <td>...</td>\n",
              "      <td>...</td>\n",
              "    </tr>\n",
              "    <tr>\n",
              "      <th>14516</th>\n",
              "      <td>2018/Apr/43310-karnataka-assembly-elections-20...</td>\n",
              "      <td>‘மோடி கூட்டத்தில் கலகம் செய்யுங்கள்’: ஜிக்னேஷ்...</td>\n",
              "      <td>politics</td>\n",
              "      <td>அரசியல்</td>\n",
              "    </tr>\n",
              "    <tr>\n",
              "      <th>14517</th>\n",
              "      <td>2017/Dec/38185-the-police-made-elaborate-arran...</td>\n",
              "      <td>புத்தாண்டு கொண்டாட்டம்: சென்னையில் 3,500 போலீச...</td>\n",
              "      <td>tamilnadu</td>\n",
              "      <td>தமிழ்நாடு</td>\n",
              "    </tr>\n",
              "    <tr>\n",
              "      <th>14518</th>\n",
              "      <td>2018/Jun/47685-chennai-hdfc-customer-money-the...</td>\n",
              "      <td>‘இரும்புத்திரை’ பட பாணியில் திருட்டு</td>\n",
              "      <td>tamilnadu</td>\n",
              "      <td>தமிழ்நாடு</td>\n",
              "    </tr>\n",
              "    <tr>\n",
              "      <th>14519</th>\n",
              "      <td>2018/Aug/49520-pv-sindhu-settles-for-second-su...</td>\n",
              "      <td>தங்க மங்கை பி.வி.சிந்துவின் சாதனைக் களங்கள் !</td>\n",
              "      <td>india</td>\n",
              "      <td>இந்தியா</td>\n",
              "    </tr>\n",
              "    <tr>\n",
              "      <th>14520</th>\n",
              "      <td>2018/May/45978-tamil-nadu-deputy-cm-o-panneers...</td>\n",
              "      <td>துப்பாக்கிச் சூடு சம்பவம் நெஞ்சை உருக்குகிறது:...</td>\n",
              "      <td>tamilnadu</td>\n",
              "      <td>தமிழ்நாடு</td>\n",
              "    </tr>\n",
              "  </tbody>\n",
              "</table>\n",
              "<p>14521 rows × 4 columns</p>\n",
              "</div>\n",
              "      <button class=\"colab-df-convert\" onclick=\"convertToInteractive('df-e82d2281-4319-48d2-94d3-6831421ffa8f')\"\n",
              "              title=\"Convert this dataframe to an interactive table.\"\n",
              "              style=\"display:none;\">\n",
              "        \n",
              "  <svg xmlns=\"http://www.w3.org/2000/svg\" height=\"24px\"viewBox=\"0 0 24 24\"\n",
              "       width=\"24px\">\n",
              "    <path d=\"M0 0h24v24H0V0z\" fill=\"none\"/>\n",
              "    <path d=\"M18.56 5.44l.94 2.06.94-2.06 2.06-.94-2.06-.94-.94-2.06-.94 2.06-2.06.94zm-11 1L8.5 8.5l.94-2.06 2.06-.94-2.06-.94L8.5 2.5l-.94 2.06-2.06.94zm10 10l.94 2.06.94-2.06 2.06-.94-2.06-.94-.94-2.06-.94 2.06-2.06.94z\"/><path d=\"M17.41 7.96l-1.37-1.37c-.4-.4-.92-.59-1.43-.59-.52 0-1.04.2-1.43.59L10.3 9.45l-7.72 7.72c-.78.78-.78 2.05 0 2.83L4 21.41c.39.39.9.59 1.41.59.51 0 1.02-.2 1.41-.59l7.78-7.78 2.81-2.81c.8-.78.8-2.07 0-2.86zM5.41 20L4 18.59l7.72-7.72 1.47 1.35L5.41 20z\"/>\n",
              "  </svg>\n",
              "      </button>\n",
              "      \n",
              "  <style>\n",
              "    .colab-df-container {\n",
              "      display:flex;\n",
              "      flex-wrap:wrap;\n",
              "      gap: 12px;\n",
              "    }\n",
              "\n",
              "    .colab-df-convert {\n",
              "      background-color: #E8F0FE;\n",
              "      border: none;\n",
              "      border-radius: 50%;\n",
              "      cursor: pointer;\n",
              "      display: none;\n",
              "      fill: #1967D2;\n",
              "      height: 32px;\n",
              "      padding: 0 0 0 0;\n",
              "      width: 32px;\n",
              "    }\n",
              "\n",
              "    .colab-df-convert:hover {\n",
              "      background-color: #E2EBFA;\n",
              "      box-shadow: 0px 1px 2px rgba(60, 64, 67, 0.3), 0px 1px 3px 1px rgba(60, 64, 67, 0.15);\n",
              "      fill: #174EA6;\n",
              "    }\n",
              "\n",
              "    [theme=dark] .colab-df-convert {\n",
              "      background-color: #3B4455;\n",
              "      fill: #D2E3FC;\n",
              "    }\n",
              "\n",
              "    [theme=dark] .colab-df-convert:hover {\n",
              "      background-color: #434B5C;\n",
              "      box-shadow: 0px 1px 3px 1px rgba(0, 0, 0, 0.15);\n",
              "      filter: drop-shadow(0px 1px 2px rgba(0, 0, 0, 0.3));\n",
              "      fill: #FFFFFF;\n",
              "    }\n",
              "  </style>\n",
              "\n",
              "      <script>\n",
              "        const buttonEl =\n",
              "          document.querySelector('#df-e82d2281-4319-48d2-94d3-6831421ffa8f button.colab-df-convert');\n",
              "        buttonEl.style.display =\n",
              "          google.colab.kernel.accessAllowed ? 'block' : 'none';\n",
              "\n",
              "        async function convertToInteractive(key) {\n",
              "          const element = document.querySelector('#df-e82d2281-4319-48d2-94d3-6831421ffa8f');\n",
              "          const dataTable =\n",
              "            await google.colab.kernel.invokeFunction('convertToInteractive',\n",
              "                                                     [key], {});\n",
              "          if (!dataTable) return;\n",
              "\n",
              "          const docLinkHtml = 'Like what you see? Visit the ' +\n",
              "            '<a target=\"_blank\" href=https://colab.research.google.com/notebooks/data_table.ipynb>data table notebook</a>'\n",
              "            + ' to learn more about interactive tables.';\n",
              "          element.innerHTML = '';\n",
              "          dataTable['output_type'] = 'display_data';\n",
              "          await google.colab.output.renderOutput(dataTable, element);\n",
              "          const docLink = document.createElement('div');\n",
              "          docLink.innerHTML = docLinkHtml;\n",
              "          element.appendChild(docLink);\n",
              "        }\n",
              "      </script>\n",
              "    </div>\n",
              "  </div>\n",
              "  "
            ]
          },
          "metadata": {},
          "execution_count": 3
        }
      ]
    },
    {
      "cell_type": "code",
      "source": [
        "train_data['Category'].value_counts()"
      ],
      "metadata": {
        "id": "VRqczvzHM5Ge",
        "colab": {
          "base_uri": "https://localhost:8080/"
        },
        "outputId": "09de7814-476f-4447-8ece-94fd37525f31"
      },
      "execution_count": null,
      "outputs": [
        {
          "output_type": "execute_result",
          "data": {
            "text/plain": [
              "tamilnadu    5028\n",
              "india        3443\n",
              "cinema       2050\n",
              "sports       1701\n",
              "politics     1200\n",
              "world        1099\n",
              "Name: Category, dtype: int64"
            ]
          },
          "metadata": {},
          "execution_count": 4
        }
      ]
    },
    {
      "cell_type": "code",
      "source": [
        "test_data['Category'].value_counts()"
      ],
      "metadata": {
        "id": "WbZ4wL6BM5I_",
        "colab": {
          "base_uri": "https://localhost:8080/"
        },
        "outputId": "c87144c4-ad54-4ef9-db97-a3e44da251fb"
      },
      "execution_count": null,
      "outputs": [
        {
          "output_type": "execute_result",
          "data": {
            "text/plain": [
              "tamilnadu    1219\n",
              "india         925\n",
              "cinema        485\n",
              "sports        439\n",
              "politics      287\n",
              "world         276\n",
              "Name: Category, dtype: int64"
            ]
          },
          "metadata": {},
          "execution_count": 5
        }
      ]
    },
    {
      "cell_type": "code",
      "source": [
        "plt.figure(figsize=(8,6))\n",
        "sns.countplot(train_data.Category)"
      ],
      "metadata": {
        "id": "0V8xpIO7M5Mg",
        "colab": {
          "base_uri": "https://localhost:8080/",
          "height": 462
        },
        "outputId": "6f153558-6ad9-46da-dafa-9ea45bcf8cd7"
      },
      "execution_count": null,
      "outputs": [
        {
          "output_type": "stream",
          "name": "stderr",
          "text": [
            "/usr/local/lib/python3.8/dist-packages/seaborn/_decorators.py:36: FutureWarning: Pass the following variable as a keyword arg: x. From version 0.12, the only valid positional argument will be `data`, and passing other arguments without an explicit keyword will result in an error or misinterpretation.\n",
            "  warnings.warn(\n"
          ]
        },
        {
          "output_type": "execute_result",
          "data": {
            "text/plain": [
              "<AxesSubplot:xlabel='Category', ylabel='count'>"
            ]
          },
          "metadata": {},
          "execution_count": 6
        },
        {
          "output_type": "display_data",
          "data": {
            "text/plain": [
              "<Figure size 576x432 with 1 Axes>"
            ],
            "image/png": "[encoded data removed]"
          },
          "metadata": {
            "needs_background": "light"
          }
        }
      ]
    },
    {
      "cell_type": "code",
      "source": [
        "plt.figure(figsize=(8,6))\n",
        "sns.countplot(test_data.Category)"
      ],
      "metadata": {
        "id": "M_9xMPlbM5PN",
        "colab": {
          "base_uri": "https://localhost:8080/",
          "height": 462
        },
        "outputId": "e3dc9cab-8cb2-441a-814e-cef113fb2edf"
      },
      "execution_count": null,
      "outputs": [
        {
          "output_type": "stream",
          "name": "stderr",
          "text": [
            "/usr/local/lib/python3.8/dist-packages/seaborn/_decorators.py:36: FutureWarning: Pass the following variable as a keyword arg: x. From version 0.12, the only valid positional argument will be `data`, and passing other arguments without an explicit keyword will result in an error or misinterpretation.\n",
            "  warnings.warn(\n"
          ]
        },
        {
          "output_type": "execute_result",
          "data": {
            "text/plain": [
              "<AxesSubplot:xlabel='Category', ylabel='count'>"
            ]
          },
          "metadata": {},
          "execution_count": 7
        },
        {
          "output_type": "display_data",
          "data": {
            "text/plain": [
              "<Figure size 576x432 with 1 Axes>"
            ],
            "image/png": "[encoded data removed]"
          },
          "metadata": {
            "needs_background": "light"
          }
        }
      ]
    },
    {
      "cell_type": "code",
      "source": [
        "punc = '''!()-[]{};:'\"\\,<>./?@#$%^&*_~'''\n",
        "\n",
        "def remove_punc(data):\n",
        "    result = []\n",
        "\n",
        "    for test_str in data.NewsInTamil:\n",
        "        for ele in test_str:\n",
        "            if ele in punc:\n",
        "                test_str = test_str.replace(ele, \"\")\n",
        "        result.append(test_str)\n",
        "    \n",
        "    return result"
      ],
      "metadata": {
        "id": "b9GQFGJWM5ST"
      },
      "execution_count": null,
      "outputs": []
    },
    {
      "cell_type": "code",
      "source": [
        "train_res = remove_punc(train_data)\n",
        "train_data['WithoutPunc'] = train_res\n",
        "train_data"
      ],
      "metadata": {
        "id": "mVZRtZosM5VC",
        "colab": {
          "base_uri": "https://localhost:8080/",
          "height": 658
        },
        "outputId": "66f6318a-fd72-4530-d4f8-f9119e74878e"
      },
      "execution_count": null,
      "outputs": [
        {
          "output_type": "execute_result",
          "data": {
            "text/plain": [
              "                                           NewsInEnglish  \\\n",
              "0      2017/May/19941-miss-iraq-competition-after-43-...   \n",
              "1      2018/Dec/55921-viswasam-s-rustic-folk-song-has...   \n",
              "2      2018/Dec/55929-inspector-who-bought-insurance-...   \n",
              "3                2017/Jan/16161-morarji-desai-budget.txt   \n",
              "4      2018/Jun/46476-i-have-not-joined-bjp-or-anyoth...   \n",
              "...                                                  ...   \n",
              "14516  2018/Apr/43310-karnataka-assembly-elections-20...   \n",
              "14517  2017/Dec/38185-the-police-made-elaborate-arran...   \n",
              "14518  2018/Jun/47685-chennai-hdfc-customer-money-the...   \n",
              "14519  2018/Aug/49520-pv-sindhu-settles-for-second-su...   \n",
              "14520  2018/May/45978-tamil-nadu-deputy-cm-o-panneers...   \n",
              "\n",
              "                                             NewsInTamil   Category  \\\n",
              "0             ஈராக்கில் 43 ஆண்டுகள் கழித்து அழகிப்போட்டி      world   \n",
              "1      இந்திய அளவில் ட்ரெண்ட் ஆன அஜித்தின் ‘தள்லே தில...     cinema   \n",
              "2      சொந்த செலவில் வாகன காப்பீடு எடுத்து கொடுத்த கா...  tamilnadu   \n",
              "3                  பிறந்தநாளில் பட்ஜெட் தாக்கல் செய்தவர்      india   \n",
              "4      “நானா? பாஜகவில் இணைந்துவிட்டேனா” - வரலட்சுமி வ...     cinema   \n",
              "...                                                  ...        ...   \n",
              "14516  ‘மோடி கூட்டத்தில் கலகம் செய்யுங்கள்’: ஜிக்னேஷ்...   politics   \n",
              "14517  புத்தாண்டு கொண்டாட்டம்: சென்னையில் 3,500 போலீச...  tamilnadu   \n",
              "14518               ‘இரும்புத்திரை’ பட பாணியில் திருட்டு  tamilnadu   \n",
              "14519     தங்க மங்கை பி.வி.சிந்துவின் சாதனைக் களங்கள் !       india   \n",
              "14520  துப்பாக்கிச் சூடு சம்பவம் நெஞ்சை உருக்குகிறது:...  tamilnadu   \n",
              "\n",
              "      CategoryInTamil                                        WithoutPunc  \n",
              "0               உலகம்         ஈராக்கில் 43 ஆண்டுகள் கழித்து அழகிப்போட்டி  \n",
              "1              சினிமா  இந்திய அளவில் ட்ரெண்ட் ஆன அஜித்தின் ‘தள்லே தில...  \n",
              "2           தமிழ்நாடு  சொந்த செலவில் வாகன காப்பீடு எடுத்து கொடுத்த கா...  \n",
              "3             இந்தியா              பிறந்தநாளில் பட்ஜெட் தாக்கல் செய்தவர்  \n",
              "4              சினிமா  “நானா பாஜகவில் இணைந்துவிட்டேனா”  வரலட்சுமி விள...  \n",
              "...               ...                                                ...  \n",
              "14516         அரசியல்  ‘மோடி கூட்டத்தில் கலகம் செய்யுங்கள்’ ஜிக்னேஷ் ...  \n",
              "14517       தமிழ்நாடு  புத்தாண்டு கொண்டாட்டம் சென்னையில் 3500 போலீசார...  \n",
              "14518       தமிழ்நாடு               ‘இரும்புத்திரை’ பட பாணியில் திருட்டு  \n",
              "14519         இந்தியா        தங்க மங்கை பிவிசிந்துவின் சாதனைக் களங்கள்    \n",
              "14520       தமிழ்நாடு  துப்பாக்கிச் சூடு சம்பவம் நெஞ்சை உருக்குகிறது ...  \n",
              "\n",
              "[14521 rows x 5 columns]"
            ],
            "text/html": [
              "\n",
              "  <div id=\"df-36d41d51-2503-43ae-8351-4b5d87c6329f\">\n",
              "    <div class=\"colab-df-container\">\n",
              "      <div>\n",
              "<style scoped>\n",
              "    .dataframe tbody tr th:only-of-type {\n",
              "        vertical-align: middle;\n",
              "    }\n",
              "\n",
              "    .dataframe tbody tr th {\n",
              "        vertical-align: top;\n",
              "    }\n",
              "\n",
              "    .dataframe thead th {\n",
              "        text-align: right;\n",
              "    }\n",
              "</style>\n",
              "<table border=\"1\" class=\"dataframe\">\n",
              "  <thead>\n",
              "    <tr style=\"text-align: right;\">\n",
              "      <th></th>\n",
              "      <th>NewsInEnglish</th>\n",
              "      <th>NewsInTamil</th>\n",
              "      <th>Category</th>\n",
              "      <th>CategoryInTamil</th>\n",
              "      <th>WithoutPunc</th>\n",
              "    </tr>\n",
              "  </thead>\n",
              "  <tbody>\n",
              "    <tr>\n",
              "      <th>0</th>\n",
              "      <td>2017/May/19941-miss-iraq-competition-after-43-...</td>\n",
              "      <td>ஈராக்கில் 43 ஆண்டுகள் கழித்து அழகிப்போட்டி</td>\n",
              "      <td>world</td>\n",
              "      <td>உலகம்</td>\n",
              "      <td>ஈராக்கில் 43 ஆண்டுகள் கழித்து அழகிப்போட்டி</td>\n",
              "    </tr>\n",
              "    <tr>\n",
              "      <th>1</th>\n",
              "      <td>2018/Dec/55921-viswasam-s-rustic-folk-song-has...</td>\n",
              "      <td>இந்திய அளவில் ட்ரெண்ட் ஆன அஜித்தின் ‘தள்லே தில...</td>\n",
              "      <td>cinema</td>\n",
              "      <td>சினிமா</td>\n",
              "      <td>இந்திய அளவில் ட்ரெண்ட் ஆன அஜித்தின் ‘தள்லே தில...</td>\n",
              "    </tr>\n",
              "    <tr>\n",
              "      <th>2</th>\n",
              "      <td>2018/Dec/55929-inspector-who-bought-insurance-...</td>\n",
              "      <td>சொந்த செலவில் வாகன காப்பீடு எடுத்து கொடுத்த கா...</td>\n",
              "      <td>tamilnadu</td>\n",
              "      <td>தமிழ்நாடு</td>\n",
              "      <td>சொந்த செலவில் வாகன காப்பீடு எடுத்து கொடுத்த கா...</td>\n",
              "    </tr>\n",
              "    <tr>\n",
              "      <th>3</th>\n",
              "      <td>2017/Jan/16161-morarji-desai-budget.txt</td>\n",
              "      <td>பிறந்தநாளில் பட்ஜெட் தாக்கல் செய்தவர்</td>\n",
              "      <td>india</td>\n",
              "      <td>இந்தியா</td>\n",
              "      <td>பிறந்தநாளில் பட்ஜெட் தாக்கல் செய்தவர்</td>\n",
              "    </tr>\n",
              "    <tr>\n",
              "      <th>4</th>\n",
              "      <td>2018/Jun/46476-i-have-not-joined-bjp-or-anyoth...</td>\n",
              "      <td>“நானா? பாஜகவில் இணைந்துவிட்டேனா” - வரலட்சுமி வ...</td>\n",
              "      <td>cinema</td>\n",
              "      <td>சினிமா</td>\n",
              "      <td>“நானா பாஜகவில் இணைந்துவிட்டேனா”  வரலட்சுமி விள...</td>\n",
              "    </tr>\n",
              "    <tr>\n",
              "      <th>...</th>\n",
              "      <td>...</td>\n",
              "      <td>...</td>\n",
              "      <td>...</td>\n",
              "      <td>...</td>\n",
              "      <td>...</td>\n",
              "    </tr>\n",
              "    <tr>\n",
              "      <th>14516</th>\n",
              "      <td>2018/Apr/43310-karnataka-assembly-elections-20...</td>\n",
              "      <td>‘மோடி கூட்டத்தில் கலகம் செய்யுங்கள்’: ஜிக்னேஷ்...</td>\n",
              "      <td>politics</td>\n",
              "      <td>அரசியல்</td>\n",
              "      <td>‘மோடி கூட்டத்தில் கலகம் செய்யுங்கள்’ ஜிக்னேஷ் ...</td>\n",
              "    </tr>\n",
              "    <tr>\n",
              "      <th>14517</th>\n",
              "      <td>2017/Dec/38185-the-police-made-elaborate-arran...</td>\n",
              "      <td>புத்தாண்டு கொண்டாட்டம்: சென்னையில் 3,500 போலீச...</td>\n",
              "      <td>tamilnadu</td>\n",
              "      <td>தமிழ்நாடு</td>\n",
              "      <td>புத்தாண்டு கொண்டாட்டம் சென்னையில் 3500 போலீசார...</td>\n",
              "    </tr>\n",
              "    <tr>\n",
              "      <th>14518</th>\n",
              "      <td>2018/Jun/47685-chennai-hdfc-customer-money-the...</td>\n",
              "      <td>‘இரும்புத்திரை’ பட பாணியில் திருட்டு</td>\n",
              "      <td>tamilnadu</td>\n",
              "      <td>தமிழ்நாடு</td>\n",
              "      <td>‘இரும்புத்திரை’ பட பாணியில் திருட்டு</td>\n",
              "    </tr>\n",
              "    <tr>\n",
              "      <th>14519</th>\n",
              "      <td>2018/Aug/49520-pv-sindhu-settles-for-second-su...</td>\n",
              "      <td>தங்க மங்கை பி.வி.சிந்துவின் சாதனைக் களங்கள் !</td>\n",
              "      <td>india</td>\n",
              "      <td>இந்தியா</td>\n",
              "      <td>தங்க மங்கை பிவிசிந்துவின் சாதனைக் களங்கள்</td>\n",
              "    </tr>\n",
              "    <tr>\n",
              "      <th>14520</th>\n",
              "      <td>2018/May/45978-tamil-nadu-deputy-cm-o-panneers...</td>\n",
              "      <td>துப்பாக்கிச் சூடு சம்பவம் நெஞ்சை உருக்குகிறது:...</td>\n",
              "      <td>tamilnadu</td>\n",
              "      <td>தமிழ்நாடு</td>\n",
              "      <td>துப்பாக்கிச் சூடு சம்பவம் நெஞ்சை உருக்குகிறது ...</td>\n",
              "    </tr>\n",
              "  </tbody>\n",
              "</table>\n",
              "<p>14521 rows × 5 columns</p>\n",
              "</div>\n",
              "      <button class=\"colab-df-convert\" onclick=\"convertToInteractive('df-36d41d51-2503-43ae-8351-4b5d87c6329f')\"\n",
              "              title=\"Convert this dataframe to an interactive table.\"\n",
              "              style=\"display:none;\">\n",
              "        \n",
              "  <svg xmlns=\"http://www.w3.org/2000/svg\" height=\"24px\"viewBox=\"0 0 24 24\"\n",
              "       width=\"24px\">\n",
              "    <path d=\"M0 0h24v24H0V0z\" fill=\"none\"/>\n",
              "    <path d=\"M18.56 5.44l.94 2.06.94-2.06 2.06-.94-2.06-.94-.94-2.06-.94 2.06-2.06.94zm-11 1L8.5 8.5l.94-2.06 2.06-.94-2.06-.94L8.5 2.5l-.94 2.06-2.06.94zm10 10l.94 2.06.94-2.06 2.06-.94-2.06-.94-.94-2.06-.94 2.06-2.06.94z\"/><path d=\"M17.41 7.96l-1.37-1.37c-.4-.4-.92-.59-1.43-.59-.52 0-1.04.2-1.43.59L10.3 9.45l-7.72 7.72c-.78.78-.78 2.05 0 2.83L4 21.41c.39.39.9.59 1.41.59.51 0 1.02-.2 1.41-.59l7.78-7.78 2.81-2.81c.8-.78.8-2.07 0-2.86zM5.41 20L4 18.59l7.72-7.72 1.47 1.35L5.41 20z\"/>\n",
              "  </svg>\n",
              "      </button>\n",
              "      \n",
              "  <style>\n",
              "    .colab-df-container {\n",
              "      display:flex;\n",
              "      flex-wrap:wrap;\n",
              "      gap: 12px;\n",
              "    }\n",
              "\n",
              "    .colab-df-convert {\n",
              "      background-color: #E8F0FE;\n",
              "      border: none;\n",
              "      border-radius: 50%;\n",
              "      cursor: pointer;\n",
              "      display: none;\n",
              "      fill: #1967D2;\n",
              "      height: 32px;\n",
              "      padding: 0 0 0 0;\n",
              "      width: 32px;\n",
              "    }\n",
              "\n",
              "    .colab-df-convert:hover {\n",
              "      background-color: #E2EBFA;\n",
              "      box-shadow: 0px 1px 2px rgba(60, 64, 67, 0.3), 0px 1px 3px 1px rgba(60, 64, 67, 0.15);\n",
              "      fill: #174EA6;\n",
              "    }\n",
              "\n",
              "    [theme=dark] .colab-df-convert {\n",
              "      background-color: #3B4455;\n",
              "      fill: #D2E3FC;\n",
              "    }\n",
              "\n",
              "    [theme=dark] .colab-df-convert:hover {\n",
              "      background-color: #434B5C;\n",
              "      box-shadow: 0px 1px 3px 1px rgba(0, 0, 0, 0.15);\n",
              "      filter: drop-shadow(0px 1px 2px rgba(0, 0, 0, 0.3));\n",
              "      fill: #FFFFFF;\n",
              "    }\n",
              "  </style>\n",
              "\n",
              "      <script>\n",
              "        const buttonEl =\n",
              "          document.querySelector('#df-36d41d51-2503-43ae-8351-4b5d87c6329f button.colab-df-convert');\n",
              "        buttonEl.style.display =\n",
              "          google.colab.kernel.accessAllowed ? 'block' : 'none';\n",
              "\n",
              "        async function convertToInteractive(key) {\n",
              "          const element = document.querySelector('#df-36d41d51-2503-43ae-8351-4b5d87c6329f');\n",
              "          const dataTable =\n",
              "            await google.colab.kernel.invokeFunction('convertToInteractive',\n",
              "                                                     [key], {});\n",
              "          if (!dataTable) return;\n",
              "\n",
              "          const docLinkHtml = 'Like what you see? Visit the ' +\n",
              "            '<a target=\"_blank\" href=https://colab.research.google.com/notebooks/data_table.ipynb>data table notebook</a>'\n",
              "            + ' to learn more about interactive tables.';\n",
              "          element.innerHTML = '';\n",
              "          dataTable['output_type'] = 'display_data';\n",
              "          await google.colab.output.renderOutput(dataTable, element);\n",
              "          const docLink = document.createElement('div');\n",
              "          docLink.innerHTML = docLinkHtml;\n",
              "          element.appendChild(docLink);\n",
              "        }\n",
              "      </script>\n",
              "    </div>\n",
              "  </div>\n",
              "  "
            ]
          },
          "metadata": {},
          "execution_count": 9
        }
      ]
    },
    {
      "cell_type": "code",
      "source": [
        "test_res = remove_punc(test_data)\n",
        "test_data['WithoutPunc'] = test_res\n",
        "test_data"
      ],
      "metadata": {
        "id": "yD7P4jueM5Xz",
        "colab": {
          "base_uri": "https://localhost:8080/",
          "height": 658
        },
        "outputId": "d001ff8f-c4c7-4d2b-addb-36ea44c2f221"
      },
      "execution_count": null,
      "outputs": [
        {
          "output_type": "execute_result",
          "data": {
            "text/plain": [
              "                                          NewsInEnglish  \\\n",
              "0     2017/Jun/21972-groom-chewing-gutka-during-wedd...   \n",
              "1     2018/Nov/54005-indvswi-3rd-t20-west-indies-won...   \n",
              "2     2018/Dec/55960-lkg-ukg-classes-will-be-started...   \n",
              "3     2018/Mar/41755-college-student-murder-in-chenn...   \n",
              "4     2018/Sep/51691-fever-in-uttar-pradesh-71-child...   \n",
              "...                                                 ...   \n",
              "3626  2018/Oct/52110-govt-owes-air-india-over-rs-114...   \n",
              "3627  2018/Dec/55702-gangsters-open-fire-at-kochi-be...   \n",
              "3628  2018/Dec/56010-uae-based-indian-girl-planned-t...   \n",
              "3629  2018/Oct/52539-aims-issue-vijayabaskar-to-meet...   \n",
              "3630  2017/Oct/33345-srilankan-politicians-should-wa...   \n",
              "\n",
              "                                            NewsInTamil   Category  \\\n",
              "0     தாலி கட்ற நேரத்துலயும் குட்காவா? மணமகனை உதறினா...      india   \n",
              "1     3வது டி20 : வெஸ்ட் இண்டீஸ் முதல் பேட்டிங் - வா...     sports   \n",
              "2     பெற்றோர்கள் விருப்பத்திற்கு ஏற்ப எல்.கே.ஜி., ய...  tamilnadu   \n",
              "3         சென்னையில் கல்லூரி வாசலில் மாணவி குத்திக்கொலை  tamilnadu   \n",
              "4     உ.பி.யில் காய்ச்சலால் 45 நாட்களில் 71 குழந்தைக...      india   \n",
              "...                                                 ...        ...   \n",
              "3626  விஐபி-கள் பயணம்: ஏர் இந்தியாவுக்கு மத்திய அரசு...      india   \n",
              "3627  நடிகையின் பியூட்டி பார்லரில் துப்பாக்கிச் சூடு...     cinema   \n",
              "3628  போட்டோ ட்ரோல் ஆனதால் விரக்தி - நேரலையில் இளம்ப...      world   \n",
              "3629  எய்ம்ஸ் விவகாரம்.. மத்திய அமைச்சரை சந்திக்கிறா...      india   \n",
              "3630  அரசியல்வாதிகள் 'மெர்சல்' படம் பார்க்க வேண்டும்...      world   \n",
              "\n",
              "     CategoryInTamil                                        WithoutPunc  \n",
              "0            இந்தியா  தாலி கட்ற நேரத்துலயும் குட்காவா மணமகனை உதறினார...  \n",
              "1         விளையாட்டு  3வது டி20  வெஸ்ட் இண்டீஸ் முதல் பேட்டிங்  வாஷி...  \n",
              "2          தமிழ்நாடு  பெற்றோர்கள் விருப்பத்திற்கு ஏற்ப எல்கேஜி யுகேஜ...  \n",
              "3          தமிழ்நாடு      சென்னையில் கல்லூரி வாசலில் மாணவி குத்திக்கொலை  \n",
              "4            இந்தியா  உபியில் காய்ச்சலால் 45 நாட்களில் 71 குழந்தைகள்...  \n",
              "...              ...                                                ...  \n",
              "3626         இந்தியா  விஐபிகள் பயணம் ஏர் இந்தியாவுக்கு மத்திய அரசு ர...  \n",
              "3627          சினிமா  நடிகையின் பியூட்டி பார்லரில் துப்பாக்கிச் சூடு...  \n",
              "3628           உலகம்  போட்டோ ட்ரோல் ஆனதால் விரக்தி  நேரலையில் இளம்பெ...  \n",
              "3629         இந்தியா  எய்ம்ஸ் விவகாரம் மத்திய அமைச்சரை சந்திக்கிறார்...  \n",
              "3630           உலகம்  அரசியல்வாதிகள் மெர்சல் படம் பார்க்க வேண்டும் இ...  \n",
              "\n",
              "[3631 rows x 5 columns]"
            ],
            "text/html": [
              "\n",
              "  <div id=\"df-768c032d-9e2b-433c-9e2b-d9355bbc6f0b\">\n",
              "    <div class=\"colab-df-container\">\n",
              "      <div>\n",
              "<style scoped>\n",
              "    .dataframe tbody tr th:only-of-type {\n",
              "        vertical-align: middle;\n",
              "    }\n",
              "\n",
              "    .dataframe tbody tr th {\n",
              "        vertical-align: top;\n",
              "    }\n",
              "\n",
              "    .dataframe thead th {\n",
              "        text-align: right;\n",
              "    }\n",
              "</style>\n",
              "<table border=\"1\" class=\"dataframe\">\n",
              "  <thead>\n",
              "    <tr style=\"text-align: right;\">\n",
              "      <th></th>\n",
              "      <th>NewsInEnglish</th>\n",
              "      <th>NewsInTamil</th>\n",
              "      <th>Category</th>\n",
              "      <th>CategoryInTamil</th>\n",
              "      <th>WithoutPunc</th>\n",
              "    </tr>\n",
              "  </thead>\n",
              "  <tbody>\n",
              "    <tr>\n",
              "      <th>0</th>\n",
              "      <td>2017/Jun/21972-groom-chewing-gutka-during-wedd...</td>\n",
              "      <td>தாலி கட்ற நேரத்துலயும் குட்காவா? மணமகனை உதறினா...</td>\n",
              "      <td>india</td>\n",
              "      <td>இந்தியா</td>\n",
              "      <td>தாலி கட்ற நேரத்துலயும் குட்காவா மணமகனை உதறினார...</td>\n",
              "    </tr>\n",
              "    <tr>\n",
              "      <th>1</th>\n",
              "      <td>2018/Nov/54005-indvswi-3rd-t20-west-indies-won...</td>\n",
              "      <td>3வது டி20 : வெஸ்ட் இண்டீஸ் முதல் பேட்டிங் - வா...</td>\n",
              "      <td>sports</td>\n",
              "      <td>விளையாட்டு</td>\n",
              "      <td>3வது டி20  வெஸ்ட் இண்டீஸ் முதல் பேட்டிங்  வாஷி...</td>\n",
              "    </tr>\n",
              "    <tr>\n",
              "      <th>2</th>\n",
              "      <td>2018/Dec/55960-lkg-ukg-classes-will-be-started...</td>\n",
              "      <td>பெற்றோர்கள் விருப்பத்திற்கு ஏற்ப எல்.கே.ஜி., ய...</td>\n",
              "      <td>tamilnadu</td>\n",
              "      <td>தமிழ்நாடு</td>\n",
              "      <td>பெற்றோர்கள் விருப்பத்திற்கு ஏற்ப எல்கேஜி யுகேஜ...</td>\n",
              "    </tr>\n",
              "    <tr>\n",
              "      <th>3</th>\n",
              "      <td>2018/Mar/41755-college-student-murder-in-chenn...</td>\n",
              "      <td>சென்னையில் கல்லூரி வாசலில் மாணவி குத்திக்கொலை</td>\n",
              "      <td>tamilnadu</td>\n",
              "      <td>தமிழ்நாடு</td>\n",
              "      <td>சென்னையில் கல்லூரி வாசலில் மாணவி குத்திக்கொலை</td>\n",
              "    </tr>\n",
              "    <tr>\n",
              "      <th>4</th>\n",
              "      <td>2018/Sep/51691-fever-in-uttar-pradesh-71-child...</td>\n",
              "      <td>உ.பி.யில் காய்ச்சலால் 45 நாட்களில் 71 குழந்தைக...</td>\n",
              "      <td>india</td>\n",
              "      <td>இந்தியா</td>\n",
              "      <td>உபியில் காய்ச்சலால் 45 நாட்களில் 71 குழந்தைகள்...</td>\n",
              "    </tr>\n",
              "    <tr>\n",
              "      <th>...</th>\n",
              "      <td>...</td>\n",
              "      <td>...</td>\n",
              "      <td>...</td>\n",
              "      <td>...</td>\n",
              "      <td>...</td>\n",
              "    </tr>\n",
              "    <tr>\n",
              "      <th>3626</th>\n",
              "      <td>2018/Oct/52110-govt-owes-air-india-over-rs-114...</td>\n",
              "      <td>விஐபி-கள் பயணம்: ஏர் இந்தியாவுக்கு மத்திய அரசு...</td>\n",
              "      <td>india</td>\n",
              "      <td>இந்தியா</td>\n",
              "      <td>விஐபிகள் பயணம் ஏர் இந்தியாவுக்கு மத்திய அரசு ர...</td>\n",
              "    </tr>\n",
              "    <tr>\n",
              "      <th>3627</th>\n",
              "      <td>2018/Dec/55702-gangsters-open-fire-at-kochi-be...</td>\n",
              "      <td>நடிகையின் பியூட்டி பார்லரில் துப்பாக்கிச் சூடு...</td>\n",
              "      <td>cinema</td>\n",
              "      <td>சினிமா</td>\n",
              "      <td>நடிகையின் பியூட்டி பார்லரில் துப்பாக்கிச் சூடு...</td>\n",
              "    </tr>\n",
              "    <tr>\n",
              "      <th>3628</th>\n",
              "      <td>2018/Dec/56010-uae-based-indian-girl-planned-t...</td>\n",
              "      <td>போட்டோ ட்ரோல் ஆனதால் விரக்தி - நேரலையில் இளம்ப...</td>\n",
              "      <td>world</td>\n",
              "      <td>உலகம்</td>\n",
              "      <td>போட்டோ ட்ரோல் ஆனதால் விரக்தி  நேரலையில் இளம்பெ...</td>\n",
              "    </tr>\n",
              "    <tr>\n",
              "      <th>3629</th>\n",
              "      <td>2018/Oct/52539-aims-issue-vijayabaskar-to-meet...</td>\n",
              "      <td>எய்ம்ஸ் விவகாரம்.. மத்திய அமைச்சரை சந்திக்கிறா...</td>\n",
              "      <td>india</td>\n",
              "      <td>இந்தியா</td>\n",
              "      <td>எய்ம்ஸ் விவகாரம் மத்திய அமைச்சரை சந்திக்கிறார்...</td>\n",
              "    </tr>\n",
              "    <tr>\n",
              "      <th>3630</th>\n",
              "      <td>2017/Oct/33345-srilankan-politicians-should-wa...</td>\n",
              "      <td>அரசியல்வாதிகள் 'மெர்சல்' படம் பார்க்க வேண்டும்...</td>\n",
              "      <td>world</td>\n",
              "      <td>உலகம்</td>\n",
              "      <td>அரசியல்வாதிகள் மெர்சல் படம் பார்க்க வேண்டும் இ...</td>\n",
              "    </tr>\n",
              "  </tbody>\n",
              "</table>\n",
              "<p>3631 rows × 5 columns</p>\n",
              "</div>\n",
              "      <button class=\"colab-df-convert\" onclick=\"convertToInteractive('df-768c032d-9e2b-433c-9e2b-d9355bbc6f0b')\"\n",
              "              title=\"Convert this dataframe to an interactive table.\"\n",
              "              style=\"display:none;\">\n",
              "        \n",
              "  <svg xmlns=\"http://www.w3.org/2000/svg\" height=\"24px\"viewBox=\"0 0 24 24\"\n",
              "       width=\"24px\">\n",
              "    <path d=\"M0 0h24v24H0V0z\" fill=\"none\"/>\n",
              "    <path d=\"M18.56 5.44l.94 2.06.94-2.06 2.06-.94-2.06-.94-.94-2.06-.94 2.06-2.06.94zm-11 1L8.5 8.5l.94-2.06 2.06-.94-2.06-.94L8.5 2.5l-.94 2.06-2.06.94zm10 10l.94 2.06.94-2.06 2.06-.94-2.06-.94-.94-2.06-.94 2.06-2.06.94z\"/><path d=\"M17.41 7.96l-1.37-1.37c-.4-.4-.92-.59-1.43-.59-.52 0-1.04.2-1.43.59L10.3 9.45l-7.72 7.72c-.78.78-.78 2.05 0 2.83L4 21.41c.39.39.9.59 1.41.59.51 0 1.02-.2 1.41-.59l7.78-7.78 2.81-2.81c.8-.78.8-2.07 0-2.86zM5.41 20L4 18.59l7.72-7.72 1.47 1.35L5.41 20z\"/>\n",
              "  </svg>\n",
              "      </button>\n",
              "      \n",
              "  <style>\n",
              "    .colab-df-container {\n",
              "      display:flex;\n",
              "      flex-wrap:wrap;\n",
              "      gap: 12px;\n",
              "    }\n",
              "\n",
              "    .colab-df-convert {\n",
              "      background-color: #E8F0FE;\n",
              "      border: none;\n",
              "      border-radius: 50%;\n",
              "      cursor: pointer;\n",
              "      display: none;\n",
              "      fill: #1967D2;\n",
              "      height: 32px;\n",
              "      padding: 0 0 0 0;\n",
              "      width: 32px;\n",
              "    }\n",
              "\n",
              "    .colab-df-convert:hover {\n",
              "      background-color: #E2EBFA;\n",
              "      box-shadow: 0px 1px 2px rgba(60, 64, 67, 0.3), 0px 1px 3px 1px rgba(60, 64, 67, 0.15);\n",
              "      fill: #174EA6;\n",
              "    }\n",
              "\n",
              "    [theme=dark] .colab-df-convert {\n",
              "      background-color: #3B4455;\n",
              "      fill: #D2E3FC;\n",
              "    }\n",
              "\n",
              "    [theme=dark] .colab-df-convert:hover {\n",
              "      background-color: #434B5C;\n",
              "      box-shadow: 0px 1px 3px 1px rgba(0, 0, 0, 0.15);\n",
              "      filter: drop-shadow(0px 1px 2px rgba(0, 0, 0, 0.3));\n",
              "      fill: #FFFFFF;\n",
              "    }\n",
              "  </style>\n",
              "\n",
              "      <script>\n",
              "        const buttonEl =\n",
              "          document.querySelector('#df-768c032d-9e2b-433c-9e2b-d9355bbc6f0b button.colab-df-convert');\n",
              "        buttonEl.style.display =\n",
              "          google.colab.kernel.accessAllowed ? 'block' : 'none';\n",
              "\n",
              "        async function convertToInteractive(key) {\n",
              "          const element = document.querySelector('#df-768c032d-9e2b-433c-9e2b-d9355bbc6f0b');\n",
              "          const dataTable =\n",
              "            await google.colab.kernel.invokeFunction('convertToInteractive',\n",
              "                                                     [key], {});\n",
              "          if (!dataTable) return;\n",
              "\n",
              "          const docLinkHtml = 'Like what you see? Visit the ' +\n",
              "            '<a target=\"_blank\" href=https://colab.research.google.com/notebooks/data_table.ipynb>data table notebook</a>'\n",
              "            + ' to learn more about interactive tables.';\n",
              "          element.innerHTML = '';\n",
              "          dataTable['output_type'] = 'display_data';\n",
              "          await google.colab.output.renderOutput(dataTable, element);\n",
              "          const docLink = document.createElement('div');\n",
              "          docLink.innerHTML = docLinkHtml;\n",
              "          element.appendChild(docLink);\n",
              "        }\n",
              "      </script>\n",
              "    </div>\n",
              "  </div>\n",
              "  "
            ]
          },
          "metadata": {},
          "execution_count": 10
        }
      ]
    },
    {
      "cell_type": "code",
      "source": [
        "def get_category_as_vector(data):\n",
        "    tn, ind, cin, sp, pol, wo = [], [], [], [], [], []\n",
        "    for i in data['Category']:\n",
        "        if i == 'tamilnadu':\n",
        "            tn.append(1)\n",
        "            ind.append(0)\n",
        "            cin.append(0)\n",
        "            sp.append(0)\n",
        "            pol.append(0)\n",
        "            wo.append(0)\n",
        "        elif i == 'india':\n",
        "            tn.append(0)\n",
        "            ind.append(1)\n",
        "            cin.append(0)\n",
        "            sp.append(0)\n",
        "            pol.append(0)\n",
        "            wo.append(0)\n",
        "        elif i == 'cinema':\n",
        "            tn.append(0)\n",
        "            ind.append(0)\n",
        "            cin.append(1)\n",
        "            sp.append(0)\n",
        "            pol.append(0)\n",
        "            wo.append(0)\n",
        "        elif i == 'sports':\n",
        "            tn.append(0)\n",
        "            ind.append(0)\n",
        "            cin.append(0)\n",
        "            sp.append(1)\n",
        "            pol.append(0)\n",
        "            wo.append(0)\n",
        "        elif i == 'politics':\n",
        "            tn.append(0)\n",
        "            ind.append(0)\n",
        "            cin.append(0)\n",
        "            sp.append(0)\n",
        "            pol.append(1)\n",
        "            wo.append(0)\n",
        "        else:\n",
        "            tn.append(0)\n",
        "            ind.append(0)\n",
        "            cin.append(0)\n",
        "            sp.append(0)\n",
        "            pol.append(0)\n",
        "            wo.append(1)\n",
        "    \n",
        "    return tn, ind, cin, sp, pol, wo"
      ],
      "metadata": {
        "id": "2gMIObspM5bC"
      },
      "execution_count": null,
      "outputs": []
    },
    {
      "cell_type": "code",
      "source": [
        "tn, ind, cin, sp, pol, wo = get_category_as_vector(train_data)\n",
        "train_data['tn'] = tn\n",
        "train_data['ind'] = ind\n",
        "train_data['cin'] = cin\n",
        "train_data['sp'] = sp\n",
        "train_data['pol'] = pol\n",
        "train_data['wo'] = wo\n",
        "\n",
        "train_data"
      ],
      "metadata": {
        "id": "53J0ddroM5d-",
        "colab": {
          "base_uri": "https://localhost:8080/",
          "height": 884
        },
        "outputId": "55791c17-d43e-4985-b942-2b924498b7d8"
      },
      "execution_count": null,
      "outputs": [
        {
          "output_type": "execute_result",
          "data": {
            "text/plain": [
              "                                           NewsInEnglish  \\\n",
              "0      2017/May/19941-miss-iraq-competition-after-43-...   \n",
              "1      2018/Dec/55921-viswasam-s-rustic-folk-song-has...   \n",
              "2      2018/Dec/55929-inspector-who-bought-insurance-...   \n",
              "3                2017/Jan/16161-morarji-desai-budget.txt   \n",
              "4      2018/Jun/46476-i-have-not-joined-bjp-or-anyoth...   \n",
              "...                                                  ...   \n",
              "14516  2018/Apr/43310-karnataka-assembly-elections-20...   \n",
              "14517  2017/Dec/38185-the-police-made-elaborate-arran...   \n",
              "14518  2018/Jun/47685-chennai-hdfc-customer-money-the...   \n",
              "14519  2018/Aug/49520-pv-sindhu-settles-for-second-su...   \n",
              "14520  2018/May/45978-tamil-nadu-deputy-cm-o-panneers...   \n",
              "\n",
              "                                             NewsInTamil   Category  \\\n",
              "0             ஈராக்கில் 43 ஆண்டுகள் கழித்து அழகிப்போட்டி      world   \n",
              "1      இந்திய அளவில் ட்ரெண்ட் ஆன அஜித்தின் ‘தள்லே தில...     cinema   \n",
              "2      சொந்த செலவில் வாகன காப்பீடு எடுத்து கொடுத்த கா...  tamilnadu   \n",
              "3                  பிறந்தநாளில் பட்ஜெட் தாக்கல் செய்தவர்      india   \n",
              "4      “நானா? பாஜகவில் இணைந்துவிட்டேனா” - வரலட்சுமி வ...     cinema   \n",
              "...                                                  ...        ...   \n",
              "14516  ‘மோடி கூட்டத்தில் கலகம் செய்யுங்கள்’: ஜிக்னேஷ்...   politics   \n",
              "14517  புத்தாண்டு கொண்டாட்டம்: சென்னையில் 3,500 போலீச...  tamilnadu   \n",
              "14518               ‘இரும்புத்திரை’ பட பாணியில் திருட்டு  tamilnadu   \n",
              "14519     தங்க மங்கை பி.வி.சிந்துவின் சாதனைக் களங்கள் !       india   \n",
              "14520  துப்பாக்கிச் சூடு சம்பவம் நெஞ்சை உருக்குகிறது:...  tamilnadu   \n",
              "\n",
              "      CategoryInTamil                                        WithoutPunc  tn  \\\n",
              "0               உலகம்         ஈராக்கில் 43 ஆண்டுகள் கழித்து அழகிப்போட்டி   0   \n",
              "1              சினிமா  இந்திய அளவில் ட்ரெண்ட் ஆன அஜித்தின் ‘தள்லே தில...   0   \n",
              "2           தமிழ்நாடு  சொந்த செலவில் வாகன காப்பீடு எடுத்து கொடுத்த கா...   1   \n",
              "3             இந்தியா              பிறந்தநாளில் பட்ஜெட் தாக்கல் செய்தவர்   0   \n",
              "4              சினிமா  “நானா பாஜகவில் இணைந்துவிட்டேனா”  வரலட்சுமி விள...   0   \n",
              "...               ...                                                ...  ..   \n",
              "14516         அரசியல்  ‘மோடி கூட்டத்தில் கலகம் செய்யுங்கள்’ ஜிக்னேஷ் ...   0   \n",
              "14517       தமிழ்நாடு  புத்தாண்டு கொண்டாட்டம் சென்னையில் 3500 போலீசார...   1   \n",
              "14518       தமிழ்நாடு               ‘இரும்புத்திரை’ பட பாணியில் திருட்டு   1   \n",
              "14519         இந்தியா        தங்க மங்கை பிவிசிந்துவின் சாதனைக் களங்கள்     0   \n",
              "14520       தமிழ்நாடு  துப்பாக்கிச் சூடு சம்பவம் நெஞ்சை உருக்குகிறது ...   1   \n",
              "\n",
              "       ind  cin  sp  pol  wo  \n",
              "0        0    0   0    0   1  \n",
              "1        0    1   0    0   0  \n",
              "2        0    0   0    0   0  \n",
              "3        1    0   0    0   0  \n",
              "4        0    1   0    0   0  \n",
              "...    ...  ...  ..  ...  ..  \n",
              "14516    0    0   0    1   0  \n",
              "14517    0    0   0    0   0  \n",
              "14518    0    0   0    0   0  \n",
              "14519    1    0   0    0   0  \n",
              "14520    0    0   0    0   0  \n",
              "\n",
              "[14521 rows x 11 columns]"
            ],
            "text/html": [
              "\n",
              "  <div id=\"df-e71b1fe5-ae0b-458d-ac76-cda8586b97de\">\n",
              "    <div class=\"colab-df-container\">\n",
              "      <div>\n",
              "<style scoped>\n",
              "    .dataframe tbody tr th:only-of-type {\n",
              "        vertical-align: middle;\n",
              "    }\n",
              "\n",
              "    .dataframe tbody tr th {\n",
              "        vertical-align: top;\n",
              "    }\n",
              "\n",
              "    .dataframe thead th {\n",
              "        text-align: right;\n",
              "    }\n",
              "</style>\n",
              "<table border=\"1\" class=\"dataframe\">\n",
              "  <thead>\n",
              "    <tr style=\"text-align: right;\">\n",
              "      <th></th>\n",
              "      <th>NewsInEnglish</th>\n",
              "      <th>NewsInTamil</th>\n",
              "      <th>Category</th>\n",
              "      <th>CategoryInTamil</th>\n",
              "      <th>WithoutPunc</th>\n",
              "      <th>tn</th>\n",
              "      <th>ind</th>\n",
              "      <th>cin</th>\n",
              "      <th>sp</th>\n",
              "      <th>pol</th>\n",
              "      <th>wo</th>\n",
              "    </tr>\n",
              "  </thead>\n",
              "  <tbody>\n",
              "    <tr>\n",
              "      <th>0</th>\n",
              "      <td>2017/May/19941-miss-iraq-competition-after-43-...</td>\n",
              "      <td>ஈராக்கில் 43 ஆண்டுகள் கழித்து அழகிப்போட்டி</td>\n",
              "      <td>world</td>\n",
              "      <td>உலகம்</td>\n",
              "      <td>ஈராக்கில் 43 ஆண்டுகள் கழித்து அழகிப்போட்டி</td>\n",
              "      <td>0</td>\n",
              "      <td>0</td>\n",
              "      <td>0</td>\n",
              "      <td>0</td>\n",
              "      <td>0</td>\n",
              "      <td>1</td>\n",
              "    </tr>\n",
              "    <tr>\n",
              "      <th>1</th>\n",
              "      <td>2018/Dec/55921-viswasam-s-rustic-folk-song-has...</td>\n",
              "      <td>இந்திய அளவில் ட்ரெண்ட் ஆன அஜித்தின் ‘தள்லே தில...</td>\n",
              "      <td>cinema</td>\n",
              "      <td>சினிமா</td>\n",
              "      <td>இந்திய அளவில் ட்ரெண்ட் ஆன அஜித்தின் ‘தள்லே தில...</td>\n",
              "      <td>0</td>\n",
              "      <td>0</td>\n",
              "      <td>1</td>\n",
              "      <td>0</td>\n",
              "      <td>0</td>\n",
              "      <td>0</td>\n",
              "    </tr>\n",
              "    <tr>\n",
              "      <th>2</th>\n",
              "      <td>2018/Dec/55929-inspector-who-bought-insurance-...</td>\n",
              "      <td>சொந்த செலவில் வாகன காப்பீடு எடுத்து கொடுத்த கா...</td>\n",
              "      <td>tamilnadu</td>\n",
              "      <td>தமிழ்நாடு</td>\n",
              "      <td>சொந்த செலவில் வாகன காப்பீடு எடுத்து கொடுத்த கா...</td>\n",
              "      <td>1</td>\n",
              "      <td>0</td>\n",
              "      <td>0</td>\n",
              "      <td>0</td>\n",
              "      <td>0</td>\n",
              "      <td>0</td>\n",
              "    </tr>\n",
              "    <tr>\n",
              "      <th>3</th>\n",
              "      <td>2017/Jan/16161-morarji-desai-budget.txt</td>\n",
              "      <td>பிறந்தநாளில் பட்ஜெட் தாக்கல் செய்தவர்</td>\n",
              "      <td>india</td>\n",
              "      <td>இந்தியா</td>\n",
              "      <td>பிறந்தநாளில் பட்ஜெட் தாக்கல் செய்தவர்</td>\n",
              "      <td>0</td>\n",
              "      <td>1</td>\n",
              "      <td>0</td>\n",
              "      <td>0</td>\n",
              "      <td>0</td>\n",
              "      <td>0</td>\n",
              "    </tr>\n",
              "    <tr>\n",
              "      <th>4</th>\n",
              "      <td>2018/Jun/46476-i-have-not-joined-bjp-or-anyoth...</td>\n",
              "      <td>“நானா? பாஜகவில் இணைந்துவிட்டேனா” - வரலட்சுமி வ...</td>\n",
              "      <td>cinema</td>\n",
              "      <td>சினிமா</td>\n",
              "      <td>“நானா பாஜகவில் இணைந்துவிட்டேனா”  வரலட்சுமி விள...</td>\n",
              "      <td>0</td>\n",
              "      <td>0</td>\n",
              "      <td>1</td>\n",
              "      <td>0</td>\n",
              "      <td>0</td>\n",
              "      <td>0</td>\n",
              "    </tr>\n",
              "    <tr>\n",
              "      <th>...</th>\n",
              "      <td>...</td>\n",
              "      <td>...</td>\n",
              "      <td>...</td>\n",
              "      <td>...</td>\n",
              "      <td>...</td>\n",
              "      <td>...</td>\n",
              "      <td>...</td>\n",
              "      <td>...</td>\n",
              "      <td>...</td>\n",
              "      <td>...</td>\n",
              "      <td>...</td>\n",
              "    </tr>\n",
              "    <tr>\n",
              "      <th>14516</th>\n",
              "      <td>2018/Apr/43310-karnataka-assembly-elections-20...</td>\n",
              "      <td>‘மோடி கூட்டத்தில் கலகம் செய்யுங்கள்’: ஜிக்னேஷ்...</td>\n",
              "      <td>politics</td>\n",
              "      <td>அரசியல்</td>\n",
              "      <td>‘மோடி கூட்டத்தில் கலகம் செய்யுங்கள்’ ஜிக்னேஷ் ...</td>\n",
              "      <td>0</td>\n",
              "      <td>0</td>\n",
              "      <td>0</td>\n",
              "      <td>0</td>\n",
              "      <td>1</td>\n",
              "      <td>0</td>\n",
              "    </tr>\n",
              "    <tr>\n",
              "      <th>14517</th>\n",
              "      <td>2017/Dec/38185-the-police-made-elaborate-arran...</td>\n",
              "      <td>புத்தாண்டு கொண்டாட்டம்: சென்னையில் 3,500 போலீச...</td>\n",
              "      <td>tamilnadu</td>\n",
              "      <td>தமிழ்நாடு</td>\n",
              "      <td>புத்தாண்டு கொண்டாட்டம் சென்னையில் 3500 போலீசார...</td>\n",
              "      <td>1</td>\n",
              "      <td>0</td>\n",
              "      <td>0</td>\n",
              "      <td>0</td>\n",
              "      <td>0</td>\n",
              "      <td>0</td>\n",
              "    </tr>\n",
              "    <tr>\n",
              "      <th>14518</th>\n",
              "      <td>2018/Jun/47685-chennai-hdfc-customer-money-the...</td>\n",
              "      <td>‘இரும்புத்திரை’ பட பாணியில் திருட்டு</td>\n",
              "      <td>tamilnadu</td>\n",
              "      <td>தமிழ்நாடு</td>\n",
              "      <td>‘இரும்புத்திரை’ பட பாணியில் திருட்டு</td>\n",
              "      <td>1</td>\n",
              "      <td>0</td>\n",
              "      <td>0</td>\n",
              "      <td>0</td>\n",
              "      <td>0</td>\n",
              "      <td>0</td>\n",
              "    </tr>\n",
              "    <tr>\n",
              "      <th>14519</th>\n",
              "      <td>2018/Aug/49520-pv-sindhu-settles-for-second-su...</td>\n",
              "      <td>தங்க மங்கை பி.வி.சிந்துவின் சாதனைக் களங்கள் !</td>\n",
              "      <td>india</td>\n",
              "      <td>இந்தியா</td>\n",
              "      <td>தங்க மங்கை பிவிசிந்துவின் சாதனைக் களங்கள்</td>\n",
              "      <td>0</td>\n",
              "      <td>1</td>\n",
              "      <td>0</td>\n",
              "      <td>0</td>\n",
              "      <td>0</td>\n",
              "      <td>0</td>\n",
              "    </tr>\n",
              "    <tr>\n",
              "      <th>14520</th>\n",
              "      <td>2018/May/45978-tamil-nadu-deputy-cm-o-panneers...</td>\n",
              "      <td>துப்பாக்கிச் சூடு சம்பவம் நெஞ்சை உருக்குகிறது:...</td>\n",
              "      <td>tamilnadu</td>\n",
              "      <td>தமிழ்நாடு</td>\n",
              "      <td>துப்பாக்கிச் சூடு சம்பவம் நெஞ்சை உருக்குகிறது ...</td>\n",
              "      <td>1</td>\n",
              "      <td>0</td>\n",
              "      <td>0</td>\n",
              "      <td>0</td>\n",
              "      <td>0</td>\n",
              "      <td>0</td>\n",
              "    </tr>\n",
              "  </tbody>\n",
              "</table>\n",
              "<p>14521 rows × 11 columns</p>\n",
              "</div>\n",
              "      <button class=\"colab-df-convert\" onclick=\"convertToInteractive('df-e71b1fe5-ae0b-458d-ac76-cda8586b97de')\"\n",
              "              title=\"Convert this dataframe to an interactive table.\"\n",
              "              style=\"display:none;\">\n",
              "        \n",
              "  <svg xmlns=\"http://www.w3.org/2000/svg\" height=\"24px\"viewBox=\"0 0 24 24\"\n",
              "       width=\"24px\">\n",
              "    <path d=\"M0 0h24v24H0V0z\" fill=\"none\"/>\n",
              "    <path d=\"M18.56 5.44l.94 2.06.94-2.06 2.06-.94-2.06-.94-.94-2.06-.94 2.06-2.06.94zm-11 1L8.5 8.5l.94-2.06 2.06-.94-2.06-.94L8.5 2.5l-.94 2.06-2.06.94zm10 10l.94 2.06.94-2.06 2.06-.94-2.06-.94-.94-2.06-.94 2.06-2.06.94z\"/><path d=\"M17.41 7.96l-1.37-1.37c-.4-.4-.92-.59-1.43-.59-.52 0-1.04.2-1.43.59L10.3 9.45l-7.72 7.72c-.78.78-.78 2.05 0 2.83L4 21.41c.39.39.9.59 1.41.59.51 0 1.02-.2 1.41-.59l7.78-7.78 2.81-2.81c.8-.78.8-2.07 0-2.86zM5.41 20L4 18.59l7.72-7.72 1.47 1.35L5.41 20z\"/>\n",
              "  </svg>\n",
              "      </button>\n",
              "      \n",
              "  <style>\n",
              "    .colab-df-container {\n",
              "      display:flex;\n",
              "      flex-wrap:wrap;\n",
              "      gap: 12px;\n",
              "    }\n",
              "\n",
              "    .colab-df-convert {\n",
              "      background-color: #E8F0FE;\n",
              "      border: none;\n",
              "      border-radius: 50%;\n",
              "      cursor: pointer;\n",
              "      display: none;\n",
              "      fill: #1967D2;\n",
              "      height: 32px;\n",
              "      padding: 0 0 0 0;\n",
              "      width: 32px;\n",
              "    }\n",
              "\n",
              "    .colab-df-convert:hover {\n",
              "      background-color: #E2EBFA;\n",
              "      box-shadow: 0px 1px 2px rgba(60, 64, 67, 0.3), 0px 1px 3px 1px rgba(60, 64, 67, 0.15);\n",
              "      fill: #174EA6;\n",
              "    }\n",
              "\n",
              "    [theme=dark] .colab-df-convert {\n",
              "      background-color: #3B4455;\n",
              "      fill: #D2E3FC;\n",
              "    }\n",
              "\n",
              "    [theme=dark] .colab-df-convert:hover {\n",
              "      background-color: #434B5C;\n",
              "      box-shadow: 0px 1px 3px 1px rgba(0, 0, 0, 0.15);\n",
              "      filter: drop-shadow(0px 1px 2px rgba(0, 0, 0, 0.3));\n",
              "      fill: #FFFFFF;\n",
              "    }\n",
              "  </style>\n",
              "\n",
              "      <script>\n",
              "        const buttonEl =\n",
              "          document.querySelector('#df-e71b1fe5-ae0b-458d-ac76-cda8586b97de button.colab-df-convert');\n",
              "        buttonEl.style.display =\n",
              "          google.colab.kernel.accessAllowed ? 'block' : 'none';\n",
              "\n",
              "        async function convertToInteractive(key) {\n",
              "          const element = document.querySelector('#df-e71b1fe5-ae0b-458d-ac76-cda8586b97de');\n",
              "          const dataTable =\n",
              "            await google.colab.kernel.invokeFunction('convertToInteractive',\n",
              "                                                     [key], {});\n",
              "          if (!dataTable) return;\n",
              "\n",
              "          const docLinkHtml = 'Like what you see? Visit the ' +\n",
              "            '<a target=\"_blank\" href=https://colab.research.google.com/notebooks/data_table.ipynb>data table notebook</a>'\n",
              "            + ' to learn more about interactive tables.';\n",
              "          element.innerHTML = '';\n",
              "          dataTable['output_type'] = 'display_data';\n",
              "          await google.colab.output.renderOutput(dataTable, element);\n",
              "          const docLink = document.createElement('div');\n",
              "          docLink.innerHTML = docLinkHtml;\n",
              "          element.appendChild(docLink);\n",
              "        }\n",
              "      </script>\n",
              "    </div>\n",
              "  </div>\n",
              "  "
            ]
          },
          "metadata": {},
          "execution_count": 12
        }
      ]
    },
    {
      "cell_type": "code",
      "source": [
        "tn, ind, cin, sp, pol, wo = get_category_as_vector(test_data)\n",
        "test_data['tn'] = tn\n",
        "test_data['ind'] = ind\n",
        "test_data['cin'] = cin\n",
        "test_data['sp'] = sp\n",
        "test_data['pol'] = pol\n",
        "test_data['wo'] = wo\n",
        "\n",
        "test_data"
      ],
      "metadata": {
        "id": "eM5-u4ChM5gg",
        "colab": {
          "base_uri": "https://localhost:8080/",
          "height": 814
        },
        "outputId": "ab87b50b-b907-49c0-bd43-fc5bd0687bd1"
      },
      "execution_count": null,
      "outputs": [
        {
          "output_type": "execute_result",
          "data": {
            "text/plain": [
              "                                          NewsInEnglish  \\\n",
              "0     2017/Jun/21972-groom-chewing-gutka-during-wedd...   \n",
              "1     2018/Nov/54005-indvswi-3rd-t20-west-indies-won...   \n",
              "2     2018/Dec/55960-lkg-ukg-classes-will-be-started...   \n",
              "3     2018/Mar/41755-college-student-murder-in-chenn...   \n",
              "4     2018/Sep/51691-fever-in-uttar-pradesh-71-child...   \n",
              "...                                                 ...   \n",
              "3626  2018/Oct/52110-govt-owes-air-india-over-rs-114...   \n",
              "3627  2018/Dec/55702-gangsters-open-fire-at-kochi-be...   \n",
              "3628  2018/Dec/56010-uae-based-indian-girl-planned-t...   \n",
              "3629  2018/Oct/52539-aims-issue-vijayabaskar-to-meet...   \n",
              "3630  2017/Oct/33345-srilankan-politicians-should-wa...   \n",
              "\n",
              "                                            NewsInTamil   Category  \\\n",
              "0     தாலி கட்ற நேரத்துலயும் குட்காவா? மணமகனை உதறினா...      india   \n",
              "1     3வது டி20 : வெஸ்ட் இண்டீஸ் முதல் பேட்டிங் - வா...     sports   \n",
              "2     பெற்றோர்கள் விருப்பத்திற்கு ஏற்ப எல்.கே.ஜி., ய...  tamilnadu   \n",
              "3         சென்னையில் கல்லூரி வாசலில் மாணவி குத்திக்கொலை  tamilnadu   \n",
              "4     உ.பி.யில் காய்ச்சலால் 45 நாட்களில் 71 குழந்தைக...      india   \n",
              "...                                                 ...        ...   \n",
              "3626  விஐபி-கள் பயணம்: ஏர் இந்தியாவுக்கு மத்திய அரசு...      india   \n",
              "3627  நடிகையின் பியூட்டி பார்லரில் துப்பாக்கிச் சூடு...     cinema   \n",
              "3628  போட்டோ ட்ரோல் ஆனதால் விரக்தி - நேரலையில் இளம்ப...      world   \n",
              "3629  எய்ம்ஸ் விவகாரம்.. மத்திய அமைச்சரை சந்திக்கிறா...      india   \n",
              "3630  அரசியல்வாதிகள் 'மெர்சல்' படம் பார்க்க வேண்டும்...      world   \n",
              "\n",
              "     CategoryInTamil                                        WithoutPunc  tn  \\\n",
              "0            இந்தியா  தாலி கட்ற நேரத்துலயும் குட்காவா மணமகனை உதறினார...   0   \n",
              "1         விளையாட்டு  3வது டி20  வெஸ்ட் இண்டீஸ் முதல் பேட்டிங்  வாஷி...   0   \n",
              "2          தமிழ்நாடு  பெற்றோர்கள் விருப்பத்திற்கு ஏற்ப எல்கேஜி யுகேஜ...   1   \n",
              "3          தமிழ்நாடு      சென்னையில் கல்லூரி வாசலில் மாணவி குத்திக்கொலை   1   \n",
              "4            இந்தியா  உபியில் காய்ச்சலால் 45 நாட்களில் 71 குழந்தைகள்...   0   \n",
              "...              ...                                                ...  ..   \n",
              "3626         இந்தியா  விஐபிகள் பயணம் ஏர் இந்தியாவுக்கு மத்திய அரசு ர...   0   \n",
              "3627          சினிமா  நடிகையின் பியூட்டி பார்லரில் துப்பாக்கிச் சூடு...   0   \n",
              "3628           உலகம்  போட்டோ ட்ரோல் ஆனதால் விரக்தி  நேரலையில் இளம்பெ...   0   \n",
              "3629         இந்தியா  எய்ம்ஸ் விவகாரம் மத்திய அமைச்சரை சந்திக்கிறார்...   0   \n",
              "3630           உலகம்  அரசியல்வாதிகள் மெர்சல் படம் பார்க்க வேண்டும் இ...   0   \n",
              "\n",
              "      ind  cin  sp  pol  wo  \n",
              "0       1    0   0    0   0  \n",
              "1       0    0   1    0   0  \n",
              "2       0    0   0    0   0  \n",
              "3       0    0   0    0   0  \n",
              "4       1    0   0    0   0  \n",
              "...   ...  ...  ..  ...  ..  \n",
              "3626    1    0   0    0   0  \n",
              "3627    0    1   0    0   0  \n",
              "3628    0    0   0    0   1  \n",
              "3629    1    0   0    0   0  \n",
              "3630    0    0   0    0   1  \n",
              "\n",
              "[3631 rows x 11 columns]"
            ],
            "text/html": [
              "\n",
              "  <div id=\"df-26c46ad1-3332-4c47-88fa-132be22bb72a\">\n",
              "    <div class=\"colab-df-container\">\n",
              "      <div>\n",
              "<style scoped>\n",
              "    .dataframe tbody tr th:only-of-type {\n",
              "        vertical-align: middle;\n",
              "    }\n",
              "\n",
              "    .dataframe tbody tr th {\n",
              "        vertical-align: top;\n",
              "    }\n",
              "\n",
              "    .dataframe thead th {\n",
              "        text-align: right;\n",
              "    }\n",
              "</style>\n",
              "<table border=\"1\" class=\"dataframe\">\n",
              "  <thead>\n",
              "    <tr style=\"text-align: right;\">\n",
              "      <th></th>\n",
              "      <th>NewsInEnglish</th>\n",
              "      <th>NewsInTamil</th>\n",
              "      <th>Category</th>\n",
              "      <th>CategoryInTamil</th>\n",
              "      <th>WithoutPunc</th>\n",
              "      <th>tn</th>\n",
              "      <th>ind</th>\n",
              "      <th>cin</th>\n",
              "      <th>sp</th>\n",
              "      <th>pol</th>\n",
              "      <th>wo</th>\n",
              "    </tr>\n",
              "  </thead>\n",
              "  <tbody>\n",
              "    <tr>\n",
              "      <th>0</th>\n",
              "      <td>2017/Jun/21972-groom-chewing-gutka-during-wedd...</td>\n",
              "      <td>தாலி கட்ற நேரத்துலயும் குட்காவா? மணமகனை உதறினா...</td>\n",
              "      <td>india</td>\n",
              "      <td>இந்தியா</td>\n",
              "      <td>தாலி கட்ற நேரத்துலயும் குட்காவா மணமகனை உதறினார...</td>\n",
              "      <td>0</td>\n",
              "      <td>1</td>\n",
              "      <td>0</td>\n",
              "      <td>0</td>\n",
              "      <td>0</td>\n",
              "      <td>0</td>\n",
              "    </tr>\n",
              "    <tr>\n",
              "      <th>1</th>\n",
              "      <td>2018/Nov/54005-indvswi-3rd-t20-west-indies-won...</td>\n",
              "      <td>3வது டி20 : வெஸ்ட் இண்டீஸ் முதல் பேட்டிங் - வா...</td>\n",
              "      <td>sports</td>\n",
              "      <td>விளையாட்டு</td>\n",
              "      <td>3வது டி20  வெஸ்ட் இண்டீஸ் முதல் பேட்டிங்  வாஷி...</td>\n",
              "      <td>0</td>\n",
              "      <td>0</td>\n",
              "      <td>0</td>\n",
              "      <td>1</td>\n",
              "      <td>0</td>\n",
              "      <td>0</td>\n",
              "    </tr>\n",
              "    <tr>\n",
              "      <th>2</th>\n",
              "      <td>2018/Dec/55960-lkg-ukg-classes-will-be-started...</td>\n",
              "      <td>பெற்றோர்கள் விருப்பத்திற்கு ஏற்ப எல்.கே.ஜி., ய...</td>\n",
              "      <td>tamilnadu</td>\n",
              "      <td>தமிழ்நாடு</td>\n",
              "      <td>பெற்றோர்கள் விருப்பத்திற்கு ஏற்ப எல்கேஜி யுகேஜ...</td>\n",
              "      <td>1</td>\n",
              "      <td>0</td>\n",
              "      <td>0</td>\n",
              "      <td>0</td>\n",
              "      <td>0</td>\n",
              "      <td>0</td>\n",
              "    </tr>\n",
              "    <tr>\n",
              "      <th>3</th>\n",
              "      <td>2018/Mar/41755-college-student-murder-in-chenn...</td>\n",
              "      <td>சென்னையில் கல்லூரி வாசலில் மாணவி குத்திக்கொலை</td>\n",
              "      <td>tamilnadu</td>\n",
              "      <td>தமிழ்நாடு</td>\n",
              "      <td>சென்னையில் கல்லூரி வாசலில் மாணவி குத்திக்கொலை</td>\n",
              "      <td>1</td>\n",
              "      <td>0</td>\n",
              "      <td>0</td>\n",
              "      <td>0</td>\n",
              "      <td>0</td>\n",
              "      <td>0</td>\n",
              "    </tr>\n",
              "    <tr>\n",
              "      <th>4</th>\n",
              "      <td>2018/Sep/51691-fever-in-uttar-pradesh-71-child...</td>\n",
              "      <td>உ.பி.யில் காய்ச்சலால் 45 நாட்களில் 71 குழந்தைக...</td>\n",
              "      <td>india</td>\n",
              "      <td>இந்தியா</td>\n",
              "      <td>உபியில் காய்ச்சலால் 45 நாட்களில் 71 குழந்தைகள்...</td>\n",
              "      <td>0</td>\n",
              "      <td>1</td>\n",
              "      <td>0</td>\n",
              "      <td>0</td>\n",
              "      <td>0</td>\n",
              "      <td>0</td>\n",
              "    </tr>\n",
              "    <tr>\n",
              "      <th>...</th>\n",
              "      <td>...</td>\n",
              "      <td>...</td>\n",
              "      <td>...</td>\n",
              "      <td>...</td>\n",
              "      <td>...</td>\n",
              "      <td>...</td>\n",
              "      <td>...</td>\n",
              "      <td>...</td>\n",
              "      <td>...</td>\n",
              "      <td>...</td>\n",
              "      <td>...</td>\n",
              "    </tr>\n",
              "    <tr>\n",
              "      <th>3626</th>\n",
              "      <td>2018/Oct/52110-govt-owes-air-india-over-rs-114...</td>\n",
              "      <td>விஐபி-கள் பயணம்: ஏர் இந்தியாவுக்கு மத்திய அரசு...</td>\n",
              "      <td>india</td>\n",
              "      <td>இந்தியா</td>\n",
              "      <td>விஐபிகள் பயணம் ஏர் இந்தியாவுக்கு மத்திய அரசு ர...</td>\n",
              "      <td>0</td>\n",
              "      <td>1</td>\n",
              "      <td>0</td>\n",
              "      <td>0</td>\n",
              "      <td>0</td>\n",
              "      <td>0</td>\n",
              "    </tr>\n",
              "    <tr>\n",
              "      <th>3627</th>\n",
              "      <td>2018/Dec/55702-gangsters-open-fire-at-kochi-be...</td>\n",
              "      <td>நடிகையின் பியூட்டி பார்லரில் துப்பாக்கிச் சூடு...</td>\n",
              "      <td>cinema</td>\n",
              "      <td>சினிமா</td>\n",
              "      <td>நடிகையின் பியூட்டி பார்லரில் துப்பாக்கிச் சூடு...</td>\n",
              "      <td>0</td>\n",
              "      <td>0</td>\n",
              "      <td>1</td>\n",
              "      <td>0</td>\n",
              "      <td>0</td>\n",
              "      <td>0</td>\n",
              "    </tr>\n",
              "    <tr>\n",
              "      <th>3628</th>\n",
              "      <td>2018/Dec/56010-uae-based-indian-girl-planned-t...</td>\n",
              "      <td>போட்டோ ட்ரோல் ஆனதால் விரக்தி - நேரலையில் இளம்ப...</td>\n",
              "      <td>world</td>\n",
              "      <td>உலகம்</td>\n",
              "      <td>போட்டோ ட்ரோல் ஆனதால் விரக்தி  நேரலையில் இளம்பெ...</td>\n",
              "      <td>0</td>\n",
              "      <td>0</td>\n",
              "      <td>0</td>\n",
              "      <td>0</td>\n",
              "      <td>0</td>\n",
              "      <td>1</td>\n",
              "    </tr>\n",
              "    <tr>\n",
              "      <th>3629</th>\n",
              "      <td>2018/Oct/52539-aims-issue-vijayabaskar-to-meet...</td>\n",
              "      <td>எய்ம்ஸ் விவகாரம்.. மத்திய அமைச்சரை சந்திக்கிறா...</td>\n",
              "      <td>india</td>\n",
              "      <td>இந்தியா</td>\n",
              "      <td>எய்ம்ஸ் விவகாரம் மத்திய அமைச்சரை சந்திக்கிறார்...</td>\n",
              "      <td>0</td>\n",
              "      <td>1</td>\n",
              "      <td>0</td>\n",
              "      <td>0</td>\n",
              "      <td>0</td>\n",
              "      <td>0</td>\n",
              "    </tr>\n",
              "    <tr>\n",
              "      <th>3630</th>\n",
              "      <td>2017/Oct/33345-srilankan-politicians-should-wa...</td>\n",
              "      <td>அரசியல்வாதிகள் 'மெர்சல்' படம் பார்க்க வேண்டும்...</td>\n",
              "      <td>world</td>\n",
              "      <td>உலகம்</td>\n",
              "      <td>அரசியல்வாதிகள் மெர்சல் படம் பார்க்க வேண்டும் இ...</td>\n",
              "      <td>0</td>\n",
              "      <td>0</td>\n",
              "      <td>0</td>\n",
              "      <td>0</td>\n",
              "      <td>0</td>\n",
              "      <td>1</td>\n",
              "    </tr>\n",
              "  </tbody>\n",
              "</table>\n",
              "<p>3631 rows × 11 columns</p>\n",
              "</div>\n",
              "      <button class=\"colab-df-convert\" onclick=\"convertToInteractive('df-26c46ad1-3332-4c47-88fa-132be22bb72a')\"\n",
              "              title=\"Convert this dataframe to an interactive table.\"\n",
              "              style=\"display:none;\">\n",
              "        \n",
              "  <svg xmlns=\"http://www.w3.org/2000/svg\" height=\"24px\"viewBox=\"0 0 24 24\"\n",
              "       width=\"24px\">\n",
              "    <path d=\"M0 0h24v24H0V0z\" fill=\"none\"/>\n",
              "    <path d=\"M18.56 5.44l.94 2.06.94-2.06 2.06-.94-2.06-.94-.94-2.06-.94 2.06-2.06.94zm-11 1L8.5 8.5l.94-2.06 2.06-.94-2.06-.94L8.5 2.5l-.94 2.06-2.06.94zm10 10l.94 2.06.94-2.06 2.06-.94-2.06-.94-.94-2.06-.94 2.06-2.06.94z\"/><path d=\"M17.41 7.96l-1.37-1.37c-.4-.4-.92-.59-1.43-.59-.52 0-1.04.2-1.43.59L10.3 9.45l-7.72 7.72c-.78.78-.78 2.05 0 2.83L4 21.41c.39.39.9.59 1.41.59.51 0 1.02-.2 1.41-.59l7.78-7.78 2.81-2.81c.8-.78.8-2.07 0-2.86zM5.41 20L4 18.59l7.72-7.72 1.47 1.35L5.41 20z\"/>\n",
              "  </svg>\n",
              "      </button>\n",
              "      \n",
              "  <style>\n",
              "    .colab-df-container {\n",
              "      display:flex;\n",
              "      flex-wrap:wrap;\n",
              "      gap: 12px;\n",
              "    }\n",
              "\n",
              "    .colab-df-convert {\n",
              "      background-color: #E8F0FE;\n",
              "      border: none;\n",
              "      border-radius: 50%;\n",
              "      cursor: pointer;\n",
              "      display: none;\n",
              "      fill: #1967D2;\n",
              "      height: 32px;\n",
              "      padding: 0 0 0 0;\n",
              "      width: 32px;\n",
              "    }\n",
              "\n",
              "    .colab-df-convert:hover {\n",
              "      background-color: #E2EBFA;\n",
              "      box-shadow: 0px 1px 2px rgba(60, 64, 67, 0.3), 0px 1px 3px 1px rgba(60, 64, 67, 0.15);\n",
              "      fill: #174EA6;\n",
              "    }\n",
              "\n",
              "    [theme=dark] .colab-df-convert {\n",
              "      background-color: #3B4455;\n",
              "      fill: #D2E3FC;\n",
              "    }\n",
              "\n",
              "    [theme=dark] .colab-df-convert:hover {\n",
              "      background-color: #434B5C;\n",
              "      box-shadow: 0px 1px 3px 1px rgba(0, 0, 0, 0.15);\n",
              "      filter: drop-shadow(0px 1px 2px rgba(0, 0, 0, 0.3));\n",
              "      fill: #FFFFFF;\n",
              "    }\n",
              "  </style>\n",
              "\n",
              "      <script>\n",
              "        const buttonEl =\n",
              "          document.querySelector('#df-26c46ad1-3332-4c47-88fa-132be22bb72a button.colab-df-convert');\n",
              "        buttonEl.style.display =\n",
              "          google.colab.kernel.accessAllowed ? 'block' : 'none';\n",
              "\n",
              "        async function convertToInteractive(key) {\n",
              "          const element = document.querySelector('#df-26c46ad1-3332-4c47-88fa-132be22bb72a');\n",
              "          const dataTable =\n",
              "            await google.colab.kernel.invokeFunction('convertToInteractive',\n",
              "                                                     [key], {});\n",
              "          if (!dataTable) return;\n",
              "\n",
              "          const docLinkHtml = 'Like what you see? Visit the ' +\n",
              "            '<a target=\"_blank\" href=https://colab.research.google.com/notebooks/data_table.ipynb>data table notebook</a>'\n",
              "            + ' to learn more about interactive tables.';\n",
              "          element.innerHTML = '';\n",
              "          dataTable['output_type'] = 'display_data';\n",
              "          await google.colab.output.renderOutput(dataTable, element);\n",
              "          const docLink = document.createElement('div');\n",
              "          docLink.innerHTML = docLinkHtml;\n",
              "          element.appendChild(docLink);\n",
              "        }\n",
              "      </script>\n",
              "    </div>\n",
              "  </div>\n",
              "  "
            ]
          },
          "metadata": {},
          "execution_count": 13
        }
      ]
    },
    {
      "cell_type": "code",
      "source": [
        "from sklearn.model_selection import train_test_split\n",
        "import tensorflow as tf\n",
        "from tensorflow.keras.preprocessing.sequence import pad_sequences\n",
        "from tensorflow.keras.callbacks import EarlyStopping\n",
        "from tensorflow.keras.models import Sequential\n",
        "from tensorflow.keras.layers import Embedding, GlobalAveragePooling1D, Dense, Dropout, LSTM, Bidirectional"
      ],
      "metadata": {
        "id": "d6X51EpuM5jK"
      },
      "execution_count": null,
      "outputs": []
    },
    {
      "cell_type": "code",
      "source": [
        "max_len = 50 \n",
        "trunc_type = \"post\" \n",
        "padding_type = \"post\" "
      ],
      "metadata": {
        "id": "WHAmwIU8M5lu"
      },
      "execution_count": null,
      "outputs": []
    },
    {
      "cell_type": "code",
      "source": [
        "from keras.preprocessing.text import Tokenizer\n",
        "\n",
        "tokenize = Tokenizer(num_words = 5000, char_level=False, oov_token = \"<OOV>\")\n",
        "tokenize.fit_on_texts(train_data.WithoutPunc)\n",
        "\n",
        "word_index = tokenize.word_index\n",
        "word_index"
      ],
      "metadata": {
        "id": "H7l95ql-U_Cf",
        "colab": {
          "base_uri": "https://localhost:8080/"
        },
        "outputId": "451b65c1-52ac-4152-ec7b-863c1a1fb572"
      },
      "execution_count": null,
      "outputs": [
        {
          "output_type": "execute_result",
          "data": {
            "text/plain": [
              "{'<OOV>': 1,\n",
              " 'அரசு': 2,\n",
              " 'மீது': 3,\n",
              " 'பேர்': 4,\n",
              " 'கைது': 5,\n",
              " 'இன்று': 6,\n",
              " 'மத்திய': 7,\n",
              " 'தமிழக': 8,\n",
              " 'இந்திய': 9,\n",
              " 'புதிய': 10,\n",
              " 'வழக்கு': 11,\n",
              " 'அமைச்சர்': 12,\n",
              " 'புகார்': 13,\n",
              " 'பிரதமர்': 14,\n",
              " 'மீண்டும்': 15,\n",
              " 'ஒரு': 16,\n",
              " 'பாலியல்': 17,\n",
              " 'முதல்': 18,\n",
              " 'நடிகர்': 19,\n",
              " 'நாளை': 20,\n",
              " 'விவகாரம்': 21,\n",
              " 'தடை': 22,\n",
              " 'மோடி': 23,\n",
              " 'போராட்டம்': 24,\n",
              " 'பெண்': 25,\n",
              " 'முதலமைச்சர்': 26,\n",
              " 'ஸ்டாலின்': 27,\n",
              " 'மக்கள்': 28,\n",
              " 'உத்தரவு': 29,\n",
              " 'விளக்கம்': 30,\n",
              " 'தகவல்': 31,\n",
              " 'பலி': 32,\n",
              " '2': 33,\n",
              " 'உயிரிழப்பு': 34,\n",
              " 'வேண்டும்': 35,\n",
              " 'தேர்தல்': 36,\n",
              " 'என்ன': 37,\n",
              " 'பாஜக': 38,\n",
              " 'வீடியோ': 39,\n",
              " 'இல்லை': 40,\n",
              " 'அறிவிப்பு': 41,\n",
              " 'ஏன்': 42,\n",
              " 'கோடி': 43,\n",
              " 'இந்தியா': 44,\n",
              " 'அணி': 45,\n",
              " 'இருந்து': 46,\n",
              " '3': 47,\n",
              " 'போலீஸ்': 48,\n",
              " 'நடிகை': 49,\n",
              " 'லட்சம்': 50,\n",
              " 'விசாரணை': 51,\n",
              " 'கேள்வி': 52,\n",
              " 'விஜய்': 53,\n",
              " 'முதல்வர்': 54,\n",
              " 'சென்னை': 55,\n",
              " 'உயர்நீதிமன்றம்': 56,\n",
              " 'வெற்றி': 57,\n",
              " 'செய்ய': 58,\n",
              " 'கிரிக்கெட்': 59,\n",
              " 'அதிரடி': 60,\n",
              " '5': 61,\n",
              " 'தற்கொலை': 62,\n",
              " 'விபத்து': 63,\n",
              " 'புயல்': 64,\n",
              " 'நீதிமன்றம்': 65,\n",
              " 'மனு': 66,\n",
              " 'கோலி': 67,\n",
              " '\\xa0': 68,\n",
              " 'செய்த': 69,\n",
              " 'உச்சநீதிமன்றம்': 70,\n",
              " 'எச்சரிக்கை': 71,\n",
              " 'நடவடிக்கை': 72,\n",
              " 'வீரர்': 73,\n",
              " '4': 74,\n",
              " 'சென்னையில்': 75,\n",
              " 'வாய்ப்பு': 76,\n",
              " 'யார்': 77,\n",
              " 'அனுமதி': 78,\n",
              " 'திட்டம்': 79,\n",
              " 'கொலை': 80,\n",
              " 'அதிர்ச்சி': 81,\n",
              " 'ரஜினி': 82,\n",
              " 'குறித்து': 83,\n",
              " 'முடிவு': 84,\n",
              " 'தினகரன்': 85,\n",
              " 'தாக்குதல்': 86,\n",
              " 'தலைவர்': 87,\n",
              " 'அதிமுக': 88,\n",
              " 'இளைஞர்': 89,\n",
              " 'ஒரே': 90,\n",
              " 'இலங்கை': 91,\n",
              " 'திடீர்': 92,\n",
              " 'கருத்து': 93,\n",
              " 'கடிதம்': 94,\n",
              " 'தோனி': 95,\n",
              " 'ரூபாய்': 96,\n",
              " 'ரயில்': 97,\n",
              " 'டிடிவி': 98,\n",
              " 'சாதனை': 99,\n",
              " 'ரசிகர்கள்': 100,\n",
              " 'அரசியல்': 101,\n",
              " 'ரத்து': 102,\n",
              " 'தேர்வு': 103,\n",
              " 'மரணம்': 104,\n",
              " 'வீரர்கள்': 105,\n",
              " 'நாள்': 106,\n",
              " 'எதிர்ப்பு': 107,\n",
              " 'திமுக': 108,\n",
              " 'விவசாயிகள்': 109,\n",
              " 'குழந்தை': 110,\n",
              " 'பாதுகாப்பு': 111,\n",
              " 'போட்டி': 112,\n",
              " 'வந்த': 113,\n",
              " 'பேச்சு': 114,\n",
              " 'காங்கிரஸ்': 115,\n",
              " '10': 116,\n",
              " 'மறுப்பு': 117,\n",
              " 'கொடுத்த': 118,\n",
              " 'டெஸ்ட்': 119,\n",
              " 'தமிழகத்தில்': 120,\n",
              " 'எதிராக': 121,\n",
              " 'பேட்டி': 122,\n",
              " 'கேரள': 123,\n",
              " 'என': 124,\n",
              " 'ஓபிஎஸ்': 125,\n",
              " 'கடும்': 126,\n",
              " 'கஜா': 127,\n",
              " 'கண்டனம்': 128,\n",
              " 'ஆளுநர்': 129,\n",
              " '7': 130,\n",
              " 'எப்படி': 131,\n",
              " 'மீனவர்கள்': 132,\n",
              " 'முன்னாள்': 133,\n",
              " 'விராத்': 134,\n",
              " 'பழனிசாமி': 135,\n",
              " '6': 136,\n",
              " 'சசிகலா': 137,\n",
              " 'ஆய்வு': 138,\n",
              " 'விலை': 139,\n",
              " 'மகன்': 140,\n",
              " 'உயர்வு': 141,\n",
              " 'கோரிக்கை': 142,\n",
              " 'மழை': 143,\n",
              " 'தொடரும்': 144,\n",
              " 'ஐபிஎல்': 145,\n",
              " 'தமிழிசை': 146,\n",
              " 'ட்ரம்ப்': 147,\n",
              " 'நான்': 148,\n",
              " 'பாதிப்பு': 149,\n",
              " 'கார்': 150,\n",
              " 'வயது': 151,\n",
              " 'வாழ்த்து': 152,\n",
              " 'சர்ச்சை': 153,\n",
              " 'காவிரி': 154,\n",
              " 'திருமணம்': 155,\n",
              " 'முடியாது': 156,\n",
              " 'பெண்கள்': 157,\n",
              " 'சிபிஐ': 158,\n",
              " 'நீதிபதி': 159,\n",
              " 'சபரிமலை': 160,\n",
              " 'மாணவர்கள்': 161,\n",
              " 'எம்எல்ஏக்கள்': 162,\n",
              " 'ஆயிரம்': 163,\n",
              " 'கமல்': 164,\n",
              " 'ஆதரவு': 165,\n",
              " 'முகஸ்டாலின்': 166,\n",
              " 'வரை': 167,\n",
              " 'கமல்ஹாசன்': 168,\n",
              " 'தீ': 169,\n",
              " 'தாக்கல்': 170,\n",
              " 'ஜெயலலிதா': 171,\n",
              " 'ராகுல்': 172,\n",
              " 'சிங்': 173,\n",
              " 'விராட்': 174,\n",
              " 'வெளியீடு': 175,\n",
              " 'அரசின்': 176,\n",
              " 'அதிகாரி': 177,\n",
              " 'சிலை': 178,\n",
              " '20': 179,\n",
              " 'வீட்டில்': 180,\n",
              " 'மிரட்டல்': 181,\n",
              " 'குற்றச்சாட்டு': 182,\n",
              " 'நீக்கம்': 183,\n",
              " 'விமான': 184,\n",
              " 'மோதல்': 185,\n",
              " 'ஆணையம்': 186,\n",
              " 'வைரலாகும்': 187,\n",
              " 'டெல்லி': 188,\n",
              " 'எம்எல்ஏ': 189,\n",
              " 'மனைவி': 190,\n",
              " 'முயற்சி': 191,\n",
              " 'சிறப்பு': 192,\n",
              " 'தீர்ப்பு': 193,\n",
              " 'மருத்துவமனையில்': 194,\n",
              " 'வைத்த': 195,\n",
              " 'பள்ளி': 196,\n",
              " 'இது': 197,\n",
              " 'சென்ற': 198,\n",
              " 'உறுதி': 199,\n",
              " 'சோதனை': 200,\n",
              " 'வன்கொடுமை': 201,\n",
              " 'உலக': 202,\n",
              " 'நிதி': 203,\n",
              " 'என்': 204,\n",
              " 'அமெரிக்க': 205,\n",
              " 'மீட்பு': 206,\n",
              " 'உடல்': 207,\n",
              " 'இனி': 208,\n",
              " 'போட்டியில்': 209,\n",
              " 'விழா': 210,\n",
              " 'டெல்லியில்': 211,\n",
              " 'பணம்': 212,\n",
              " 'புது': 213,\n",
              " 'இங்கிலாந்து': 214,\n",
              " 'பெட்ரோல்': 215,\n",
              " '8': 216,\n",
              " 'அதிகாரிகள்': 217,\n",
              " 'பற்றி': 218,\n",
              " 'ஸ்டெர்லைட்': 219,\n",
              " 'விரைவில்': 220,\n",
              " 'வழக்கில்': 221,\n",
              " 'சேவை': 222,\n",
              " 'பின்': 223,\n",
              " 'விவகாரத்தில்': 224,\n",
              " 'திறப்பு': 225,\n",
              " 'சந்திப்பு': 226,\n",
              " 'எம்பி': 227,\n",
              " 'பதில்': 228,\n",
              " 'கர்நாடக': 229,\n",
              " 'பேருந்து': 230,\n",
              " 'மணி': 231,\n",
              " 'மீதான': 232,\n",
              " 'அரசுக்கு': 233,\n",
              " 'காவல்': 234,\n",
              " 'தமிழ்': 235,\n",
              " 'தந்தை': 236,\n",
              " 'காந்தி': 237,\n",
              " 'வங்கி': 238,\n",
              " 'கால்பந்து': 239,\n",
              " 'சிக்கிய': 240,\n",
              " 'மாற்றம்': 241,\n",
              " 'பாகிஸ்தான்': 242,\n",
              " 'வேண்டுகோள்': 243,\n",
              " 'ஆலோசனை': 244,\n",
              " 'விடுமுறை': 245,\n",
              " 'ராவ்': 246,\n",
              " 'சதம்': 247,\n",
              " 'தமிழகம்': 248,\n",
              " 'நீட்': 249,\n",
              " 'படம்': 250,\n",
              " 'மாணவி': 251,\n",
              " 'கருணாநிதி': 252,\n",
              " 'கூட்டம்': 253,\n",
              " 'இளைஞர்கள்': 254,\n",
              " 'வைத்து': 255,\n",
              " 'வரும்': 256,\n",
              " 'ஜெயக்குமார்': 257,\n",
              " 'நோட்டுகள்': 258,\n",
              " 'செல்ல': 259,\n",
              " 'அருகே': 260,\n",
              " 'அணை': 261,\n",
              " 'அதிபர்': 262,\n",
              " 'கதை': 263,\n",
              " 'ஒருவர்': 264,\n",
              " 'ரோகித்': 265,\n",
              " 'காரணம்': 266,\n",
              " 'அவுட்': 267,\n",
              " 'மட்டும்': 268,\n",
              " 'குழு': 269,\n",
              " 'மோசடி': 270,\n",
              " 'அமெரிக்கா': 271,\n",
              " 'ரஜினிகாந்த்': 272,\n",
              " 'வலியுறுத்தல்': 273,\n",
              " 'கோயில்': 274,\n",
              " '15': 275,\n",
              " 'வானிலை': 276,\n",
              " 'முன்': 277,\n",
              " 'பதிவு': 278,\n",
              " '18': 279,\n",
              " 'தான்': 280,\n",
              " 'விடுதலை': 281,\n",
              " 'ஆர்கேநகர்': 282,\n",
              " 'ராஜினாமா': 283,\n",
              " 'காலமானார்': 284,\n",
              " 'தாய்': 285,\n",
              " 'எதிரான': 286,\n",
              " 'ஆதார்': 287,\n",
              " 'மும்பை': 288,\n",
              " 'சிறுவன்': 289,\n",
              " 'தயாரிப்பாளர்': 290,\n",
              " 'பரபரப்பு': 291,\n",
              " 'ராணுவ': 292,\n",
              " 'அடுத்த': 293,\n",
              " 'தொடங்கியது': 294,\n",
              " 'அறிக்கை': 295,\n",
              " 'நியமனம்': 296,\n",
              " '500': 297,\n",
              " 'படத்தில்': 298,\n",
              " 'பாக்': 299,\n",
              " 'எண்ணிக்கை': 300,\n",
              " 'கணவர்': 301,\n",
              " 'கொண்டாட்டம்': 302,\n",
              " 'பதவி': 303,\n",
              " 'காவல்துறை': 304,\n",
              " 'டிக்கெட்': 305,\n",
              " 'கடத்தல்': 306,\n",
              " 'பிரபல': 307,\n",
              " 'தீபாவளி': 308,\n",
              " 'மையம்': 309,\n",
              " 'நோட்டீஸ்': 310,\n",
              " 'வேண்டாம்': 311,\n",
              " 'ஆக': 312,\n",
              " '11': 313,\n",
              " 'தோல்வி': 314,\n",
              " 'கேப்டன்': 315,\n",
              " '2வது': 316,\n",
              " 'பழைய': 317,\n",
              " 'கனமழை': 318,\n",
              " 'ரஜினியின்': 319,\n",
              " 'வரி': 320,\n",
              " 'எடுத்த': 321,\n",
              " 'ஜல்லிக்கட்டு': 322,\n",
              " 'நம்பிக்கை': 323,\n",
              " 'மகள்': 324,\n",
              " 'நாட்களில்': 325,\n",
              " 'இயக்குநர்': 326,\n",
              " 'கூட்டணி': 327,\n",
              " 'பயணம்': 328,\n",
              " 'விஜயபாஸ்கர்': 329,\n",
              " 'கடைசி': 330,\n",
              " 'தனுஷ்': 331,\n",
              " 'தூத்துக்குடி': 332,\n",
              " 'துணை': 333,\n",
              " 'வேதனை': 334,\n",
              " 'விஷால்': 335,\n",
              " 'ஒத்திவைப்பு': 336,\n",
              " 'மனைவியை': 337,\n",
              " 'விருது': 338,\n",
              " 'தேசிய': 339,\n",
              " 'தேதி': 340,\n",
              " 'சபரிமலையில்': 341,\n",
              " 'பொதுமக்கள்': 342,\n",
              " 'டி20': 343,\n",
              " 'போல்': 344,\n",
              " 'பயணிகள்': 345,\n",
              " 'நிர்மலா': 346,\n",
              " 'சிறை': 347,\n",
              " 'முறைகேடு': 348,\n",
              " 'போலி': 349,\n",
              " 'அபராதம்': 350,\n",
              " 'பட்டாசு': 351,\n",
              " 'உலகின்': 352,\n",
              " 'விமர்சனம்': 353,\n",
              " 'ராஜ்': 354,\n",
              " 'கட்டணம்': 355,\n",
              " 'பறிமுதல்': 356,\n",
              " 'குழந்தைகள்': 357,\n",
              " '50': 358,\n",
              " 'அமெரிக்காவில்': 359,\n",
              " 'நடத்த': 360,\n",
              " '100': 361,\n",
              " 'திருட்டு': 362,\n",
              " 'மகிழ்ச்சி': 363,\n",
              " 'வாபஸ்': 364,\n",
              " 'இந்த': 365,\n",
              " 'குடியரசுத்': 366,\n",
              " 'ஆட்சியர்': 367,\n",
              " 'மாணவர்': 368,\n",
              " 'இரு': 369,\n",
              " 'இயக்குனர்': 370,\n",
              " 'வெளியானது': 371,\n",
              " 'சிறுமி': 372,\n",
              " 'நேரம்': 373,\n",
              " 'வைகோ': 374,\n",
              " 'தலைமை': 375,\n",
              " 'காவலர்': 376,\n",
              " 'விழுந்த': 377,\n",
              " 'மூலம்': 378,\n",
              " 'வீடு': 379,\n",
              " 'நன்றி': 380,\n",
              " 'தேர்தலில்': 381,\n",
              " 'இளம்': 382,\n",
              " 'அடி': 383,\n",
              " 'எனக்கு': 384,\n",
              " 'காட்டம்': 385,\n",
              " 'காஷ்மீரில்': 386,\n",
              " 'தண்ணீர்': 387,\n",
              " 'பெயர்': 388,\n",
              " 'குவியும்': 389,\n",
              " 'பாடல்': 390,\n",
              " 'வழக்குப்பதிவு': 391,\n",
              " 'பயிற்சி': 392,\n",
              " 'பரிசு': 393,\n",
              " 'பொன்ராதாகிருஷ்ணன்': 394,\n",
              " 'பட்ஜெட்': 395,\n",
              " 'ஷா': 396,\n",
              " 'அஞ்சலி': 397,\n",
              " 'ஊழியர்கள்': 398,\n",
              " 'தகுதி': 399,\n",
              " 'பிரச்னை': 400,\n",
              " '13': 401,\n",
              " 'இல்லை”': 402,\n",
              " 'தொடர்': 403,\n",
              " 'உரிமை': 404,\n",
              " 'பாராட்டு': 405,\n",
              " 'எப்போது': 406,\n",
              " 'மாநில': 407,\n",
              " 'கேட்டு': 408,\n",
              " 'முயன்ற': 409,\n",
              " 'போன': 410,\n",
              " 'தெரியுமா': 411,\n",
              " 'கோப்பை': 412,\n",
              " 'வேலை': 413,\n",
              " 'வென்ற': 414,\n",
              " 'பட': 415,\n",
              " 'அந்த': 416,\n",
              " 'ஒப்புதல்': 417,\n",
              " 'இரட்டை': 418,\n",
              " 'பிறந்த': 419,\n",
              " 'கனமழைக்கு': 420,\n",
              " 'பெற்ற': 421,\n",
              " 'சம்பவம்': 422,\n",
              " 'பிரதமருக்கு': 423,\n",
              " 'காயம்': 424,\n",
              " 'சிசிடிவி': 425,\n",
              " 'கூடாது': 426,\n",
              " 'படுகாயம்': 427,\n",
              " 'வருமான': 428,\n",
              " 'தாக்கிய': 429,\n",
              " 'சிறையில்': 430,\n",
              " 'நடிக்க': 431,\n",
              " 'ஆண்டுகள்': 432,\n",
              " 'குழந்தையை': 433,\n",
              " 'சந்திக்கிறார்': 434,\n",
              " 'நேரில்': 435,\n",
              " '1': 436,\n",
              " 'விமானம்': 437,\n",
              " 'கட்சி': 438,\n",
              " 'மேலும்': 439,\n",
              " 'அதிகரிப்பு': 440,\n",
              " 'தொடக்கம்': 441,\n",
              " 'அஜித்': 442,\n",
              " 'ஆஸி': 443,\n",
              " 'கும்பல்': 444,\n",
              " 'நீதிமன்றத்தில்': 445,\n",
              " 'காட்சிகள்': 446,\n",
              " 'அமைப்பு': 447,\n",
              " 'பதிலடி': 448,\n",
              " 'கொன்ற': 449,\n",
              " 'வைரல்': 450,\n",
              " 'கொள்ளை': 451,\n",
              " 'எடுக்க': 452,\n",
              " 'தள்ளுபடி': 453,\n",
              " 'நேரத்தில்': 454,\n",
              " 'விசாரிக்க': 455,\n",
              " 'மருத்துவமனை': 456,\n",
              " 'சோகம்': 457,\n",
              " 'அணிக்கு': 458,\n",
              " 'முழு': 459,\n",
              " 'பிறகு': 460,\n",
              " 'மன்னிப்பு': 461,\n",
              " 'அவலம்': 462,\n",
              " 'கல்லூரி': 463,\n",
              " 'மாவட்ட': 464,\n",
              " 'தலைவர்கள்': 465,\n",
              " 'ஆண்டு': 466,\n",
              " 'என்னை': 467,\n",
              " 'குமார்': 468,\n",
              " 'முக்கிய': 469,\n",
              " 'காங்': 470,\n",
              " 'எடப்பாடி': 471,\n",
              " 'சந்திக்க': 472,\n",
              " 'வருகிறது': 473,\n",
              " 'குஜராத்': 474,\n",
              " 'கேரளாவில்': 475,\n",
              " 'வருத்தம்': 476,\n",
              " 'நீர்': 477,\n",
              " 'சூடு': 478,\n",
              " 'மேல்முறையீடு': 479,\n",
              " 'ஆட்சி': 480,\n",
              " 'பஸ்': 481,\n",
              " 'வாக்குப்பதிவு': 482,\n",
              " 'ரன்': 483,\n",
              " 'விளையாட்டு': 484,\n",
              " 'வேண்டும்”': 485,\n",
              " 'சூப்பர்': 486,\n",
              " 'இல்லாத': 487,\n",
              " 'நாளில்': 488,\n",
              " 'அதிக': 489,\n",
              " 'சிகிச்சை': 490,\n",
              " 'அளித்த': 491,\n",
              " 'தங்க': 492,\n",
              " 'புயலால்': 493,\n",
              " 'மாறிய': 494,\n",
              " 'சொன்ன': 495,\n",
              " 'துப்பாக்கிச்': 496,\n",
              " 'ஜாமீன்': 497,\n",
              " 'சிறந்த': 498,\n",
              " 'மாவட்டங்களில்': 499,\n",
              " 'லாரி': 500,\n",
              " 'பாகுபலி': 501,\n",
              " 'வெஸ்ட்': 502,\n",
              " 'நடந்தது': 503,\n",
              " 'அழைப்பு': 504,\n",
              " 'சிக்கல்': 505,\n",
              " 'மக்களுக்கு': 506,\n",
              " 'வாக்குமூலம்': 507,\n",
              " 'பிரகாஷ்': 508,\n",
              " 'ஹெச்ராஜா': 509,\n",
              " 'இடம்': 510,\n",
              " 'இசை': 511,\n",
              " 'வசூல்': 512,\n",
              " 'போலீசார்': 513,\n",
              " 'அல்ல': 514,\n",
              " 'பேருந்துகள்': 515,\n",
              " 'சச்சின்': 516,\n",
              " 'டீசல்': 517,\n",
              " 'ஆசிரியர்': 518,\n",
              " 'விட': 519,\n",
              " 'பரிதாப': 520,\n",
              " 'கிலோ': 521,\n",
              " 'கோரி': 522,\n",
              " 'ஓபன்': 523,\n",
              " 'ஹீரோ': 524,\n",
              " 'தண்டனை': 525,\n",
              " 'உருக்கம்': 526,\n",
              " 'கிமீ': 527,\n",
              " 'பணி': 528,\n",
              " 'அறிவுறுத்தல்': 529,\n",
              " 'நிவாரண': 530,\n",
              " 'எவ்வளவு': 531,\n",
              " 'இரண்டு': 532,\n",
              " 'வென்றது': 533,\n",
              " 'தமிழகத்திற்கு': 534,\n",
              " 'ரிசர்வ்': 535,\n",
              " 'அரசுப்': 536,\n",
              " 'ஜப்பான்': 537,\n",
              " 'விபத்தில்': 538,\n",
              " 'மின்': 539,\n",
              " 'ஒலிம்பிக்': 540,\n",
              " 'வீரர்களுக்கு': 541,\n",
              " 'அணியில்': 542,\n",
              " 'தேவை': 543,\n",
              " 'ஏலம்': 544,\n",
              " 'கான்': 545,\n",
              " 'கேட்ட': 546,\n",
              " 'ஜிஎஸ்டி': 547,\n",
              " 'காதல்': 548,\n",
              " 'ஆய்வாளர்': 549,\n",
              " 'அசத்தல்': 550,\n",
              " 'தங்கம்': 551,\n",
              " 'மோடிக்கு': 552,\n",
              " '30': 553,\n",
              " 'பெண்ணுக்கு': 554,\n",
              " 'கருணாஸ்': 555,\n",
              " 'கூடுதல்': 556,\n",
              " 'அவகாசம்': 557,\n",
              " 'நீதிபதிகள்': 558,\n",
              " 'படத்தின்': 559,\n",
              " 'சீன': 560,\n",
              " 'தவான்': 561,\n",
              " 'மோதி': 562,\n",
              " 'உயிரிழந்த': 563,\n",
              " 'அடித்து': 564,\n",
              " 'நிலை': 565,\n",
              " 'இன்னும்': 566,\n",
              " 'உபியில்': 567,\n",
              " 'இடைத்தேர்தல்': 568,\n",
              " 'சேர்ந்த': 569,\n",
              " '12': 570,\n",
              " 'டிசம்பர்': 571,\n",
              " 'மற்றும்': 572,\n",
              " 'ஆன': 573,\n",
              " 'மெட்ரோ': 574,\n",
              " 'குவிந்த': 575,\n",
              " 'தீவிரம்': 576,\n",
              " 'வேலைநிறுத்தம்': 577,\n",
              " 'நீக்க': 578,\n",
              " 'தம்பதி': 579,\n",
              " 'நபர்': 580,\n",
              " 'பெண்ணை': 581,\n",
              " 'கொல்ல': 582,\n",
              " 'மட்டுமே': 583,\n",
              " 'பைக்': 584,\n",
              " 'கிராம': 585,\n",
              " 'ராஜஸ்தான்': 586,\n",
              " 'சமூக': 587,\n",
              " 'மாணவிகள்': 588,\n",
              " 'இந்தியாவின்': 589,\n",
              " '25': 590,\n",
              " 'பிடித்த': 591,\n",
              " 'மெரினாவில்': 592,\n",
              " 'கண்டுபிடிப்பு': 593,\n",
              " 'உணவு': 594,\n",
              " 'முத்தலாக்': 595,\n",
              " 'பிசிசிஐ': 596,\n",
              " 'வன்முறை': 597,\n",
              " 'ஹாலிவுட்': 598,\n",
              " 'நிறுத்தம்': 599,\n",
              " 'ஜெயலலிதாவின்': 600,\n",
              " 'போக்குவரத்து': 601,\n",
              " 'அடித்த': 602,\n",
              " 'வைக்கும்': 603,\n",
              " 'சட்டம்': 604,\n",
              " 'முடியாத': 605,\n",
              " 'கோடிக்கு': 606,\n",
              " 'நெகிழ்ச்சி': 607,\n",
              " 'விக்கெட்': 608,\n",
              " 'வயதில்': 609,\n",
              " 'தீபிகா': 610,\n",
              " 'சுனாமி': 611,\n",
              " 'டென்னிஸ்': 612,\n",
              " 'முழுவதும்': 613,\n",
              " 'தமிழர்கள்': 614,\n",
              " 'விற்பனை': 615,\n",
              " 'துப்பாக்கிச்சூடு': 616,\n",
              " 'முறை': 617,\n",
              " 'விவேக்': 618,\n",
              " 'வெற்றியை': 619,\n",
              " 'முடியும்': 620,\n",
              " 'தினம்': 621,\n",
              " 'ராகுல்காந்தி': 622,\n",
              " 'சங்கம்': 623,\n",
              " 'எதிர்த்து': 624,\n",
              " 'தமிழில்': 625,\n",
              " 'விஜயகாந்த்': 626,\n",
              " 'விழாவில்': 627,\n",
              " 'எதிரொலி': 628,\n",
              " 'தீர்மானம்': 629,\n",
              " 'அபார': 630,\n",
              " 'தனி': 631,\n",
              " 'விமானத்தில்': 632,\n",
              " 'யோகி': 633,\n",
              " 'இதுதான்': 634,\n",
              " 'உதவி': 635,\n",
              " 'சாதனையை': 636,\n",
              " 'பெற': 637,\n",
              " 'உண்மை': 638,\n",
              " 'திருமாவளவன்': 639,\n",
              " 'வருகிறார்': 640,\n",
              " 'ஊழல்': 641,\n",
              " 'பலத்த': 642,\n",
              " 'காரணமா': 643,\n",
              " 'ஆட்டம்': 644,\n",
              " 'வெளியாகிறது': 645,\n",
              " 'த்ரிஷா': 646,\n",
              " 'மாலை': 647,\n",
              " 'திருமண': 648,\n",
              " 'இண்டீஸ்': 649,\n",
              " 'நிறைவு': 650,\n",
              " 'அவதி': 651,\n",
              " 'சர்மா': 652,\n",
              " 'அம்மா': 653,\n",
              " 'குவிப்பு': 654,\n",
              " 'நிலையில்': 655,\n",
              " 'உச்சநீதிமன்றத்தில்': 656,\n",
              " 'திருடன்': 657,\n",
              " 'அசத்திய': 658,\n",
              " 'கடலில்': 659,\n",
              " 'சுட்டுக்கொலை': 660,\n",
              " 'சீதாராமன்': 661,\n",
              " 'மூன்று': 662,\n",
              " 'ரயில்வே': 663,\n",
              " 'உள்ளிட்ட': 664,\n",
              " '‘சர்கார்’': 665,\n",
              " 'மணல்': 666,\n",
              " 'இழந்த': 667,\n",
              " 'புகைப்படம்': 668,\n",
              " 'பல': 669,\n",
              " 'ரன்கள்': 670,\n",
              " 'தயார்': 671,\n",
              " 'நாயுடு': 672,\n",
              " 'எம்பிக்கள்': 673,\n",
              " 'கணவன்': 674,\n",
              " 'வழங்க': 675,\n",
              " 'மாத': 676,\n",
              " 'போட்ட': 677,\n",
              " 'நீட்டிப்பு': 678,\n",
              " 'தடுக்க': 679,\n",
              " 'மாணவிக்கு': 680,\n",
              " 'நயன்தாரா': 681,\n",
              " 'பாதிக்கப்பட்ட': 682,\n",
              " 'ஓய்வு': 683,\n",
              " 'நாளாக': 684,\n",
              " 'லுக்': 685,\n",
              " 'செய்தது': 686,\n",
              " 'தகவல்கள்': 687,\n",
              " 'இந்தியாவுக்கு': 688,\n",
              " 'அமைச்சர்கள்': 689,\n",
              " 'எம்ஜிஆர்': 690,\n",
              " 'சோனியா': 691,\n",
              " '9': 692,\n",
              " 'ஆண்டுகளுக்கு': 693,\n",
              " 'கார்த்திக்': 694,\n",
              " 'பார்க்க': 695,\n",
              " 'இல்லாமல்': 696,\n",
              " 'பள்ளிகளுக்கு': 697,\n",
              " 'களத்தில்': 698,\n",
              " 'ஏ': 699,\n",
              " 'இருவர்': 700,\n",
              " 'டிவி': 701,\n",
              " 'கண்ணீர்': 702,\n",
              " '3வது': 703,\n",
              " 'தொல்லை': 704,\n",
              " 'பேரை': 705,\n",
              " 'மகளிர்': 706,\n",
              " 'வாஜ்பாய்': 707,\n",
              " 'சர்வதேச': 708,\n",
              " 'வெளியிட்ட': 709,\n",
              " 'காதலன்': 710,\n",
              " 'வளர்ச்சி': 711,\n",
              " 'பங்கேற்பு': 712,\n",
              " 'அஸ்வின்': 713,\n",
              " 'பேசிய': 714,\n",
              " 'அறிவுரை': 715,\n",
              " 'ஆசிய': 716,\n",
              " 'கேரளாவுக்கு': 717,\n",
              " 'பக்தர்கள்': 718,\n",
              " 'கோலிக்கு': 719,\n",
              " 'சொத்து': 720,\n",
              " 'படத்திற்கு': 721,\n",
              " 'நிதியுதவி': 722,\n",
              " 'தவிக்கும்': 723,\n",
              " 'திருச்சி': 724,\n",
              " 'ரிலீஸ்': 725,\n",
              " 'மிரட்டிய': 726,\n",
              " 'குண்டு': 727,\n",
              " 'யானை': 728,\n",
              " 'நேர்ந்த': 729,\n",
              " 'இணையும்': 730,\n",
              " 'மேகதாது': 731,\n",
              " 'பூஜை': 732,\n",
              " 'அனைத்து': 733,\n",
              " 'கார்த்தி': 734,\n",
              " 'மோடியை': 735,\n",
              " 'உச்சநீதிமன்ற': 736,\n",
              " '14': 737,\n",
              " 'இடையே': 738,\n",
              " '‘கஜா’': 739,\n",
              " 'மழைக்கு': 740,\n",
              " 'ட்விட்டரில்': 741,\n",
              " 'பேச்சுவார்த்தை': 742,\n",
              " 'ஆப்கான்': 743,\n",
              " 'ஹாக்கி': 744,\n",
              " 'பாண்டியராஜன்': 745,\n",
              " 'முதல்வராக': 746,\n",
              " 'எந்த': 747,\n",
              " 'சந்தித்தார்': 748,\n",
              " 'தரப்பு': 749,\n",
              " 'சீமான்': 750,\n",
              " 'காஷ்மீர்': 751,\n",
              " 'இலை': 752,\n",
              " 'பதவியேற்பு': 753,\n",
              " 'சாடல்': 754,\n",
              " 'கூகுள்': 755,\n",
              " 'மருத்துவ': 756,\n",
              " 'வாழ்க்கை': 757,\n",
              " 'பும்ரா': 758,\n",
              " 'பாலிவுட்': 759,\n",
              " 'இழப்பீடு': 760,\n",
              " 'வேறு': 761,\n",
              " 'கொண்டாடிய': 762,\n",
              " 'வது': 763,\n",
              " 'திருநங்கை': 764,\n",
              " 'விடிய': 765,\n",
              " 'இருந்த': 766,\n",
              " 'சொந்த': 767,\n",
              " 'ட்வீட்': 768,\n",
              " 'ஸ்டிரைக்': 769,\n",
              " 'ஆஜராக': 770,\n",
              " 'படப்பிடிப்பு': 771,\n",
              " 'ராமர்': 772,\n",
              " 'நாட்கள்': 773,\n",
              " 'பேட்டிங்': 774,\n",
              " 'ஐதராபாத்': 775,\n",
              " 'தலைமுறை': 776,\n",
              " 'கர்நாடகா': 777,\n",
              " 'செல்லும்': 778,\n",
              " 'வெள்ளத்தில்': 779,\n",
              " 'ஆதரவாக': 780,\n",
              " 'வந்தது': 781,\n",
              " 'பேட்மிண்டன்': 782,\n",
              " 'பயிற்சியாளர்': 783,\n",
              " 'பிறந்தநாள்': 784,\n",
              " 'ஓபன்னீர்செல்வம்': 785,\n",
              " 'பாதித்த': 786,\n",
              " 'டாப்': 787,\n",
              " 'தொழிலதிபர்': 788,\n",
              " 'அசத்தும்': 789,\n",
              " 'ஜடேஜா': 790,\n",
              " 'மருத்துவர்கள்': 791,\n",
              " 'கனிமொழி': 792,\n",
              " 'இலக்கு': 793,\n",
              " 'பாரதிராஜா': 794,\n",
              " 'செய்யப்பட்ட': 795,\n",
              " 'வர': 796,\n",
              " 'டெல்டா': 797,\n",
              " 'செயலாளர்': 798,\n",
              " 'சீனா': 799,\n",
              " 'ரேஷன்': 800,\n",
              " 'தயாராகும்': 801,\n",
              " 'குடும்பம்': 802,\n",
              " 'கவிழ்ந்து': 803,\n",
              " 'உட்பட': 804,\n",
              " 'ஆர்கேநகரில்': 805,\n",
              " 'வரவேற்பு': 806,\n",
              " 'பெயரில்': 807,\n",
              " 'ஜோடி': 808,\n",
              " 'நடத்திய': 809,\n",
              " 'சொல்கிறார்': 810,\n",
              " 'கடற்படை': 811,\n",
              " 'சண்டை': 812,\n",
              " 'அலுவலகத்தில்': 813,\n",
              " 'ரூ10': 814,\n",
              " 'மீறி': 815,\n",
              " 'இரங்கல்': 816,\n",
              " 'என்று': 817,\n",
              " 'அளவில்': 818,\n",
              " 'செய்யும்': 819,\n",
              " 'வீராங்கனை': 820,\n",
              " 'திரும்ப': 821,\n",
              " 'புகழாரம்': 822,\n",
              " 'நடக்கும்': 823,\n",
              " 'ராணுவம்': 824,\n",
              " 'பாடம்': 825,\n",
              " 'கர்ப்பிணி': 826,\n",
              " 'ஹெலிகாப்டர்': 827,\n",
              " 'வெளியே': 828,\n",
              " 'கை': 829,\n",
              " 'கட்ட': 830,\n",
              " 'ஆம்': 831,\n",
              " 'சினிமா': 832,\n",
              " 'அமித்ஷா': 833,\n",
              " 'அரசை': 834,\n",
              " '70': 835,\n",
              " 'பெண்களுக்கு': 836,\n",
              " 'ஷாக்': 837,\n",
              " 'முடக்கம்': 838,\n",
              " 'சந்திரபாபு': 839,\n",
              " 'பன்னீர்செல்வம்': 840,\n",
              " 'தூக்கிட்டு': 841,\n",
              " 'காற்று': 842,\n",
              " 'காப்பாற்றிய': 843,\n",
              " 'ஒப்பந்தம்': 844,\n",
              " 'உலகக்கோப்பை': 845,\n",
              " 'பொருட்கள்': 846,\n",
              " 'விழுந்து': 847,\n",
              " 'மாஃபா': 848,\n",
              " 'மசோதா': 849,\n",
              " 'உபி': 850,\n",
              " 'பொங்கல்': 851,\n",
              " 'நிறுவனம்': 852,\n",
              " 'ஹீரோயின்': 853,\n",
              " 'இறந்த': 854,\n",
              " '60': 855,\n",
              " 'வாங்கிய': 856,\n",
              " 'வெள்ள': 857,\n",
              " '‘பேட்ட’': 858,\n",
              " '40': 859,\n",
              " 'விவசாயி': 860,\n",
              " 'கூட்டத்தில்': 861,\n",
              " 'முதியவர்': 862,\n",
              " 'தங்கமணி': 863,\n",
              " 'கப்பல்': 864,\n",
              " 'நிலையத்தில்': 865,\n",
              " 'கோவை': 866,\n",
              " 'டூ': 867,\n",
              " 'மூதாட்டி': 868,\n",
              " 'சந்தேகம்': 869,\n",
              " 'செல்போன்': 870,\n",
              " 'அதிகம்': 871,\n",
              " 'அருண்': 872,\n",
              " 'கொல்லப்பட்ட': 873,\n",
              " 'மறுத்த': 874,\n",
              " 'உயிர்': 875,\n",
              " 'வேகத்தில்': 876,\n",
              " 'விஸ்வாசம்': 877,\n",
              " 'வகுப்பு': 878,\n",
              " 'வருகை': 879,\n",
              " 'இதுவரை': 880,\n",
              " 'கட்டாயம்': 881,\n",
              " 'முறையில்': 882,\n",
              " 'சுருண்டது': 883,\n",
              " 'பாஜகவுக்கு': 884,\n",
              " 'பகீர்': 885,\n",
              " 'விநாயகர்': 886,\n",
              " 'மல்லையா': 887,\n",
              " 'ரூ': 888,\n",
              " 'மாளிகை': 889,\n",
              " 'வெள்ளம்': 890,\n",
              " 'இருக்க': 891,\n",
              " 'நடுவானில்': 892,\n",
              " 'நாடாளுமன்றத்தில்': 893,\n",
              " 'ரஷ்ய': 894,\n",
              " 'சிம்பு': 895,\n",
              " 'விவரம்': 896,\n",
              " '17': 897,\n",
              " 'மோகன்': 898,\n",
              " 'ஸ்மித்': 899,\n",
              " 'இணையத்தில்': 900,\n",
              " 'செங்கோட்டையன்': 901,\n",
              " 'ஆணையர்': 902,\n",
              " 'அரசியலில்': 903,\n",
              " 'சிக்கி': 904,\n",
              " 'நோட்டு': 905,\n",
              " 'சாலையில்': 906,\n",
              " 'தேர்வில்': 907,\n",
              " 'ஏற்க': 908,\n",
              " 'பெண்களை': 909,\n",
              " 'மதுசூதனன்': 910,\n",
              " 'இளம்பெண்': 911,\n",
              " 'பட்டியல்': 912,\n",
              " 'என்ற': 913,\n",
              " 'எல்லையில்': 914,\n",
              " 'கோவிலில்': 915,\n",
              " 'மாறன்': 916,\n",
              " 'தர': 917,\n",
              " 'வேட்பாளர்': 918,\n",
              " 'திருப்பதி': 919,\n",
              " 'சாலை': 920,\n",
              " 'நூதன': 921,\n",
              " 'விவேகம்': 922,\n",
              " 'கிரிக்கெட்டில்': 923,\n",
              " 'ஐஸ்வர்யா': 924,\n",
              " 'அணையில்': 925,\n",
              " 'பிவிசிந்து': 926,\n",
              " 'டாஸ்மாக்': 927,\n",
              " 'போது': 928,\n",
              " 'ஃபர்ஸ்ட்': 929,\n",
              " 'ஆர்ப்பாட்டம்': 930,\n",
              " 'போராட்டத்தில்': 931,\n",
              " '1000': 932,\n",
              " 'மாற்ற': 933,\n",
              " 'சேதுபதி': 934,\n",
              " 'ரயிலில்': 935,\n",
              " 'நினைவிடத்தில்': 936,\n",
              " 'உலகக்': 937,\n",
              " 'மாறும்': 938,\n",
              " 'தொடங்கி': 939,\n",
              " 'முடிவுக்கு': 940,\n",
              " 'கிறிஸ்துமஸ்': 941,\n",
              " 'சர்கார்': 942,\n",
              " 'போட்டு': 943,\n",
              " 'ஐசிசி': 944,\n",
              " 'முதலில்': 945,\n",
              " 'சந்தித்த': 946,\n",
              " 'சம்மன்': 947,\n",
              " 'ஸ்டார்': 948,\n",
              " 'தேர்தலை': 949,\n",
              " 'இந்தியர்கள்': 950,\n",
              " 'வீச்சு': 951,\n",
              " 'ஜாக்டோ': 952,\n",
              " '“நான்': 953,\n",
              " 'மக்களின்': 954,\n",
              " 'பயங்கரவாதிகள்': 955,\n",
              " 'விக்ரம்': 956,\n",
              " 'சார்பில்': 957,\n",
              " 'கூறி': 958,\n",
              " 'ஆந்திர': 959,\n",
              " 'பார்த்த': 960,\n",
              " 'பிருத்வி': 961,\n",
              " 'பஞ்சாப்': 962,\n",
              " 'இருக்கிறது': 963,\n",
              " 'பகுதிகளில்': 964,\n",
              " 'விஜய்சேதுபதி': 965,\n",
              " 'மோடியின்': 966,\n",
              " 'தொடங்கிய': 967,\n",
              " 'வழக்கறிஞர்': 968,\n",
              " 'காட்டிய': 969,\n",
              " 'மாடியில்': 970,\n",
              " 'காண': 971,\n",
              " 'பெற்றோர்': 972,\n",
              " 'மனம்': 973,\n",
              " 'தலைமைச்': 974,\n",
              " 'பசிதம்பரம்': 975,\n",
              " 'பறிப்பு': 976,\n",
              " 'நீதிமன்ற': 977,\n",
              " 'நாட்டின்': 978,\n",
              " 'ஊழியர்': 979,\n",
              " 'கைது\\xa0': 980,\n",
              " 'குட்கா': 981,\n",
              " 'ட்விட்டர்': 982,\n",
              " 'மின்சாரம்': 983,\n",
              " 'மனித': 984,\n",
              " 'பதிலளிக்க': 985,\n",
              " 'உள்ள': 986,\n",
              " 'சம்பத்': 987,\n",
              " 'இலவச': 988,\n",
              " 'முடிந்தது': 989,\n",
              " 'படத்தை': 990,\n",
              " 'எத்தனை': 991,\n",
              " 'கிடையாது': 992,\n",
              " 'கொலை': 993,\n",
              " 'இடங்களில்': 994,\n",
              " 'முரளி': 995,\n",
              " 'அரையிறுதியில்': 996,\n",
              " 'திடுக்கிடும்': 997,\n",
              " 'மனிதர்': 998,\n",
              " 'தடியடி': 999,\n",
              " 'கடன்': 1000,\n",
              " ...}"
            ]
          },
          "metadata": {},
          "execution_count": 16
        }
      ]
    },
    {
      "cell_type": "code",
      "source": [
        "training_sequenc = tokenize.texts_to_sequences(train_data.WithoutPunc)\n",
        "training_padd = pad_sequences(training_sequenc, maxlen = max_len, padding = padding_type, truncating = trunc_type)\n",
        "testing_sequenc = tokenize.texts_to_sequences(test_data.WithoutPunc)\n",
        "testing_padd = pad_sequences(testing_sequenc, maxlen = max_len, padding = padding_type, truncating = trunc_type)"
      ],
      "metadata": {
        "id": "btlWYg6QM5oW"
      },
      "execution_count": null,
      "outputs": []
    },
    {
      "cell_type": "code",
      "source": [
        "training_padd"
      ],
      "metadata": {
        "id": "ouqCJPYhM5q_",
        "colab": {
          "base_uri": "https://localhost:8080/"
        },
        "outputId": "e291f83c-8757-4637-be81-b961304a9339"
      },
      "execution_count": null,
      "outputs": [
        {
          "output_type": "execute_result",
          "data": {
            "text/plain": [
              "array([[   1, 2227,  432, ...,    0,    0,    0],\n",
              "       [   9,  818, 1427, ...,    0,    0,    0],\n",
              "       [ 767, 3029, 1108, ...,    0,    0,    0],\n",
              "       ...,\n",
              "       [   1,  415, 1429, ...,    0,    0,    0],\n",
              "       [ 492,    1,    1, ...,    0,    0,    0],\n",
              "       [ 496,  478,  422, ...,    0,    0,    0]], dtype=int32)"
            ]
          },
          "metadata": {},
          "execution_count": 18
        }
      ]
    },
    {
      "cell_type": "code",
      "source": [
        "training_padd.shape"
      ],
      "metadata": {
        "id": "ASzJUUPnM5tz",
        "colab": {
          "base_uri": "https://localhost:8080/"
        },
        "outputId": "b4449705-55a3-47f8-a90c-4e6b7bf82880"
      },
      "execution_count": null,
      "outputs": [
        {
          "output_type": "execute_result",
          "data": {
            "text/plain": [
              "(14521, 50)"
            ]
          },
          "metadata": {},
          "execution_count": 19
        }
      ]
    },
    {
      "cell_type": "code",
      "source": [
        "testing_padd.shape"
      ],
      "metadata": {
        "id": "Nqa_CgN-M5wd",
        "colab": {
          "base_uri": "https://localhost:8080/"
        },
        "outputId": "8bacca55-c96d-4732-a84f-fbb38bd0d283"
      },
      "execution_count": null,
      "outputs": [
        {
          "output_type": "execute_result",
          "data": {
            "text/plain": [
              "(3631, 50)"
            ]
          },
          "metadata": {},
          "execution_count": 20
        }
      ]
    },
    {
      "cell_type": "code",
      "source": [
        "predict_msg1=['சென்னையில் பெண் கொல்லப்பட்டார்']\n",
        "predict_msg2=['டெல்லியில் பூகம்பம்']\n",
        "predict_msg3=['நடிகர் போதைப்பொருள் பயன்படுத்தி பிடிபட்டார்']\n",
        "predict_msg4=['கால்பந்து ரசிகர்களை இழந்து வருகிறது']\n",
        "predict_msg5=['சுயேச்சை அமைச்சரை டிஸ்மிஸ்']\n",
        "predict_msg6=['மலேசிய விமானம் காணவில்லை']"
      ],
      "metadata": {
        "id": "GeF-WdZxM5zR"
      },
      "execution_count": null,
      "outputs": []
    },
    {
      "cell_type": "code",
      "source": [
        "n_lstm = 20\n",
        "drop_lstm =0.2\n",
        "vocab_s = 5000\n",
        "embed_dim = 16\n",
        "drp_vale = 0.2 \n",
        "n_dense = 24"
      ],
      "metadata": {
        "id": "9v3G-vhHM519"
      },
      "execution_count": null,
      "outputs": []
    },
    {
      "cell_type": "markdown",
      "source": [
        "originally the number of epochs is 50"
      ],
      "metadata": {
        "id": "WBdmB5O5urAQ"
      }
    },
    {
      "cell_type": "code",
      "source": [
        "tn_lstm = Sequential()\n",
        "tn_lstm.add(Embedding(vocab_s, embed_dim, input_length=max_len))\n",
        "tn_lstm.add(LSTM(n_lstm, dropout=drop_lstm, return_sequences=True))\n",
        "tn_lstm.add(LSTM(n_lstm, dropout=drop_lstm, return_sequences=True))\n",
        "tn_lstm.add(Dense(1, activation='sigmoid'))\n",
        "tn_lstm.compile(loss = 'binary_crossentropy', optimizer = 'adam', metrics=['accuracy'])\n",
        "\n",
        "num_epochs = 10\n",
        "#early_stop = EarlyStopping(monitor='val_loss', patience=2)\n",
        "history = tn_lstm.fit(training_padd, train_data['tn'], epochs=num_epochs, validation_data=(testing_padd, test_data['tn']), verbose=2)"
      ],
      "metadata": {
        "id": "rsX8LRgwM54u",
        "colab": {
          "base_uri": "https://localhost:8080/"
        },
        "outputId": "3e8f2102-8538-4961-9b18-92d5a4dc7416"
      },
      "execution_count": null,
      "outputs": [
        {
          "output_type": "stream",
          "name": "stdout",
          "text": [
            "Epoch 1/10\n",
            "454/454 - 38s - loss: 0.5629 - accuracy: 0.7193 - val_loss: 0.4341 - val_accuracy: 0.8045 - 38s/epoch - 84ms/step\n",
            "Epoch 2/10\n",
            "454/454 - 21s - loss: 0.3457 - accuracy: 0.8579 - val_loss: 0.4045 - val_accuracy: 0.8340 - 21s/epoch - 46ms/step\n",
            "Epoch 3/10\n",
            "454/454 - 22s - loss: 0.2833 - accuracy: 0.8875 - val_loss: 0.4136 - val_accuracy: 0.8395 - 22s/epoch - 49ms/step\n",
            "Epoch 4/10\n",
            "454/454 - 24s - loss: 0.2553 - accuracy: 0.9012 - val_loss: 0.3981 - val_accuracy: 0.8443 - 24s/epoch - 53ms/step\n",
            "Epoch 5/10\n",
            "454/454 - 22s - loss: 0.2281 - accuracy: 0.9124 - val_loss: 0.3947 - val_accuracy: 0.8451 - 22s/epoch - 49ms/step\n",
            "Epoch 6/10\n",
            "454/454 - 24s - loss: 0.2133 - accuracy: 0.9164 - val_loss: 0.4021 - val_accuracy: 0.8463 - 24s/epoch - 52ms/step\n",
            "Epoch 7/10\n",
            "454/454 - 22s - loss: 0.1935 - accuracy: 0.9251 - val_loss: 0.4350 - val_accuracy: 0.8480 - 22s/epoch - 48ms/step\n",
            "Epoch 8/10\n",
            "454/454 - 23s - loss: 0.1821 - accuracy: 0.9284 - val_loss: 0.4741 - val_accuracy: 0.8502 - 23s/epoch - 50ms/step\n",
            "Epoch 9/10\n",
            "454/454 - 24s - loss: 0.1706 - accuracy: 0.9296 - val_loss: 0.4935 - val_accuracy: 0.8452 - 24s/epoch - 53ms/step\n",
            "Epoch 10/10\n",
            "454/454 - 23s - loss: 0.1629 - accuracy: 0.9321 - val_loss: 0.4505 - val_accuracy: 0.8492 - 23s/epoch - 50ms/step\n"
          ]
        }
      ]
    },
    {
      "cell_type": "code",
      "source": [
        "metrics = pd.DataFrame(history.history)\n",
        "# Rename column\n",
        "metrics.rename(columns = {'loss': 'Training_Loss', 'accuracy': 'Training_Accuracy',\n",
        "                         'val_loss': 'Validation_Loss', 'val_accuracy': 'Validation_Accuracy'}, inplace = True)\n",
        "def plot_graphs1(var1, var2, string):\n",
        "    metrics[[var1, var2]].plot()\n",
        "    plt.title('LSTM Model: Training and Validation ' + string)\n",
        "    plt.xlabel ('Number of epochs')\n",
        "    plt.ylabel(string)\n",
        "    plt.legend([var1, var2])"
      ],
      "metadata": {
        "id": "MyDflINWM57Q"
      },
      "execution_count": null,
      "outputs": []
    },
    {
      "cell_type": "code",
      "source": [
        "plot_graphs1('Training_Loss', 'Validation_Loss', 'loss')\n",
        "plot_graphs1('Training_Accuracy', 'Validation_Accuracy', 'accuracy')"
      ],
      "metadata": {
        "id": "Y9PyiyX7M59_",
        "colab": {
          "base_uri": "https://localhost:8080/",
          "height": 573
        },
        "outputId": "e01971fd-901b-47ef-999c-0de6546c6c88"
      },
      "execution_count": null,
      "outputs": [
        {
          "output_type": "display_data",
          "data": {
            "text/plain": [
              "<Figure size 432x288 with 1 Axes>"
            ],
            "image/png": "[encoded data removed]"
          },
          "metadata": {
            "needs_background": "light"
          }
        },
        {
          "output_type": "display_data",
          "data": {
            "text/plain": [
              "<Figure size 432x288 with 1 Axes>"
            ],
            "image/png": "[encoded data removed]"
          },
          "metadata": {
            "needs_background": "light"
          }
        }
      ]
    },
    {
      "cell_type": "code",
      "source": [
        "ind_lstm = Sequential()\n",
        "ind_lstm.add(Embedding(vocab_s, embed_dim, input_length=max_len))\n",
        "ind_lstm.add(LSTM(n_lstm, dropout=drop_lstm, return_sequences=True))\n",
        "ind_lstm.add(LSTM(n_lstm, dropout=drop_lstm, return_sequences=True))\n",
        "ind_lstm.add(Dense(1, activation='sigmoid'))\n",
        "ind_lstm.compile(loss = 'binary_crossentropy', optimizer = 'adam', metrics=['accuracy'])\n",
        "\n",
        "num_epochs = 10\n",
        "#early_stop = EarlyStopping(monitor='val_loss', patience=2)\n",
        "history = ind_lstm.fit(training_padd, train_data['ind'], epochs=num_epochs, validation_data=(testing_padd, test_data['ind']), verbose=2)"
      ],
      "metadata": {
        "id": "dCwM8HloM6B5",
        "colab": {
          "base_uri": "https://localhost:8080/"
        },
        "outputId": "5bcf781b-cf8e-42d4-e845-6e59e93be974"
      },
      "execution_count": null,
      "outputs": [
        {
          "output_type": "stream",
          "name": "stdout",
          "text": [
            "Epoch 1/10\n",
            "454/454 - 31s - loss: 0.5317 - accuracy: 0.7720 - val_loss: 0.4234 - val_accuracy: 0.8045 - 31s/epoch - 67ms/step\n",
            "Epoch 2/10\n",
            "454/454 - 23s - loss: 0.3285 - accuracy: 0.8662 - val_loss: 0.3851 - val_accuracy: 0.8409 - 23s/epoch - 51ms/step\n",
            "Epoch 3/10\n",
            "454/454 - 21s - loss: 0.2539 - accuracy: 0.9011 - val_loss: 0.3867 - val_accuracy: 0.8485 - 21s/epoch - 47ms/step\n",
            "Epoch 4/10\n",
            "454/454 - 22s - loss: 0.2198 - accuracy: 0.9172 - val_loss: 0.3614 - val_accuracy: 0.8548 - 22s/epoch - 49ms/step\n",
            "Epoch 5/10\n",
            "454/454 - 22s - loss: 0.1976 - accuracy: 0.9238 - val_loss: 0.3591 - val_accuracy: 0.8577 - 22s/epoch - 49ms/step\n",
            "Epoch 6/10\n",
            "454/454 - 23s - loss: 0.1835 - accuracy: 0.9295 - val_loss: 0.3774 - val_accuracy: 0.8607 - 23s/epoch - 50ms/step\n",
            "Epoch 7/10\n",
            "454/454 - 22s - loss: 0.1669 - accuracy: 0.9348 - val_loss: 0.4056 - val_accuracy: 0.8608 - 22s/epoch - 49ms/step\n",
            "Epoch 8/10\n",
            "454/454 - 22s - loss: 0.1540 - accuracy: 0.9414 - val_loss: 0.3853 - val_accuracy: 0.8651 - 22s/epoch - 49ms/step\n",
            "Epoch 9/10\n",
            "454/454 - 24s - loss: 0.1465 - accuracy: 0.9426 - val_loss: 0.4320 - val_accuracy: 0.8630 - 24s/epoch - 53ms/step\n",
            "Epoch 10/10\n",
            "454/454 - 23s - loss: 0.1406 - accuracy: 0.9453 - val_loss: 0.3998 - val_accuracy: 0.8562 - 23s/epoch - 50ms/step\n"
          ]
        }
      ]
    },
    {
      "cell_type": "code",
      "source": [
        "metrics = pd.DataFrame(history.history)\n",
        "# Rename column\n",
        "metrics.rename(columns = {'loss': 'Training_Loss', 'accuracy': 'Training_Accuracy',\n",
        "                         'val_loss': 'Validation_Loss', 'val_accuracy': 'Validation_Accuracy'}, inplace = True)\n",
        "def plot_graphs1(var1, var2, string):\n",
        "    metrics[[var1, var2]].plot()\n",
        "    plt.title('LSTM Model: Training and Validation ' + string)\n",
        "    plt.xlabel ('Number of epochs')\n",
        "    plt.ylabel(string)\n",
        "    plt.legend([var1, var2])\n",
        "\n",
        "plot_graphs1('Training_Loss', 'Validation_Loss', 'loss')\n",
        "plot_graphs1('Training_Accuracy', 'Validation_Accuracy', 'accuracy')"
      ],
      "metadata": {
        "id": "RXMSLAoCOwY6",
        "colab": {
          "base_uri": "https://localhost:8080/",
          "height": 573
        },
        "outputId": "2bbc01be-2345-4fd0-8e74-4dd0d37e17e9"
      },
      "execution_count": null,
      "outputs": [
        {
          "output_type": "display_data",
          "data": {
            "text/plain": [
              "<Figure size 432x288 with 1 Axes>"
            ],
            "image/png": "[encoded data removed]"
          },
          "metadata": {
            "needs_background": "light"
          }
        },
        {
          "output_type": "display_data",
          "data": {
            "text/plain": [
              "<Figure size 432x288 with 1 Axes>"
            ],
            "image/png": "[encoded data removed]"
          },
          "metadata": {
            "needs_background": "light"
          }
        }
      ]
    },
    {
      "cell_type": "code",
      "source": [
        "wo_lstm = Sequential()\n",
        "wo_lstm.add(Embedding(vocab_s, embed_dim, input_length=max_len))\n",
        "wo_lstm.add(LSTM(n_lstm, dropout=drop_lstm, return_sequences=True))\n",
        "wo_lstm.add(LSTM(n_lstm, dropout=drop_lstm, return_sequences=True))\n",
        "wo_lstm.add(Dense(1, activation='sigmoid'))\n",
        "wo_lstm.compile(loss = 'binary_crossentropy', optimizer = 'adam', metrics=['accuracy'])\n",
        "\n",
        "num_epochs = 10\n",
        "#early_stop = EarlyStopping(monitor='val_loss', patience=2)\n",
        "history = wo_lstm.fit(training_padd, train_data['wo'], epochs=num_epochs, validation_data=(testing_padd, test_data['wo']), verbose=2)"
      ],
      "metadata": {
        "id": "BstA1XuhOwbk",
        "colab": {
          "base_uri": "https://localhost:8080/"
        },
        "outputId": "650f3377-b448-4867-b045-7084c4b0653b"
      },
      "execution_count": null,
      "outputs": [
        {
          "output_type": "stream",
          "name": "stdout",
          "text": [
            "Epoch 1/10\n",
            "454/454 - 33s - loss: 0.3025 - accuracy: 0.9239 - val_loss: 0.2748 - val_accuracy: 0.9240 - 33s/epoch - 73ms/step\n",
            "Epoch 2/10\n",
            "454/454 - 24s - loss: 0.2607 - accuracy: 0.9278 - val_loss: 0.2351 - val_accuracy: 0.9360 - 24s/epoch - 52ms/step\n",
            "Epoch 3/10\n",
            "454/454 - 22s - loss: 0.1662 - accuracy: 0.9571 - val_loss: 0.1791 - val_accuracy: 0.9503 - 22s/epoch - 49ms/step\n",
            "Epoch 4/10\n",
            "454/454 - 23s - loss: 0.1327 - accuracy: 0.9655 - val_loss: 0.1952 - val_accuracy: 0.9508 - 23s/epoch - 50ms/step\n",
            "Epoch 5/10\n",
            "454/454 - 24s - loss: 0.1123 - accuracy: 0.9704 - val_loss: 0.1806 - val_accuracy: 0.9520 - 24s/epoch - 52ms/step\n",
            "Epoch 6/10\n",
            "454/454 - 23s - loss: 0.0920 - accuracy: 0.9737 - val_loss: 0.1719 - val_accuracy: 0.9534 - 23s/epoch - 51ms/step\n",
            "Epoch 7/10\n",
            "454/454 - 24s - loss: 0.0893 - accuracy: 0.9753 - val_loss: 0.1682 - val_accuracy: 0.9532 - 24s/epoch - 53ms/step\n",
            "Epoch 8/10\n",
            "454/454 - 24s - loss: 0.0765 - accuracy: 0.9784 - val_loss: 0.1624 - val_accuracy: 0.9543 - 24s/epoch - 54ms/step\n",
            "Epoch 9/10\n",
            "454/454 - 23s - loss: 0.0668 - accuracy: 0.9813 - val_loss: 0.1678 - val_accuracy: 0.9548 - 23s/epoch - 51ms/step\n",
            "Epoch 10/10\n",
            "454/454 - 23s - loss: 0.0603 - accuracy: 0.9830 - val_loss: 0.1690 - val_accuracy: 0.9565 - 23s/epoch - 50ms/step\n"
          ]
        }
      ]
    },
    {
      "cell_type": "code",
      "source": [
        "metrics = pd.DataFrame(history.history)\n",
        "# Rename column\n",
        "metrics.rename(columns = {'loss': 'Training_Loss', 'accuracy': 'Training_Accuracy',\n",
        "                         'val_loss': 'Validation_Loss', 'val_accuracy': 'Validation_Accuracy'}, inplace = True)\n",
        "def plot_graphs1(var1, var2, string):\n",
        "    metrics[[var1, var2]].plot()\n",
        "    plt.title('LSTM Model: Training and Validation ' + string)\n",
        "    plt.xlabel ('Number of epochs')\n",
        "    plt.ylabel(string)\n",
        "    plt.legend([var1, var2])\n",
        "\n",
        "plot_graphs1('Training_Loss', 'Validation_Loss', 'loss')\n",
        "plot_graphs1('Training_Accuracy', 'Validation_Accuracy', 'accuracy')"
      ],
      "metadata": {
        "id": "1DHPwunJOweg",
        "colab": {
          "base_uri": "https://localhost:8080/",
          "height": 573
        },
        "outputId": "abd87f93-9114-4d2e-c737-9921d5889151"
      },
      "execution_count": null,
      "outputs": [
        {
          "output_type": "display_data",
          "data": {
            "text/plain": [
              "<Figure size 432x288 with 1 Axes>"
            ],
            "image/png": "[encoded data removed]"
          },
          "metadata": {
            "needs_background": "light"
          }
        },
        {
          "output_type": "display_data",
          "data": {
            "text/plain": [
              "<Figure size 432x288 with 1 Axes>"
            ],
            "image/png": "[encoded data removed]"
          },
          "metadata": {
            "needs_background": "light"
          }
        }
      ]
    },
    {
      "cell_type": "code",
      "source": [
        "sp_lstm = Sequential()\n",
        "sp_lstm.add(Embedding(vocab_s, embed_dim, input_length=max_len))\n",
        "sp_lstm.add(LSTM(n_lstm, dropout=drop_lstm, return_sequences=True))\n",
        "sp_lstm.add(LSTM(n_lstm, dropout=drop_lstm, return_sequences=True))\n",
        "sp_lstm.add(Dense(1, activation='sigmoid'))\n",
        "sp_lstm.compile(loss = 'binary_crossentropy', optimizer = 'adam', metrics=['accuracy'])\n",
        "\n",
        "num_epochs = 10\n",
        "#early_stop = EarlyStopping(monitor='val_loss', patience=2)\n",
        "history = sp_lstm.fit(training_padd, train_data['sp'], epochs=num_epochs, validation_data=(testing_padd, test_data['sp']), verbose=2)"
      ],
      "metadata": {
        "id": "SEoBrnkeOwhh",
        "colab": {
          "base_uri": "https://localhost:8080/"
        },
        "outputId": "c52ad716-5df2-4d59-9e20-8c89cd4e3398"
      },
      "execution_count": null,
      "outputs": [
        {
          "output_type": "stream",
          "name": "stdout",
          "text": [
            "Epoch 1/10\n",
            "454/454 - 40s - loss: 0.3473 - accuracy: 0.8956 - val_loss: 0.2081 - val_accuracy: 0.9456 - 40s/epoch - 88ms/step\n",
            "Epoch 2/10\n",
            "454/454 - 24s - loss: 0.1187 - accuracy: 0.9686 - val_loss: 0.1158 - val_accuracy: 0.9699 - 24s/epoch - 52ms/step\n",
            "Epoch 3/10\n",
            "454/454 - 22s - loss: 0.0776 - accuracy: 0.9782 - val_loss: 0.1041 - val_accuracy: 0.9713 - 22s/epoch - 49ms/step\n",
            "Epoch 4/10\n",
            "454/454 - 25s - loss: 0.0687 - accuracy: 0.9792 - val_loss: 0.1088 - val_accuracy: 0.9729 - 25s/epoch - 54ms/step\n",
            "Epoch 5/10\n",
            "454/454 - 23s - loss: 0.0425 - accuracy: 0.9881 - val_loss: 0.1022 - val_accuracy: 0.9730 - 23s/epoch - 51ms/step\n",
            "Epoch 6/10\n",
            "454/454 - 23s - loss: 0.0374 - accuracy: 0.9896 - val_loss: 0.0985 - val_accuracy: 0.9760 - 23s/epoch - 51ms/step\n",
            "Epoch 7/10\n",
            "454/454 - 23s - loss: 0.0313 - accuracy: 0.9908 - val_loss: 0.1199 - val_accuracy: 0.9734 - 23s/epoch - 51ms/step\n",
            "Epoch 8/10\n",
            "454/454 - 23s - loss: 0.0300 - accuracy: 0.9913 - val_loss: 0.1022 - val_accuracy: 0.9758 - 23s/epoch - 51ms/step\n",
            "Epoch 9/10\n",
            "454/454 - 24s - loss: 0.0366 - accuracy: 0.9900 - val_loss: 0.1065 - val_accuracy: 0.9700 - 24s/epoch - 53ms/step\n",
            "Epoch 10/10\n",
            "454/454 - 23s - loss: 0.0257 - accuracy: 0.9922 - val_loss: 0.1155 - val_accuracy: 0.9753 - 23s/epoch - 51ms/step\n"
          ]
        }
      ]
    },
    {
      "cell_type": "code",
      "source": [
        "metrics = pd.DataFrame(history.history)\n",
        "# Rename column\n",
        "metrics.rename(columns = {'loss': 'Training_Loss', 'accuracy': 'Training_Accuracy',\n",
        "                         'val_loss': 'Validation_Loss', 'val_accuracy': 'Validation_Accuracy'}, inplace = True)\n",
        "def plot_graphs1(var1, var2, string):\n",
        "    metrics[[var1, var2]].plot()\n",
        "    plt.title('LSTM Model: Training and Validation ' + string)\n",
        "    plt.xlabel ('Number of epochs')\n",
        "    plt.ylabel(string)\n",
        "    plt.legend([var1, var2])\n",
        "\n",
        "plot_graphs1('Training_Loss', 'Validation_Loss', 'loss')\n",
        "plot_graphs1('Training_Accuracy', 'Validation_Accuracy', 'accuracy')"
      ],
      "metadata": {
        "id": "nomqcaFWOwkS",
        "colab": {
          "base_uri": "https://localhost:8080/",
          "height": 573
        },
        "outputId": "ad94e969-2fa8-4339-ee45-d0765e95dc60"
      },
      "execution_count": null,
      "outputs": [
        {
          "output_type": "display_data",
          "data": {
            "text/plain": [
              "<Figure size 432x288 with 1 Axes>"
            ],
            "image/png": "[encoded data removed]"
          },
          "metadata": {
            "needs_background": "light"
          }
        },
        {
          "output_type": "display_data",
          "data": {
            "text/plain": [
              "<Figure size 432x288 with 1 Axes>"
            ],
            "image/png": "[encoded data removed]"
          },
          "metadata": {
            "needs_background": "light"
          }
        }
      ]
    },
    {
      "cell_type": "code",
      "source": [
        "pol_lstm = Sequential()\n",
        "pol_lstm.add(Embedding(vocab_s, embed_dim, input_length=max_len))\n",
        "pol_lstm.add(LSTM(n_lstm, dropout=drop_lstm, return_sequences=True))\n",
        "pol_lstm.add(LSTM(n_lstm, dropout=drop_lstm, return_sequences=True))\n",
        "pol_lstm.add(Dense(1, activation='sigmoid'))\n",
        "pol_lstm.compile(loss = 'binary_crossentropy', optimizer = 'adam', metrics=['accuracy'])\n",
        "\n",
        "num_epochs = 10\n",
        "#early_stop = EarlyStopping(monitor='val_loss', patience=2)\n",
        "history = pol_lstm.fit(training_padd, train_data['pol'], epochs=num_epochs, validation_data=(testing_padd, test_data['pol']), verbose=2)"
      ],
      "metadata": {
        "id": "tbLIU9oPOwnD",
        "colab": {
          "base_uri": "https://localhost:8080/"
        },
        "outputId": "e71c6971-23db-424e-e712-c270879f1771"
      },
      "execution_count": null,
      "outputs": [
        {
          "output_type": "stream",
          "name": "stdout",
          "text": [
            "Epoch 1/10\n",
            "454/454 - 32s - loss: 0.3177 - accuracy: 0.9172 - val_loss: 0.2802 - val_accuracy: 0.9210 - 32s/epoch - 70ms/step\n",
            "Epoch 2/10\n",
            "454/454 - 24s - loss: 0.2636 - accuracy: 0.9173 - val_loss: 0.2164 - val_accuracy: 0.9125 - 24s/epoch - 52ms/step\n",
            "Epoch 3/10\n",
            "454/454 - 23s - loss: 0.1958 - accuracy: 0.9249 - val_loss: 0.2107 - val_accuracy: 0.9210 - 23s/epoch - 51ms/step\n",
            "Epoch 4/10\n",
            "454/454 - 23s - loss: 0.1682 - accuracy: 0.9372 - val_loss: 0.2091 - val_accuracy: 0.9230 - 23s/epoch - 52ms/step\n",
            "Epoch 5/10\n",
            "454/454 - 22s - loss: 0.1589 - accuracy: 0.9374 - val_loss: 0.2334 - val_accuracy: 0.9230 - 22s/epoch - 50ms/step\n",
            "Epoch 6/10\n",
            "454/454 - 23s - loss: 0.1566 - accuracy: 0.9370 - val_loss: 0.2055 - val_accuracy: 0.9258 - 23s/epoch - 51ms/step\n",
            "Epoch 7/10\n",
            "454/454 - 23s - loss: 0.1310 - accuracy: 0.9486 - val_loss: 0.1997 - val_accuracy: 0.9267 - 23s/epoch - 51ms/step\n",
            "Epoch 8/10\n",
            "454/454 - 23s - loss: 0.1103 - accuracy: 0.9580 - val_loss: 0.1985 - val_accuracy: 0.9319 - 23s/epoch - 51ms/step\n",
            "Epoch 9/10\n",
            "454/454 - 24s - loss: 0.0961 - accuracy: 0.9656 - val_loss: 0.1993 - val_accuracy: 0.9331 - 24s/epoch - 53ms/step\n",
            "Epoch 10/10\n",
            "454/454 - 24s - loss: 0.0879 - accuracy: 0.9691 - val_loss: 0.2103 - val_accuracy: 0.9298 - 24s/epoch - 52ms/step\n"
          ]
        }
      ]
    },
    {
      "cell_type": "code",
      "source": [
        "metrics = pd.DataFrame(history.history)\n",
        "# Rename column\n",
        "metrics.rename(columns = {'loss': 'Training_Loss', 'accuracy': 'Training_Accuracy',\n",
        "                         'val_loss': 'Validation_Loss', 'val_accuracy': 'Validation_Accuracy'}, inplace = True)\n",
        "def plot_graphs1(var1, var2, string):\n",
        "    metrics[[var1, var2]].plot()\n",
        "    plt.title('LSTM Model: Training and Validation ' + string)\n",
        "    plt.xlabel ('Number of epochs')\n",
        "    plt.ylabel(string)\n",
        "    plt.legend([var1, var2])\n",
        "\n",
        "plot_graphs1('Training_Loss', 'Validation_Loss', 'loss')\n",
        "plot_graphs1('Training_Accuracy', 'Validation_Accuracy', 'accuracy')"
      ],
      "metadata": {
        "id": "Bc5fGVKaOwp2",
        "colab": {
          "base_uri": "https://localhost:8080/",
          "height": 573
        },
        "outputId": "9c1922c3-052e-4342-813d-1c8736d2e64c"
      },
      "execution_count": null,
      "outputs": [
        {
          "output_type": "display_data",
          "data": {
            "text/plain": [
              "<Figure size 432x288 with 1 Axes>"
            ],
            "image/png": "[encoded data removed]"
          },
          "metadata": {
            "needs_background": "light"
          }
        },
        {
          "output_type": "display_data",
          "data": {
            "text/plain": [
              "<Figure size 432x288 with 1 Axes>"
            ],
            "image/png": "[encoded data removed]"
          },
          "metadata": {
            "needs_background": "light"
          }
        }
      ]
    },
    {
      "cell_type": "code",
      "source": [
        "cin_lstm = Sequential()\n",
        "cin_lstm.add(Embedding(vocab_s, embed_dim, input_length=max_len))\n",
        "cin_lstm.add(LSTM(n_lstm, dropout=drop_lstm, return_sequences=True))\n",
        "cin_lstm.add(LSTM(n_lstm, dropout=drop_lstm, return_sequences=True))\n",
        "cin_lstm.add(Dense(1, activation='sigmoid'))\n",
        "cin_lstm.compile(loss = 'binary_crossentropy', optimizer = 'adam', metrics=['accuracy'])\n",
        "\n",
        "num_epochs = 10\n",
        "#early_stop = EarlyStopping(monitor='val_loss', patience=2)\n",
        "history = cin_lstm.fit(training_padd, train_data['cin'], epochs=num_epochs, validation_data=(testing_padd, test_data['cin']), verbose=2)"
      ],
      "metadata": {
        "id": "RxwHGf4-Owsh",
        "colab": {
          "base_uri": "https://localhost:8080/"
        },
        "outputId": "8d31b867-20e5-4798-b48d-d3b28e6e4e53"
      },
      "execution_count": null,
      "outputs": [
        {
          "output_type": "stream",
          "name": "stdout",
          "text": [
            "Epoch 1/10\n",
            "454/454 - 31s - loss: 0.3903 - accuracy: 0.8673 - val_loss: 0.2757 - val_accuracy: 0.9172 - 31s/epoch - 68ms/step\n",
            "Epoch 2/10\n",
            "454/454 - 22s - loss: 0.1652 - accuracy: 0.9456 - val_loss: 0.1751 - val_accuracy: 0.9426 - 22s/epoch - 48ms/step\n",
            "Epoch 3/10\n",
            "454/454 - 23s - loss: 0.1070 - accuracy: 0.9652 - val_loss: 0.1889 - val_accuracy: 0.9365 - 23s/epoch - 50ms/step\n",
            "Epoch 4/10\n",
            "454/454 - 23s - loss: 0.0864 - accuracy: 0.9724 - val_loss: 0.1711 - val_accuracy: 0.9500 - 23s/epoch - 50ms/step\n",
            "Epoch 5/10\n",
            "454/454 - 23s - loss: 0.0801 - accuracy: 0.9728 - val_loss: 0.1795 - val_accuracy: 0.9480 - 23s/epoch - 50ms/step\n",
            "Epoch 6/10\n",
            "454/454 - 24s - loss: 0.0842 - accuracy: 0.9741 - val_loss: 0.1817 - val_accuracy: 0.9466 - 24s/epoch - 52ms/step\n",
            "Epoch 7/10\n",
            "454/454 - 23s - loss: 0.0662 - accuracy: 0.9796 - val_loss: 0.1906 - val_accuracy: 0.9501 - 23s/epoch - 51ms/step\n",
            "Epoch 8/10\n",
            "454/454 - 24s - loss: 0.0577 - accuracy: 0.9822 - val_loss: 0.1826 - val_accuracy: 0.9494 - 24s/epoch - 52ms/step\n",
            "Epoch 9/10\n",
            "454/454 - 22s - loss: 0.0536 - accuracy: 0.9824 - val_loss: 0.2101 - val_accuracy: 0.9437 - 22s/epoch - 49ms/step\n",
            "Epoch 10/10\n",
            "454/454 - 23s - loss: 0.0523 - accuracy: 0.9823 - val_loss: 0.1916 - val_accuracy: 0.9508 - 23s/epoch - 51ms/step\n"
          ]
        }
      ]
    },
    {
      "cell_type": "code",
      "source": [
        "metrics = pd.DataFrame(history.history)\n",
        "# Rename column\n",
        "metrics.rename(columns = {'loss': 'Training_Loss', 'accuracy': 'Training_Accuracy',\n",
        "                         'val_loss': 'Validation_Loss', 'val_accuracy': 'Validation_Accuracy'}, inplace = True)\n",
        "def plot_graphs1(var1, var2, string):\n",
        "    metrics[[var1, var2]].plot()\n",
        "    plt.title('LSTM Model: Training and Validation ' + string)\n",
        "    plt.xlabel ('Number of epochs')\n",
        "    plt.ylabel(string)\n",
        "    plt.legend([var1, var2])\n",
        "\n",
        "plot_graphs1('Training_Loss', 'Validation_Loss', 'loss')\n",
        "plot_graphs1('Training_Accuracy', 'Validation_Accuracy', 'accuracy')"
      ],
      "metadata": {
        "id": "X1xXdz52OwvU",
        "colab": {
          "base_uri": "https://localhost:8080/",
          "height": 573
        },
        "outputId": "779bc077-a709-407c-8397-4c0703b43aa3"
      },
      "execution_count": null,
      "outputs": [
        {
          "output_type": "display_data",
          "data": {
            "text/plain": [
              "<Figure size 432x288 with 1 Axes>"
            ],
            "image/png": "[encoded data removed]"
          },
          "metadata": {
            "needs_background": "light"
          }
        },
        {
          "output_type": "display_data",
          "data": {
            "text/plain": [
              "<Figure size 432x288 with 1 Axes>"
            ],
            "image/png": "[encoded data removed]"
          },
          "metadata": {
            "needs_background": "light"
          }
        }
      ]
    },
    {
      "cell_type": "code",
      "source": [
        "cin_lstm.save('cin_lstm.h5')\n",
        "sp_lstm.save('sp_lstm.h5')\n",
        "pol_lstm.save('pol_lstm.h5')"
      ],
      "metadata": {
        "id": "c90ZwOWlOwx9"
      },
      "execution_count": null,
      "outputs": []
    },
    {
      "cell_type": "code",
      "source": [
        "wo_lstm.save('wo_lstm.h5')\n",
        "ind_lstm.save('ind_lstm.h5')\n",
        "tn_lstm.save('tn_lstm.h5')"
      ],
      "metadata": {
        "id": "j2wBtWl2Ow2K"
      },
      "execution_count": null,
      "outputs": []
    },
    {
      "cell_type": "code",
      "source": [
        "from tensorflow import keras\n",
        "from tensorflow.keras.preprocessing.sequence import pad_sequences\n",
        "import numpy as np\n",
        "import pickle"
      ],
      "metadata": {
        "id": "rx2ltowYPwbh"
      },
      "execution_count": null,
      "outputs": []
    },
    {
      "cell_type": "code",
      "source": [
        "max_len = 50\n",
        "trunc_type = \"post\"\n",
        "padding_type = \"post\"\n",
        "\n",
        "wo_lstm_path = 'wo_lstm.h5'\n",
        "ind_lstm_path = 'ind_lstm.h5'\n",
        "cin_lstm_path = 'cin_lstm.h5'\n",
        "pol_lstm_path = 'pol_lstm.h5'\n",
        "sp_lstm_path = 'sp_lstm.h5'\n",
        "tn_lstm_path = 'tn_lstm.h5'\n",
        "\n",
        "wo_lstm = keras.models.load_model(wo_lstm_path)\n",
        "ind_lstm = keras.models.load_model(ind_lstm_path)\n",
        "cin_lstm = keras.models.load_model(cin_lstm_path)\n",
        "pol_lstm = keras.models.load_model(pol_lstm_path)\n",
        "sp_lstm = keras.models.load_model(sp_lstm_path)\n",
        "tn_lstm = keras.models.load_model(tn_lstm_path)"
      ],
      "metadata": {
        "id": "8M1CoTfdPwds"
      },
      "execution_count": null,
      "outputs": []
    },
    {
      "cell_type": "code",
      "source": [
        "def predict_wo(predict_msg):\n",
        "    new_seq = tokenize.texts_to_sequences(predict_msg)\n",
        "    padded = pad_sequences(new_seq, maxlen =max_len,\n",
        "                      padding = padding_type,\n",
        "                      truncating=trunc_type)\n",
        "    res = wo_lstm.predict(padded)\n",
        "    return np.average(res)\n",
        "\n",
        "def predict_ind(predict_msg):\n",
        "    new_seq = tokenize.texts_to_sequences(predict_msg)\n",
        "    padded = pad_sequences(new_seq, maxlen =max_len,\n",
        "                      padding = padding_type,\n",
        "                      truncating=trunc_type)\n",
        "    # return (ind_lstm.predict(padded))\n",
        "    res = ind_lstm.predict(padded)\n",
        "    return np.average(res)\n",
        "\n",
        "def predict_tn(predict_msg):\n",
        "    new_seq = tokenize.texts_to_sequences(predict_msg)\n",
        "    padded = pad_sequences(new_seq, maxlen =max_len,\n",
        "                      padding = padding_type,\n",
        "                      truncating=trunc_type)\n",
        "    # return (tn_lstm.predict(padded))\n",
        "    res = tn_lstm.predict(padded)\n",
        "    return np.average(res)\n",
        "\n",
        "def predict_sp(predict_msg):\n",
        "    new_seq = tokenize.texts_to_sequences(predict_msg)\n",
        "    padded = pad_sequences(new_seq, maxlen =max_len,\n",
        "                      padding = padding_type,\n",
        "                      truncating=trunc_type)\n",
        "    # return (tn_lstm.predict(padded))\n",
        "    res = sp_lstm.predict(padded)\n",
        "    return np.average(res)\n",
        "\n",
        "def predict_pol(predict_msg):\n",
        "    new_seq = tokenize.texts_to_sequences(predict_msg)\n",
        "    padded = pad_sequences(new_seq, maxlen =max_len,\n",
        "                      padding = padding_type,\n",
        "                      truncating=trunc_type)\n",
        "    # return (tn_lstm.predict(padded))\n",
        "    res = pol_lstm.predict(padded)\n",
        "    return np.average(res)\n",
        "\n",
        "def predict_cin(predict_msg):\n",
        "    new_seq = tokenize.texts_to_sequences(predict_msg)\n",
        "    padded = pad_sequences(new_seq, maxlen =max_len,\n",
        "                      padding = padding_type,\n",
        "                      truncating=trunc_type)\n",
        "    # return (tn_lstm.predict(padded))\n",
        "    res = cin_lstm.predict(padded)\n",
        "    return np.average(res)\n",
        "\n",
        "predict_msg1=['சென்னையில் பெண் கொல்லப்பட்டார்'] # TN News\n",
        "predict_msg2=['டெல்லியில் பூகம்பம்'] # India News\n",
        "predict_msg3=['நடிகர் போதைப்பொருள் பயன்படுத்தி பிடிபட்டார்'] # Cinema News\n",
        "predict_msg4=['கால்பந்து ரசிகர்களை இழந்து வருகிறது'] # Sports News\n",
        "predict_msg5=['சுயேச்சை அமைச்சரை டிஸ்மிஸ்'] # Politics News\n",
        "predict_msg6=['மலேசிய விமானம் காணவில்லை'] # World News"
      ],
      "metadata": {
        "id": "Z7OPABnvPwkT"
      },
      "execution_count": null,
      "outputs": []
    },
    {
      "cell_type": "code",
      "source": [
        "print(predict_wo(predict_msg1))\n",
        "print(predict_wo(predict_msg2))\n",
        "print(predict_wo(predict_msg3))\n",
        "print(predict_wo(predict_msg4))\n",
        "print(predict_wo(predict_msg5))\n",
        "print(predict_wo(predict_msg6))"
      ],
      "metadata": {
        "id": "rlpSjTA9PwnM",
        "colab": {
          "base_uri": "https://localhost:8080/"
        },
        "outputId": "bffbc0cd-4b28-4e3d-f3d3-72cb860f98c3"
      },
      "execution_count": null,
      "outputs": [
        {
          "output_type": "stream",
          "name": "stdout",
          "text": [
            "1/1 [==============================] - 1s 1s/step\n",
            "0.0050174254\n",
            "1/1 [==============================] - 0s 44ms/step\n",
            "0.004846947\n",
            "1/1 [==============================] - 0s 44ms/step\n",
            "0.0046939114\n",
            "1/1 [==============================] - 0s 44ms/step\n",
            "0.0043195817\n",
            "1/1 [==============================] - 0s 70ms/step\n",
            "0.009242148\n",
            "1/1 [==============================] - 0s 145ms/step\n",
            "0.9403414\n"
          ]
        }
      ]
    },
    {
      "cell_type": "code",
      "source": [
        "print(predict_ind(predict_msg1))\n",
        "print(predict_ind(predict_msg2))\n",
        "print(predict_ind(predict_msg3))\n",
        "print(predict_ind(predict_msg4))\n",
        "print(predict_ind(predict_msg5))\n",
        "print(predict_ind(predict_msg6))"
      ],
      "metadata": {
        "id": "nD87paK2Pwp-",
        "colab": {
          "base_uri": "https://localhost:8080/"
        },
        "outputId": "f387a6a5-c901-49f0-ee41-7acd95f172d6"
      },
      "execution_count": null,
      "outputs": [
        {
          "output_type": "stream",
          "name": "stdout",
          "text": [
            "1/1 [==============================] - 1s 1s/step\n",
            "0.003669279\n",
            "1/1 [==============================] - 0s 30ms/step\n",
            "0.932576\n",
            "1/1 [==============================] - 0s 33ms/step\n",
            "0.1432558\n",
            "1/1 [==============================] - 0s 30ms/step\n",
            "0.0027521711\n",
            "1/1 [==============================] - 0s 28ms/step\n",
            "0.30648854\n",
            "1/1 [==============================] - 0s 27ms/step\n",
            "0.005104689\n"
          ]
        }
      ]
    },
    {
      "cell_type": "code",
      "source": [
        "print(predict_tn(predict_msg1))\n",
        "print(predict_tn(predict_msg2))\n",
        "print(predict_tn(predict_msg3))\n",
        "print(predict_tn(predict_msg4))\n",
        "print(predict_tn(predict_msg5))\n",
        "print(predict_tn(predict_msg6))"
      ],
      "metadata": {
        "id": "QwWFUy5FPwtW",
        "colab": {
          "base_uri": "https://localhost:8080/"
        },
        "outputId": "47c5d2b0-58e5-462e-994b-86cf0a131f57"
      },
      "execution_count": null,
      "outputs": [
        {
          "output_type": "stream",
          "name": "stdout",
          "text": [
            "1/1 [==============================] - 1s 1s/step\n",
            "0.98519933\n",
            "1/1 [==============================] - 0s 31ms/step\n",
            "0.082517855\n",
            "1/1 [==============================] - 0s 29ms/step\n",
            "0.17599896\n",
            "1/1 [==============================] - 0s 30ms/step\n",
            "0.0062454846\n",
            "1/1 [==============================] - 0s 27ms/step\n",
            "0.012001298\n",
            "1/1 [==============================] - 0s 31ms/step\n",
            "0.0039417855\n"
          ]
        }
      ]
    },
    {
      "cell_type": "code",
      "source": [
        "print(predict_sp(predict_msg1))\n",
        "print(predict_sp(predict_msg2))\n",
        "print(predict_sp(predict_msg3))\n",
        "print(predict_sp(predict_msg4))\n",
        "print(predict_sp(predict_msg5))\n",
        "print(predict_sp(predict_msg6))"
      ],
      "metadata": {
        "id": "6qm8AwZ3QKPE",
        "colab": {
          "base_uri": "https://localhost:8080/"
        },
        "outputId": "78b1bd7f-eae5-4d0a-bb7d-fb37bd74cf39"
      },
      "execution_count": null,
      "outputs": [
        {
          "output_type": "stream",
          "name": "stdout",
          "text": [
            "1/1 [==============================] - 1s 1s/step\n",
            "0.0012686359\n",
            "1/1 [==============================] - 0s 27ms/step\n",
            "0.00084310456\n",
            "1/1 [==============================] - 0s 30ms/step\n",
            "0.00078421534\n",
            "1/1 [==============================] - 0s 41ms/step\n",
            "0.989191\n",
            "1/1 [==============================] - 0s 30ms/step\n",
            "0.0047917063\n",
            "1/1 [==============================] - 0s 26ms/step\n",
            "0.00934434\n"
          ]
        }
      ]
    },
    {
      "cell_type": "code",
      "source": [
        "print(predict_pol(predict_msg1))\n",
        "print(predict_pol(predict_msg2))\n",
        "print(predict_pol(predict_msg3))\n",
        "print(predict_pol(predict_msg4))\n",
        "print(predict_pol(predict_msg5))\n",
        "print(predict_pol(predict_msg6))"
      ],
      "metadata": {
        "id": "Pc39Kj4dQKR7",
        "colab": {
          "base_uri": "https://localhost:8080/"
        },
        "outputId": "3c020577-f4b6-439b-c944-0ecd24cecd1d"
      },
      "execution_count": null,
      "outputs": [
        {
          "output_type": "stream",
          "name": "stdout",
          "text": [
            "1/1 [==============================] - 3s 3s/step\n",
            "0.002209456\n",
            "1/1 [==============================] - 0s 40ms/step\n",
            "0.2316113\n",
            "1/1 [==============================] - 0s 35ms/step\n",
            "0.0032330838\n",
            "1/1 [==============================] - 0s 36ms/step\n",
            "0.0018676604\n",
            "1/1 [==============================] - 0s 32ms/step\n",
            "0.8637666\n",
            "1/1 [==============================] - 0s 34ms/step\n",
            "0.002158484\n"
          ]
        }
      ]
    },
    {
      "cell_type": "code",
      "source": [
        "print(predict_cin(predict_msg1))\n",
        "print(predict_cin(predict_msg2))\n",
        "print(predict_cin(predict_msg3))\n",
        "print(predict_cin(predict_msg4))\n",
        "print(predict_cin(predict_msg5))\n",
        "print(predict_cin(predict_msg6))"
      ],
      "metadata": {
        "id": "viwl9idyQKVE",
        "colab": {
          "base_uri": "https://localhost:8080/"
        },
        "outputId": "14ee1567-0247-4ff8-e2f0-12a25cfd8bf5"
      },
      "execution_count": null,
      "outputs": [
        {
          "output_type": "stream",
          "name": "stdout",
          "text": [
            "1/1 [==============================] - 1s 1s/step\n",
            "0.009661361\n",
            "1/1 [==============================] - 0s 31ms/step\n",
            "0.001051683\n",
            "1/1 [==============================] - 0s 35ms/step\n",
            "0.9686442\n",
            "1/1 [==============================] - 0s 39ms/step\n",
            "0.0059848996\n",
            "1/1 [==============================] - 0s 35ms/step\n",
            "0.0071640946\n",
            "1/1 [==============================] - 0s 34ms/step\n",
            "0.004197785\n"
          ]
        }
      ]
    },
    {
      "cell_type": "code",
      "source": [
        "category_list = [\"World news\", \"India News\", \"Cinema News\", \"Politics News\", \"Sports News\", \"TN News\"]\n",
        "\n",
        "def show(input_msg):\n",
        "\n",
        "    wo_res = predict_wo(input_msg)\n",
        "    ind_res = predict_ind(input_msg)\n",
        "    cin_res = predict_cin(input_msg)\n",
        "    pol_res = predict_pol(input_msg)\n",
        "    sp_res = predict_sp(input_msg)\n",
        "    tn_res = predict_tn(input_msg)\n",
        "    res = [wo_res, ind_res, cin_res, pol_res, sp_res, tn_res]\n",
        "    # for path in lstm_list:\n",
        "        # val = predict(input_msg, path)\n",
        "        # res.append(val)\n",
        "\n",
        "    idx = 0\n",
        "    max_val = -1\n",
        "    for i in range(len(res)):\n",
        "        if res[i] > max_val:\n",
        "            max_val = res[i]\n",
        "            idx = i\n",
        "\n",
        "    print(res)\n",
        "    print(res[idx])\n",
        "    category = category_list[idx]\n",
        "    print(category)"
      ],
      "metadata": {
        "id": "-VQhYqdDQKXt"
      },
      "execution_count": null,
      "outputs": []
    },
    {
      "cell_type": "code",
      "source": [
        "show(predict_msg1)\n",
        "show(predict_msg2)\n",
        "show(predict_msg3)\n",
        "show(predict_msg4)\n",
        "show(predict_msg5)\n",
        "show(predict_msg6)"
      ],
      "metadata": {
        "id": "9P9ESh5lQKaI",
        "colab": {
          "base_uri": "https://localhost:8080/"
        },
        "outputId": "890bfa73-d4b6-42ff-ffb8-14551a0bb17c"
      },
      "execution_count": null,
      "outputs": [
        {
          "output_type": "stream",
          "name": "stdout",
          "text": [
            "1/1 [==============================] - 0s 41ms/step\n",
            "1/1 [==============================] - 0s 31ms/step\n",
            "1/1 [==============================] - 0s 34ms/step\n",
            "1/1 [==============================] - 0s 35ms/step\n",
            "1/1 [==============================] - 0s 32ms/step\n",
            "1/1 [==============================] - 0s 31ms/step\n",
            "[0.0050174254, 0.003669279, 0.009661361, 0.002209456, 0.0012686359, 0.98519933]\n",
            "0.98519933\n",
            "TN News\n",
            "1/1 [==============================] - 0s 33ms/step\n",
            "1/1 [==============================] - 0s 31ms/step\n",
            "1/1 [==============================] - 0s 31ms/step\n",
            "1/1 [==============================] - 0s 35ms/step\n",
            "1/1 [==============================] - 0s 32ms/step\n",
            "1/1 [==============================] - 0s 39ms/step\n",
            "[0.004846947, 0.932576, 0.001051683, 0.2316113, 0.00084310456, 0.082517855]\n",
            "0.932576\n",
            "India News\n",
            "1/1 [==============================] - 0s 33ms/step\n",
            "1/1 [==============================] - 0s 35ms/step\n",
            "1/1 [==============================] - 0s 30ms/step\n",
            "1/1 [==============================] - 0s 30ms/step\n",
            "1/1 [==============================] - 0s 34ms/step\n",
            "1/1 [==============================] - 0s 34ms/step\n",
            "[0.0046939114, 0.1432558, 0.9686442, 0.0032330838, 0.00078421534, 0.17599896]\n",
            "0.9686442\n",
            "Cinema News\n",
            "1/1 [==============================] - 0s 30ms/step\n",
            "1/1 [==============================] - 0s 47ms/step\n",
            "1/1 [==============================] - 0s 50ms/step\n",
            "1/1 [==============================] - 0s 62ms/step\n",
            "1/1 [==============================] - 0s 46ms/step\n",
            "1/1 [==============================] - 0s 44ms/step\n",
            "[0.0043195817, 0.0027521711, 0.0059848996, 0.0018676604, 0.989191, 0.0062454846]\n",
            "0.989191\n",
            "Sports News\n",
            "1/1 [==============================] - 0s 45ms/step\n",
            "1/1 [==============================] - 0s 50ms/step\n",
            "1/1 [==============================] - 0s 49ms/step\n",
            "1/1 [==============================] - 0s 48ms/step\n",
            "1/1 [==============================] - 0s 45ms/step\n",
            "1/1 [==============================] - 0s 59ms/step\n",
            "[0.009242148, 0.30648854, 0.0071640946, 0.8637666, 0.0047917063, 0.012001298]\n",
            "0.8637666\n",
            "Politics News\n",
            "1/1 [==============================] - 0s 46ms/step\n",
            "1/1 [==============================] - 0s 49ms/step\n",
            "1/1 [==============================] - 0s 46ms/step\n",
            "1/1 [==============================] - 0s 48ms/step\n",
            "1/1 [==============================] - 0s 55ms/step\n",
            "1/1 [==============================] - 0s 48ms/step\n",
            "[0.9403414, 0.005104689, 0.004197785, 0.002158484, 0.00934434, 0.0039417855]\n",
            "0.9403414\n",
            "World news\n"
          ]
        }
      ]
    },
    {
      "cell_type": "code",
      "source": [
        "pip install tensorflow==2.2.0"
      ],
      "metadata": {
        "colab": {
          "base_uri": "https://localhost:8080/"
        },
        "id": "V2lKvaQ82CZK",
        "outputId": "ac25ca08-2ced-4860-d70f-d01d370bebd8"
      },
      "execution_count": null,
      "outputs": [
        {
          "output_type": "stream",
          "name": "stdout",
          "text": [
            "Looking in indexes: https://pypi.org/simple, https://us-python.pkg.dev/colab-wheels/public/simple/\n",
            "Collecting tensorflow==2.2.0\n",
            "  Downloading tensorflow-2.2.0-cp38-cp38-manylinux2010_x86_64.whl (516.3 MB)\n",
            "\u001b[2K     \u001b[90m━━━━━━━━━━━━━━━━━━━━━━━━━━━━━━━━━━━━━━━\u001b[0m \u001b[32m516.3/516.3 MB\u001b[0m \u001b[31m2.1 MB/s\u001b[0m eta \u001b[36m0:00:00\u001b[0m\n",
            "\u001b[?25hRequirement already satisfied: google-pasta>=0.1.8 in /usr/local/lib/python3.8/dist-packages (from tensorflow==2.2.0) (0.2.0)\n",
            "Collecting gast==0.3.3\n",
            "  Downloading gast-0.3.3-py2.py3-none-any.whl (9.7 kB)\n",
            "Requirement already satisfied: protobuf>=3.8.0 in /usr/local/lib/python3.8/dist-packages (from tensorflow==2.2.0) (3.19.6)\n",
            "Collecting tensorflow-estimator<2.3.0,>=2.2.0\n",
            "  Downloading tensorflow_estimator-2.2.0-py2.py3-none-any.whl (454 kB)\n",
            "\u001b[2K     \u001b[90m━━━━━━━━━━━━━━━━━━━━━━━━━━━━━━━━━━━━━━\u001b[0m \u001b[32m454.6/454.6 KB\u001b[0m \u001b[31m41.2 MB/s\u001b[0m eta \u001b[36m0:00:00\u001b[0m\n",
            "\u001b[?25hRequirement already satisfied: astunparse==1.6.3 in /usr/local/lib/python3.8/dist-packages (from tensorflow==2.2.0) (1.6.3)\n",
            "Requirement already satisfied: absl-py>=0.7.0 in /usr/local/lib/python3.8/dist-packages (from tensorflow==2.2.0) (1.4.0)\n",
            "Collecting h5py<2.11.0,>=2.10.0\n",
            "  Downloading h5py-2.10.0-cp38-cp38-manylinux1_x86_64.whl (2.9 MB)\n",
            "\u001b[2K     \u001b[90m━━━━━━━━━━━━━━━━━━━━━━━━━━━━━━━━━━━━━━━━\u001b[0m \u001b[32m2.9/2.9 MB\u001b[0m \u001b[31m77.9 MB/s\u001b[0m eta \u001b[36m0:00:00\u001b[0m\n",
            "\u001b[?25hCollecting keras-preprocessing>=1.1.0\n",
            "  Downloading Keras_Preprocessing-1.1.2-py2.py3-none-any.whl (42 kB)\n",
            "\u001b[2K     \u001b[90m━━━━━━━━━━━━━━━━━━━━━━━━━━━━━━━━━━━━━━━━\u001b[0m \u001b[32m42.6/42.6 KB\u001b[0m \u001b[31m5.7 MB/s\u001b[0m eta \u001b[36m0:00:00\u001b[0m\n",
            "\u001b[?25hRequirement already satisfied: numpy<2.0,>=1.16.0 in /usr/local/lib/python3.8/dist-packages (from tensorflow==2.2.0) (1.22.4)\n",
            "Requirement already satisfied: wrapt>=1.11.1 in /usr/local/lib/python3.8/dist-packages (from tensorflow==2.2.0) (1.15.0)\n",
            "Requirement already satisfied: termcolor>=1.1.0 in /usr/local/lib/python3.8/dist-packages (from tensorflow==2.2.0) (2.2.0)\n",
            "Requirement already satisfied: grpcio>=1.8.6 in /usr/local/lib/python3.8/dist-packages (from tensorflow==2.2.0) (1.51.3)\n",
            "Collecting scipy==1.4.1\n",
            "  Downloading scipy-1.4.1-cp38-cp38-manylinux1_x86_64.whl (26.0 MB)\n",
            "\u001b[2K     \u001b[90m━━━━━━━━━━━━━━━━━━━━━━━━━━━━━━━━━━━━━━━━\u001b[0m \u001b[32m26.0/26.0 MB\u001b[0m \u001b[31m45.5 MB/s\u001b[0m eta \u001b[36m0:00:00\u001b[0m\n",
            "\u001b[?25hRequirement already satisfied: wheel>=0.26 in /usr/local/lib/python3.8/dist-packages (from tensorflow==2.2.0) (0.38.4)\n",
            "Requirement already satisfied: six>=1.12.0 in /usr/local/lib/python3.8/dist-packages (from tensorflow==2.2.0) (1.15.0)\n",
            "Requirement already satisfied: opt-einsum>=2.3.2 in /usr/local/lib/python3.8/dist-packages (from tensorflow==2.2.0) (3.3.0)\n",
            "Collecting tensorboard<2.3.0,>=2.2.0\n",
            "  Downloading tensorboard-2.2.2-py3-none-any.whl (3.0 MB)\n",
            "\u001b[2K     \u001b[90m━━━━━━━━━━━━━━━━━━━━━━━━━━━━━━━━━━━━━━━━\u001b[0m \u001b[32m3.0/3.0 MB\u001b[0m \u001b[31m79.5 MB/s\u001b[0m eta \u001b[36m0:00:00\u001b[0m\n",
            "\u001b[?25hRequirement already satisfied: markdown>=2.6.8 in /usr/local/lib/python3.8/dist-packages (from tensorboard<2.3.0,>=2.2.0->tensorflow==2.2.0) (3.4.1)\n",
            "Requirement already satisfied: google-auth-oauthlib<0.5,>=0.4.1 in /usr/local/lib/python3.8/dist-packages (from tensorboard<2.3.0,>=2.2.0->tensorflow==2.2.0) (0.4.6)\n",
            "Requirement already satisfied: requests<3,>=2.21.0 in /usr/local/lib/python3.8/dist-packages (from tensorboard<2.3.0,>=2.2.0->tensorflow==2.2.0) (2.25.1)\n",
            "Collecting google-auth<2,>=1.6.3\n",
            "  Downloading google_auth-1.35.0-py2.py3-none-any.whl (152 kB)\n",
            "\u001b[2K     \u001b[90m━━━━━━━━━━━━━━━━━━━━━━━━━━━━━━━━━━━━━━\u001b[0m \u001b[32m152.9/152.9 KB\u001b[0m \u001b[31m20.1 MB/s\u001b[0m eta \u001b[36m0:00:00\u001b[0m\n",
            "\u001b[?25hRequirement already satisfied: setuptools>=41.0.0 in /usr/local/lib/python3.8/dist-packages (from tensorboard<2.3.0,>=2.2.0->tensorflow==2.2.0) (57.4.0)\n",
            "Requirement already satisfied: tensorboard-plugin-wit>=1.6.0 in /usr/local/lib/python3.8/dist-packages (from tensorboard<2.3.0,>=2.2.0->tensorflow==2.2.0) (1.8.1)\n",
            "Requirement already satisfied: werkzeug>=0.11.15 in /usr/local/lib/python3.8/dist-packages (from tensorboard<2.3.0,>=2.2.0->tensorflow==2.2.0) (2.2.3)\n",
            "Requirement already satisfied: pyasn1-modules>=0.2.1 in /usr/local/lib/python3.8/dist-packages (from google-auth<2,>=1.6.3->tensorboard<2.3.0,>=2.2.0->tensorflow==2.2.0) (0.2.8)\n",
            "Collecting cachetools<5.0,>=2.0.0\n",
            "  Downloading cachetools-4.2.4-py3-none-any.whl (10 kB)\n",
            "Requirement already satisfied: rsa<5,>=3.1.4 in /usr/local/lib/python3.8/dist-packages (from google-auth<2,>=1.6.3->tensorboard<2.3.0,>=2.2.0->tensorflow==2.2.0) (4.9)\n",
            "Requirement already satisfied: requests-oauthlib>=0.7.0 in /usr/local/lib/python3.8/dist-packages (from google-auth-oauthlib<0.5,>=0.4.1->tensorboard<2.3.0,>=2.2.0->tensorflow==2.2.0) (1.3.1)\n",
            "Requirement already satisfied: importlib-metadata>=4.4 in /usr/local/lib/python3.8/dist-packages (from markdown>=2.6.8->tensorboard<2.3.0,>=2.2.0->tensorflow==2.2.0) (6.0.0)\n",
            "Requirement already satisfied: certifi>=2017.4.17 in /usr/local/lib/python3.8/dist-packages (from requests<3,>=2.21.0->tensorboard<2.3.0,>=2.2.0->tensorflow==2.2.0) (2022.12.7)\n",
            "Requirement already satisfied: urllib3<1.27,>=1.21.1 in /usr/local/lib/python3.8/dist-packages (from requests<3,>=2.21.0->tensorboard<2.3.0,>=2.2.0->tensorflow==2.2.0) (1.26.14)\n",
            "Requirement already satisfied: idna<3,>=2.5 in /usr/local/lib/python3.8/dist-packages (from requests<3,>=2.21.0->tensorboard<2.3.0,>=2.2.0->tensorflow==2.2.0) (2.10)\n",
            "Requirement already satisfied: chardet<5,>=3.0.2 in /usr/local/lib/python3.8/dist-packages (from requests<3,>=2.21.0->tensorboard<2.3.0,>=2.2.0->tensorflow==2.2.0) (4.0.0)\n",
            "Requirement already satisfied: MarkupSafe>=2.1.1 in /usr/local/lib/python3.8/dist-packages (from werkzeug>=0.11.15->tensorboard<2.3.0,>=2.2.0->tensorflow==2.2.0) (2.1.2)\n",
            "Requirement already satisfied: zipp>=0.5 in /usr/local/lib/python3.8/dist-packages (from importlib-metadata>=4.4->markdown>=2.6.8->tensorboard<2.3.0,>=2.2.0->tensorflow==2.2.0) (3.15.0)\n",
            "Requirement already satisfied: pyasn1<0.5.0,>=0.4.6 in /usr/local/lib/python3.8/dist-packages (from pyasn1-modules>=0.2.1->google-auth<2,>=1.6.3->tensorboard<2.3.0,>=2.2.0->tensorflow==2.2.0) (0.4.8)\n",
            "Requirement already satisfied: oauthlib>=3.0.0 in /usr/local/lib/python3.8/dist-packages (from requests-oauthlib>=0.7.0->google-auth-oauthlib<0.5,>=0.4.1->tensorboard<2.3.0,>=2.2.0->tensorflow==2.2.0) (3.2.2)\n",
            "Installing collected packages: tensorflow-estimator, scipy, keras-preprocessing, h5py, gast, cachetools, google-auth, tensorboard, tensorflow\n",
            "  Attempting uninstall: tensorflow-estimator\n",
            "    Found existing installation: tensorflow-estimator 2.11.0\n",
            "    Uninstalling tensorflow-estimator-2.11.0:\n",
            "      Successfully uninstalled tensorflow-estimator-2.11.0\n",
            "  Attempting uninstall: scipy\n",
            "    Found existing installation: scipy 1.10.1\n",
            "    Uninstalling scipy-1.10.1:\n",
            "      Successfully uninstalled scipy-1.10.1\n",
            "  Attempting uninstall: h5py\n",
            "    Found existing installation: h5py 3.1.0\n",
            "    Uninstalling h5py-3.1.0:\n",
            "      Successfully uninstalled h5py-3.1.0\n",
            "  Attempting uninstall: gast\n",
            "    Found existing installation: gast 0.4.0\n",
            "    Uninstalling gast-0.4.0:\n",
            "      Successfully uninstalled gast-0.4.0\n",
            "  Attempting uninstall: cachetools\n",
            "    Found existing installation: cachetools 5.3.0\n",
            "    Uninstalling cachetools-5.3.0:\n",
            "      Successfully uninstalled cachetools-5.3.0\n",
            "  Attempting uninstall: google-auth\n",
            "    Found existing installation: google-auth 2.16.1\n",
            "    Uninstalling google-auth-2.16.1:\n",
            "      Successfully uninstalled google-auth-2.16.1\n",
            "  Attempting uninstall: tensorboard\n",
            "    Found existing installation: tensorboard 2.11.2\n",
            "    Uninstalling tensorboard-2.11.2:\n",
            "      Successfully uninstalled tensorboard-2.11.2\n",
            "  Attempting uninstall: tensorflow\n",
            "    Found existing installation: tensorflow 2.11.0\n",
            "    Uninstalling tensorflow-2.11.0:\n",
            "      Successfully uninstalled tensorflow-2.11.0\n",
            "\u001b[31mERROR: pip's dependency resolver does not currently take into account all the packages that are installed. This behaviour is the source of the following dependency conflicts.\n",
            "xarray-einstats 0.5.1 requires scipy>=1.6, but you have scipy 1.4.1 which is incompatible.\n",
            "sklearn-pandas 2.2.0 requires scipy>=1.5.1, but you have scipy 1.4.1 which is incompatible.\n",
            "plotnine 0.10.1 requires scipy>=1.5.0, but you have scipy 1.4.1 which is incompatible.\n",
            "mizani 0.8.1 requires scipy>=1.5.0, but you have scipy 1.4.1 which is incompatible.\n",
            "jaxlib 0.4.4+cuda11.cudnn82 requires scipy>=1.5, but you have scipy 1.4.1 which is incompatible.\n",
            "jax 0.4.4 requires scipy>=1.5, but you have scipy 1.4.1 which is incompatible.\n",
            "google-api-core 2.11.0 requires google-auth<3.0dev,>=2.14.1, but you have google-auth 1.35.0 which is incompatible.\u001b[0m\u001b[31m\n",
            "\u001b[0mSuccessfully installed cachetools-4.2.4 gast-0.3.3 google-auth-1.35.0 h5py-2.10.0 keras-preprocessing-1.1.2 scipy-1.4.1 tensorboard-2.2.2 tensorflow-2.2.0 tensorflow-estimator-2.2.0\n"
          ]
        }
      ]
    },
    {
      "cell_type": "code",
      "source": [
        "import pandas as pd\n",
        "import numpy as np\n",
        "import matplotlib.pyplot as plt\n",
        "import nltk\n",
        "import seaborn as sns\n",
        "from nltk.corpus import stopwords\n",
        "from nltk.tokenize import word_tokenize\n",
        "from sklearn.model_selection import train_test_split\n",
        "from sklearn.preprocessing import LabelBinarizer\n",
        "from keras.preprocessing.text import Tokenizer\n",
        "#from keras.preprocessing.sequence import pad_sequences\n",
        "from tensorflow.keras.preprocessing.sequence import pad_sequences\n",
        "from sklearn.feature_extraction.text import TfidfVectorizer\n",
        "from keras.layers import SpatialDropout1D\n",
        "from tensorflow.keras.utils import to_categorical\n",
        "from sklearn.metrics import classification_report\n",
        "from sklearn.metrics import roc_auc_score\n",
        "from sklearn.metrics import roc_curve\n",
        "from sklearn.metrics import precision_recall_curve\n",
        "from sklearn.model_selection import GridSearchCV\n",
        "from keras.models import Sequential\n",
        "from keras.layers import Dense\n",
        "from keras.layers import LSTM\n",
        "from tensorflow.keras.layers import Flatten,Embedding,Dense\n",
        "from keras.preprocessing import sequence\n",
        "from sklearn.feature_selection import RFE\n",
        "import re\n",
        "from IPython.core.interactiveshell import InteractiveShell\n",
        "InteractiveShell.ast_node_interactivity = \"all\""
      ],
      "metadata": {
        "id": "R6UxwxjkQKdq"
      },
      "execution_count": null,
      "outputs": []
    },
    {
      "cell_type": "code",
      "source": [
        "train = pd.read_csv('tamil_news_train.csv')\n",
        "test = pd.read_csv('tamil_news_test.csv')"
      ],
      "metadata": {
        "id": "0UFLv_oMQj68"
      },
      "execution_count": null,
      "outputs": []
    },
    {
      "cell_type": "code",
      "source": [
        "# fix random seed for reproducibility\n",
        "np.random.seed(7)\n",
        "train = train.drop_duplicates().reset_index(drop=True)\n",
        "test = test.drop_duplicates().reset_index(drop=True)"
      ],
      "metadata": {
        "id": "FWzXT3Y1Qj9o"
      },
      "execution_count": null,
      "outputs": []
    },
    {
      "cell_type": "code",
      "source": [
        "train.NewsInTamil = train.NewsInTamil.str.replace('\\d+', ' ')\n",
        "\n",
        "test.NewsInTamil = test.NewsInTamil.str.replace('\\d+', ' ')\n",
        "\n",
        "    \n",
        "train = train.append(test)\n",
        "df = train\n",
        "df.head()\n",
        "df.shape"
      ],
      "metadata": {
        "id": "ciSPv7frQkAB",
        "colab": {
          "base_uri": "https://localhost:8080/",
          "height": 392
        },
        "outputId": "23be54cb-25c3-41a4-f8f7-1f5ec4d279f1"
      },
      "execution_count": null,
      "outputs": [
        {
          "output_type": "stream",
          "name": "stderr",
          "text": [
            "<ipython-input-62-a5b563f1c93c>:1: FutureWarning: The default value of regex will change from True to False in a future version.\n",
            "  train.NewsInTamil = train.NewsInTamil.str.replace('\\d+', ' ')\n",
            "<ipython-input-62-a5b563f1c93c>:3: FutureWarning: The default value of regex will change from True to False in a future version.\n",
            "  test.NewsInTamil = test.NewsInTamil.str.replace('\\d+', ' ')\n"
          ]
        },
        {
          "output_type": "execute_result",
          "data": {
            "text/plain": [
              "                                       NewsInEnglish  \\\n",
              "0  2017/May/19941-miss-iraq-competition-after-43-...   \n",
              "1  2018/Dec/55921-viswasam-s-rustic-folk-song-has...   \n",
              "2  2018/Dec/55929-inspector-who-bought-insurance-...   \n",
              "3            2017/Jan/16161-morarji-desai-budget.txt   \n",
              "4  2018/Jun/46476-i-have-not-joined-bjp-or-anyoth...   \n",
              "\n",
              "                                         NewsInTamil   Category  \\\n",
              "0          ஈராக்கில்   ஆண்டுகள் கழித்து அழகிப்போட்டி      world   \n",
              "1  இந்திய அளவில் ட்ரெண்ட் ஆன அஜித்தின் ‘தள்லே தில...     cinema   \n",
              "2  சொந்த செலவில் வாகன காப்பீடு எடுத்து கொடுத்த கா...  tamilnadu   \n",
              "3              பிறந்தநாளில் பட்ஜெட் தாக்கல் செய்தவர்      india   \n",
              "4  “நானா? பாஜகவில் இணைந்துவிட்டேனா” - வரலட்சுமி வ...     cinema   \n",
              "\n",
              "  CategoryInTamil  \n",
              "0           உலகம்  \n",
              "1          சினிமா  \n",
              "2       தமிழ்நாடு  \n",
              "3         இந்தியா  \n",
              "4          சினிமா  "
            ],
            "text/html": [
              "\n",
              "  <div id=\"df-b10c0842-0887-4ff9-9c24-b20f1af8267a\">\n",
              "    <div class=\"colab-df-container\">\n",
              "      <div>\n",
              "<style scoped>\n",
              "    .dataframe tbody tr th:only-of-type {\n",
              "        vertical-align: middle;\n",
              "    }\n",
              "\n",
              "    .dataframe tbody tr th {\n",
              "        vertical-align: top;\n",
              "    }\n",
              "\n",
              "    .dataframe thead th {\n",
              "        text-align: right;\n",
              "    }\n",
              "</style>\n",
              "<table border=\"1\" class=\"dataframe\">\n",
              "  <thead>\n",
              "    <tr style=\"text-align: right;\">\n",
              "      <th></th>\n",
              "      <th>NewsInEnglish</th>\n",
              "      <th>NewsInTamil</th>\n",
              "      <th>Category</th>\n",
              "      <th>CategoryInTamil</th>\n",
              "    </tr>\n",
              "  </thead>\n",
              "  <tbody>\n",
              "    <tr>\n",
              "      <th>0</th>\n",
              "      <td>2017/May/19941-miss-iraq-competition-after-43-...</td>\n",
              "      <td>ஈராக்கில்   ஆண்டுகள் கழித்து அழகிப்போட்டி</td>\n",
              "      <td>world</td>\n",
              "      <td>உலகம்</td>\n",
              "    </tr>\n",
              "    <tr>\n",
              "      <th>1</th>\n",
              "      <td>2018/Dec/55921-viswasam-s-rustic-folk-song-has...</td>\n",
              "      <td>இந்திய அளவில் ட்ரெண்ட் ஆன அஜித்தின் ‘தள்லே தில...</td>\n",
              "      <td>cinema</td>\n",
              "      <td>சினிமா</td>\n",
              "    </tr>\n",
              "    <tr>\n",
              "      <th>2</th>\n",
              "      <td>2018/Dec/55929-inspector-who-bought-insurance-...</td>\n",
              "      <td>சொந்த செலவில் வாகன காப்பீடு எடுத்து கொடுத்த கா...</td>\n",
              "      <td>tamilnadu</td>\n",
              "      <td>தமிழ்நாடு</td>\n",
              "    </tr>\n",
              "    <tr>\n",
              "      <th>3</th>\n",
              "      <td>2017/Jan/16161-morarji-desai-budget.txt</td>\n",
              "      <td>பிறந்தநாளில் பட்ஜெட் தாக்கல் செய்தவர்</td>\n",
              "      <td>india</td>\n",
              "      <td>இந்தியா</td>\n",
              "    </tr>\n",
              "    <tr>\n",
              "      <th>4</th>\n",
              "      <td>2018/Jun/46476-i-have-not-joined-bjp-or-anyoth...</td>\n",
              "      <td>“நானா? பாஜகவில் இணைந்துவிட்டேனா” - வரலட்சுமி வ...</td>\n",
              "      <td>cinema</td>\n",
              "      <td>சினிமா</td>\n",
              "    </tr>\n",
              "  </tbody>\n",
              "</table>\n",
              "</div>\n",
              "      <button class=\"colab-df-convert\" onclick=\"convertToInteractive('df-b10c0842-0887-4ff9-9c24-b20f1af8267a')\"\n",
              "              title=\"Convert this dataframe to an interactive table.\"\n",
              "              style=\"display:none;\">\n",
              "        \n",
              "  <svg xmlns=\"http://www.w3.org/2000/svg\" height=\"24px\"viewBox=\"0 0 24 24\"\n",
              "       width=\"24px\">\n",
              "    <path d=\"M0 0h24v24H0V0z\" fill=\"none\"/>\n",
              "    <path d=\"M18.56 5.44l.94 2.06.94-2.06 2.06-.94-2.06-.94-.94-2.06-.94 2.06-2.06.94zm-11 1L8.5 8.5l.94-2.06 2.06-.94-2.06-.94L8.5 2.5l-.94 2.06-2.06.94zm10 10l.94 2.06.94-2.06 2.06-.94-2.06-.94-.94-2.06-.94 2.06-2.06.94z\"/><path d=\"M17.41 7.96l-1.37-1.37c-.4-.4-.92-.59-1.43-.59-.52 0-1.04.2-1.43.59L10.3 9.45l-7.72 7.72c-.78.78-.78 2.05 0 2.83L4 21.41c.39.39.9.59 1.41.59.51 0 1.02-.2 1.41-.59l7.78-7.78 2.81-2.81c.8-.78.8-2.07 0-2.86zM5.41 20L4 18.59l7.72-7.72 1.47 1.35L5.41 20z\"/>\n",
              "  </svg>\n",
              "      </button>\n",
              "      \n",
              "  <style>\n",
              "    .colab-df-container {\n",
              "      display:flex;\n",
              "      flex-wrap:wrap;\n",
              "      gap: 12px;\n",
              "    }\n",
              "\n",
              "    .colab-df-convert {\n",
              "      background-color: #E8F0FE;\n",
              "      border: none;\n",
              "      border-radius: 50%;\n",
              "      cursor: pointer;\n",
              "      display: none;\n",
              "      fill: #1967D2;\n",
              "      height: 32px;\n",
              "      padding: 0 0 0 0;\n",
              "      width: 32px;\n",
              "    }\n",
              "\n",
              "    .colab-df-convert:hover {\n",
              "      background-color: #E2EBFA;\n",
              "      box-shadow: 0px 1px 2px rgba(60, 64, 67, 0.3), 0px 1px 3px 1px rgba(60, 64, 67, 0.15);\n",
              "      fill: #174EA6;\n",
              "    }\n",
              "\n",
              "    [theme=dark] .colab-df-convert {\n",
              "      background-color: #3B4455;\n",
              "      fill: #D2E3FC;\n",
              "    }\n",
              "\n",
              "    [theme=dark] .colab-df-convert:hover {\n",
              "      background-color: #434B5C;\n",
              "      box-shadow: 0px 1px 3px 1px rgba(0, 0, 0, 0.15);\n",
              "      filter: drop-shadow(0px 1px 2px rgba(0, 0, 0, 0.3));\n",
              "      fill: #FFFFFF;\n",
              "    }\n",
              "  </style>\n",
              "\n",
              "      <script>\n",
              "        const buttonEl =\n",
              "          document.querySelector('#df-b10c0842-0887-4ff9-9c24-b20f1af8267a button.colab-df-convert');\n",
              "        buttonEl.style.display =\n",
              "          google.colab.kernel.accessAllowed ? 'block' : 'none';\n",
              "\n",
              "        async function convertToInteractive(key) {\n",
              "          const element = document.querySelector('#df-b10c0842-0887-4ff9-9c24-b20f1af8267a');\n",
              "          const dataTable =\n",
              "            await google.colab.kernel.invokeFunction('convertToInteractive',\n",
              "                                                     [key], {});\n",
              "          if (!dataTable) return;\n",
              "\n",
              "          const docLinkHtml = 'Like what you see? Visit the ' +\n",
              "            '<a target=\"_blank\" href=https://colab.research.google.com/notebooks/data_table.ipynb>data table notebook</a>'\n",
              "            + ' to learn more about interactive tables.';\n",
              "          element.innerHTML = '';\n",
              "          dataTable['output_type'] = 'display_data';\n",
              "          await google.colab.output.renderOutput(dataTable, element);\n",
              "          const docLink = document.createElement('div');\n",
              "          docLink.innerHTML = docLinkHtml;\n",
              "          element.appendChild(docLink);\n",
              "        }\n",
              "      </script>\n",
              "    </div>\n",
              "  </div>\n",
              "  "
            ]
          },
          "metadata": {},
          "execution_count": 62
        },
        {
          "output_type": "execute_result",
          "data": {
            "text/plain": [
              "(13955, 4)"
            ]
          },
          "metadata": {},
          "execution_count": 62
        }
      ]
    },
    {
      "cell_type": "code",
      "source": [
        "df.Category.unique()"
      ],
      "metadata": {
        "colab": {
          "base_uri": "https://localhost:8080/"
        },
        "id": "Pi5AHz5gQkC4",
        "outputId": "32ed96d0-62af-4adf-af81-8df0adc2c17a"
      },
      "execution_count": null,
      "outputs": [
        {
          "output_type": "execute_result",
          "data": {
            "text/plain": [
              "array(['world', 'cinema', 'tamilnadu', 'india', 'politics', 'sports'],\n",
              "      dtype=object)"
            ]
          },
          "metadata": {},
          "execution_count": 63
        }
      ]
    },
    {
      "cell_type": "code",
      "source": [
        "df.Category = df.Category.replace('world', 1)\n",
        "df.Category = df.Category.replace('cinema', 2)\n",
        "df.Category = df.Category.replace('tamilnadu', 3)\n",
        "df.Category = df.Category.replace('india', 4)\n",
        "df.Category = df.Category.replace('politics', 5)\n",
        "df.Category = df.Category.replace('sports', 6)\n",
        "\n",
        "\n",
        "df.Category.head()"
      ],
      "metadata": {
        "id": "dhu-dnQrQkFa",
        "colab": {
          "base_uri": "https://localhost:8080/"
        },
        "outputId": "a8c3f3a6-979a-4bf3-9758-61abb60ceda3"
      },
      "execution_count": null,
      "outputs": [
        {
          "output_type": "execute_result",
          "data": {
            "text/plain": [
              "0    1\n",
              "1    2\n",
              "2    3\n",
              "3    4\n",
              "4    2\n",
              "Name: Category, dtype: int64"
            ]
          },
          "metadata": {},
          "execution_count": 64
        }
      ]
    },
    {
      "cell_type": "code",
      "source": [
        "# The maximum number of words to be used. (most frequent)\n",
        "MAX_NB_WORDS = 32000\n",
        "# Max number of words in each complaint.\n",
        "MAX_SEQUENCE_LENGTH = 120\n",
        "# This is fixed.\n",
        "EMBEDDING_DIM = 100\n",
        "tokenizer = Tokenizer(num_words=MAX_NB_WORDS, filters='!\"#$%&()*+,-./:;<=>?@[\\]^_`{|}~', lower=False)\n",
        "tokenizer.fit_on_texts(df.NewsInTamil.values)\n",
        "word_index = tokenizer.word_index\n",
        "print('Found %s unique tokens.' % len(word_index))"
      ],
      "metadata": {
        "id": "pww2xiV9QkJJ",
        "colab": {
          "base_uri": "https://localhost:8080/"
        },
        "outputId": "d2cc462b-b3da-428f-bd72-550c53020ff7"
      },
      "execution_count": null,
      "outputs": [
        {
          "output_type": "stream",
          "name": "stdout",
          "text": [
            "Found 22904 unique tokens.\n"
          ]
        }
      ]
    },
    {
      "cell_type": "code",
      "source": [
        "X = tokenizer.texts_to_sequences(df.NewsInTamil.values)\n",
        "X = pad_sequences(X, maxlen=MAX_SEQUENCE_LENGTH)\n",
        "print('Shape of data tensor:', X.shape)"
      ],
      "metadata": {
        "id": "Ewic2YiUQkK-",
        "colab": {
          "base_uri": "https://localhost:8080/"
        },
        "outputId": "3cbaa1c9-c797-4f6f-eb6c-bffd20027fd0"
      },
      "execution_count": null,
      "outputs": [
        {
          "output_type": "stream",
          "name": "stdout",
          "text": [
            "Shape of data tensor: (13955, 120)\n"
          ]
        }
      ]
    },
    {
      "cell_type": "code",
      "source": [
        "Y = pd.get_dummies(df.Category).values\n",
        "print('Shape of label tensor:', Y.shape)"
      ],
      "metadata": {
        "id": "AfvnQNbPQkOl",
        "colab": {
          "base_uri": "https://localhost:8080/"
        },
        "outputId": "841c49d5-6dc6-4c54-d213-6a0df90fb454"
      },
      "execution_count": null,
      "outputs": [
        {
          "output_type": "stream",
          "name": "stdout",
          "text": [
            "Shape of label tensor: (13955, 6)\n"
          ]
        }
      ]
    },
    {
      "cell_type": "code",
      "source": [
        "train_features, test_features, train_labels, test_labels = train_test_split(X, Y, test_size=.10)"
      ],
      "metadata": {
        "id": "slAIGzuKRAMo"
      },
      "execution_count": null,
      "outputs": []
    },
    {
      "cell_type": "code",
      "source": [
        "model = Sequential()\n",
        "model.add(Embedding(MAX_NB_WORDS, EMBEDDING_DIM, input_length=X.shape[1]))\n",
        "model.add(SpatialDropout1D(0.2))\n",
        "model.add(LSTM(100, dropout=0.2, recurrent_dropout=0.2))\n",
        "model.add(Dense(6, activation='softmax'))\n",
        "model.compile(loss='categorical_crossentropy', optimizer='adam', metrics=['accuracy'])\n",
        "history = model.fit(train_features, train_labels, epochs=5, batch_size=32,validation_split=0.2)\n",
        "# Final evaluation of the model\n",
        "model_pred_train = model.predict(train_features)\n",
        "model_pred_test = model.predict(test_features)\n",
        "# print(classification_report(test_labels,model_pred_test))\n",
        "print('LSTM Recurrent Neural Network baseline: ' + str(roc_auc_score(train_labels, model_pred_train)))\n",
        "print('LSTM Recurrent Neural Network: ' + str(roc_auc_score(test_labels, model_pred_test)))"
      ],
      "metadata": {
        "id": "2yQ_3Ye0RAPZ",
        "colab": {
          "base_uri": "https://localhost:8080/"
        },
        "outputId": "781aa1aa-0366-4072-94ff-263f516baeef"
      },
      "execution_count": null,
      "outputs": [
        {
          "output_type": "stream",
          "name": "stdout",
          "text": [
            "Epoch 1/5\n",
            "314/314 [==============================] - 173s 514ms/step - loss: 1.3652 - accuracy: 0.4668 - val_loss: 0.9424 - val_accuracy: 0.6537\n",
            "Epoch 2/5\n",
            "314/314 [==============================] - 139s 442ms/step - loss: 0.5481 - accuracy: 0.8123 - val_loss: 0.7916 - val_accuracy: 0.7114\n",
            "Epoch 3/5\n",
            "314/314 [==============================] - 140s 445ms/step - loss: 0.1748 - accuracy: 0.9480 - val_loss: 0.9035 - val_accuracy: 0.7082\n",
            "Epoch 4/5\n",
            "314/314 [==============================] - 144s 460ms/step - loss: 0.0631 - accuracy: 0.9810 - val_loss: 1.0685 - val_accuracy: 0.6815\n",
            "Epoch 5/5\n",
            "314/314 [==============================] - 137s 438ms/step - loss: 0.0305 - accuracy: 0.9905 - val_loss: 1.2674 - val_accuracy: 0.6967\n",
            "393/393 [==============================] - 27s 69ms/step\n",
            "44/44 [==============================] - 2s 53ms/step\n",
            "LSTM Recurrent Neural Network baseline: 0.9922534501284078\n",
            "LSTM Recurrent Neural Network: 0.9146358863449625\n"
          ]
        }
      ]
    },
    {
      "cell_type": "code",
      "source": [
        "model.summary()"
      ],
      "metadata": {
        "id": "z6ss_4W4RAR5",
        "colab": {
          "base_uri": "https://localhost:8080/"
        },
        "outputId": "e243c051-05e8-4b6b-e5f9-8b970117d1db"
      },
      "execution_count": null,
      "outputs": [
        {
          "output_type": "stream",
          "name": "stdout",
          "text": [
            "Model: \"sequential_9\"\n",
            "_________________________________________________________________\n",
            " Layer (type)                Output Shape              Param #   \n",
            "=================================================================\n",
            " embedding_9 (Embedding)     (None, 120, 100)          3200000   \n",
            "                                                                 \n",
            " spatial_dropout1d (SpatialD  (None, 120, 100)         0         \n",
            " ropout1D)                                                       \n",
            "                                                                 \n",
            " lstm_18 (LSTM)              (None, 100)               80400     \n",
            "                                                                 \n",
            " dense_9 (Dense)             (None, 6)                 606       \n",
            "                                                                 \n",
            "=================================================================\n",
            "Total params: 3,281,006\n",
            "Trainable params: 3,281,006\n",
            "Non-trainable params: 0\n",
            "_________________________________________________________________\n"
          ]
        }
      ]
    },
    {
      "cell_type": "code",
      "source": [
        "plt.title('Loss')\n",
        "plt.plot(history.history['loss'], label='train')\n",
        "plt.plot(history.history['val_loss'], label='test')\n",
        "plt.legend()\n",
        "plt.show()\n",
        "plt.title('Accuracy')\n",
        "plt.plot(history.history['accuracy'], label='train')\n",
        "plt.plot(history.history['val_accuracy'], label='test')\n",
        "plt.legend()\n",
        "plt.show()"
      ],
      "metadata": {
        "id": "FTk3uYSHRAUK",
        "colab": {
          "base_uri": "https://localhost:8080/",
          "height": 617
        },
        "outputId": "9a7d8b82-b410-422f-9ef7-98f1abfe3156"
      },
      "execution_count": null,
      "outputs": [
        {
          "output_type": "execute_result",
          "data": {
            "text/plain": [
              "Text(0.5, 1.0, 'Loss')"
            ]
          },
          "metadata": {},
          "execution_count": 71
        },
        {
          "output_type": "execute_result",
          "data": {
            "text/plain": [
              "[<matplotlib.lines.Line2D at 0x7f29a058c700>]"
            ]
          },
          "metadata": {},
          "execution_count": 71
        },
        {
          "output_type": "execute_result",
          "data": {
            "text/plain": [
              "[<matplotlib.lines.Line2D at 0x7f29a058ca00>]"
            ]
          },
          "metadata": {},
          "execution_count": 71
        },
        {
          "output_type": "execute_result",
          "data": {
            "text/plain": [
              "<matplotlib.legend.Legend at 0x7f29a058ca30>"
            ]
          },
          "metadata": {},
          "execution_count": 71
        },
        {
          "output_type": "display_data",
          "data": {
            "text/plain": [
              "<Figure size 432x288 with 1 Axes>"
            ],
            "image/png": "[encoded data removed]"
          },
          "metadata": {
            "needs_background": "light"
          }
        },
        {
          "output_type": "execute_result",
          "data": {
            "text/plain": [
              "Text(0.5, 1.0, 'Accuracy')"
            ]
          },
          "metadata": {},
          "execution_count": 71
        },
        {
          "output_type": "execute_result",
          "data": {
            "text/plain": [
              "[<matplotlib.lines.Line2D at 0x7f29a05d23d0>]"
            ]
          },
          "metadata": {},
          "execution_count": 71
        },
        {
          "output_type": "execute_result",
          "data": {
            "text/plain": [
              "[<matplotlib.lines.Line2D at 0x7f29a05d2790>]"
            ]
          },
          "metadata": {},
          "execution_count": 71
        },
        {
          "output_type": "execute_result",
          "data": {
            "text/plain": [
              "<matplotlib.legend.Legend at 0x7f29a05e31c0>"
            ]
          },
          "metadata": {},
          "execution_count": 71
        },
        {
          "output_type": "display_data",
          "data": {
            "text/plain": [
              "<Figure size 432x288 with 1 Axes>"
            ],
            "image/png": "[encoded data removed]"
          },
          "metadata": {
            "needs_background": "light"
          }
        }
      ]
    },
    {
      "cell_type": "code",
      "source": [
        "news = ['இயற்கையை நேசிப்பதுதானே கொண்டாட்டம்.. இது ஒரு புது முயற்சி..!']\n",
        "seq = tokenizer.texts_to_sequences(news)\n",
        "padded = pad_sequences(seq, maxlen=MAX_SEQUENCE_LENGTH)\n",
        "pred = model.predict(padded)\n",
        "labels = ['world', 'cinema', 'tamilnadu', 'india', 'politics', 'sports']\n",
        "label = pred, labels[np.argmax(pred)]\n",
        "print(\"News Category is: \")\n",
        "print(label[1])"
      ],
      "metadata": {
        "id": "8iNrqNIxRAXh",
        "colab": {
          "base_uri": "https://localhost:8080/"
        },
        "outputId": "09c8d2c5-d991-4d07-cc10-faf3d4a228e8"
      },
      "execution_count": null,
      "outputs": [
        {
          "output_type": "stream",
          "name": "stdout",
          "text": [
            "1/1 [==============================] - 0s 51ms/step\n",
            "News Category is: \n",
            "tamilnadu\n"
          ]
        }
      ]
    },
    {
      "cell_type": "code",
      "source": [
        "predict_msg1=['சென்னையில் பெண் கொல்லப்பட்டார்']\n",
        "predict_msg2=['டெல்லியில் பூகம்பம்']\n",
        "predict_msg3=['நடிகர் போதைப்பொருள் பயன்படுத்தி பிடிபட்டார்']\n",
        "predict_msg4=['கால்பந்து ரசிகர்களை இழந்து வருகிறது']\n",
        "predict_msg5=['சுயேச்சை அமைச்சரை டிஸ்மிஸ்']\n",
        "predict_msg6=['மலேசிய விமானம் காணவில்லை']"
      ],
      "metadata": {
        "id": "7UfzN4AiRa45"
      },
      "execution_count": null,
      "outputs": []
    },
    {
      "cell_type": "code",
      "source": [
        "def find_predict(news):\n",
        "    seq = tokenizer.texts_to_sequences(news)\n",
        "    padded = pad_sequences(seq, maxlen=MAX_SEQUENCE_LENGTH)\n",
        "    pred = model.predict(padded)\n",
        "    labels = ['world', 'cinema', 'tamilnadu', 'india', 'politics', 'sports']\n",
        "    label = pred, labels[np.argmax(pred)]\n",
        "    if label[1]=='tamilnadu':\n",
        "      print(\"india\")\n",
        "    else:\n",
        "      print(label[1])\n",
        "\n",
        "find_predict(predict_msg1)\n",
        "find_predict(predict_msg2)\n",
        "find_predict(predict_msg3)\n",
        "find_predict(predict_msg4)\n",
        "find_predict(predict_msg5)\n",
        "find_predict(predict_msg6)"
      ],
      "metadata": {
        "id": "qyQhhJIYRa64",
        "colab": {
          "base_uri": "https://localhost:8080/"
        },
        "outputId": "39bb7805-824d-423a-8a3b-02ac047781cd"
      },
      "execution_count": null,
      "outputs": [
        {
          "output_type": "stream",
          "name": "stdout",
          "text": [
            "1/1 [==============================] - 0s 48ms/step\n",
            "tamilnadu\n",
            "1/1 [==============================] - 0s 43ms/step\n",
            "india\n",
            "1/1 [==============================] - 0s 44ms/step\n",
            "cinema\n",
            "1/1 [==============================] - 0s 44ms/step\n",
            "sports\n",
            "1/1 [==============================] - 0s 48ms/step\n",
            "cinema\n",
            "1/1 [==============================] - 0s 56ms/step\n",
            "world\n"
          ]
        }
      ]
    },
    {
      "cell_type": "code",
      "source": [
        "\n",
        "model.save('lstm_baseline.h5')"
      ],
      "metadata": {
        "id": "yQh8rBR6Ra9g"
      },
      "execution_count": null,
      "outputs": []
    },
    {
      "cell_type": "code",
      "source": [
        "from tensorflow import keras\n",
        "\n",
        "classifier = keras.models.load_model('lstm_baseline.h5')"
      ],
      "metadata": {
        "id": "2uzgavHaRbBH"
      },
      "execution_count": null,
      "outputs": []
    },
    {
      "cell_type": "code",
      "source": [
        "def find_predict(news):\n",
        "    seq = tokenizer.texts_to_sequences(news)\n",
        "    padded = pad_sequences(seq, maxlen=MAX_SEQUENCE_LENGTH)\n",
        "    pred = classifier.predict(padded)\n",
        "    labels = ['world', 'cinema', 'tamilnadu', 'india', 'politics', 'sports']\n",
        "    label = pred, labels[np.argmax(pred)]\n",
        "    print(label[1])\n",
        "\n",
        "predict_msg1=['சென்னையில் பெண் கொல்லப்பட்டார்']\n",
        "predict_msg2=['டெல்லியில் பூகம்பம்']\n",
        "predict_msg3=['நடிகர் போதைப்பொருள் பயன்படுத்தி பிடிபட்டார்']\n",
        "predict_msg4=['கால்பந்து ரசிகர்களை இழந்து வருகிறது']\n",
        "predict_msg5=['சுயேச்சை அமைச்சரை டிஸ்மிஸ்']\n",
        "predict_msg6=['மலேசிய விமானம் காணவில்லை']\n",
        "\n",
        "find_predict(predict_msg1)\n",
        "find_predict(predict_msg2)\n",
        "find_predict(predict_msg3)\n",
        "find_predict(predict_msg4)\n",
        "find_predict(predict_msg5)\n",
        "find_predict(predict_msg6)"
      ],
      "metadata": {
        "id": "ZCdeXdkYRlgl",
        "colab": {
          "base_uri": "https://localhost:8080/"
        },
        "outputId": "ac9b3c50-cdaf-4c98-b9e0-e6237650a15e"
      },
      "execution_count": null,
      "outputs": [
        {
          "output_type": "stream",
          "name": "stdout",
          "text": [
            "1/1 [==============================] - 1s 541ms/step\n",
            "tamilnadu\n",
            "1/1 [==============================] - 0s 62ms/step\n",
            "india\n",
            "1/1 [==============================] - 0s 72ms/step\n",
            "cinema\n",
            "1/1 [==============================] - 0s 82ms/step\n",
            "sports\n",
            "1/1 [==============================] - 0s 63ms/step\n",
            "cinema\n",
            "1/1 [==============================] - 0s 65ms/step\n",
            "world\n"
          ]
        }
      ]
    },
    {
      "cell_type": "code",
      "source": [
        "#@title x\n",
        "text='\\u0B95\\u0BBE\\u0BB2\\u0BCD\\u0BAA\\u0BA8\\u0BCD\\u0BA4\\u0BC1 \\u0BB0\\u0B9A\\u0BBF\\u0B95\\u0BB0\\u0BCD\\u0B95\\u0BB3\\u0BC8 \\u0B87\\u0BB4\\u0BA8\\u0BCD\\u0BA4\\u0BC1 \\u0BB5\\u0BB0\\u0BC1\\u0B95\\u0BBF\\u0BB1\\u0BA4\\u0BC1' #@param{type:\"string\"}\n",
        "find_predict([text]) \n"
      ],
      "metadata": {
        "id": "szjPnpFdHO18",
        "colab": {
          "base_uri": "https://localhost:8080/"
        },
        "outputId": "c3599908-e597-4e92-8b0b-cef319a691a4"
      },
      "execution_count": null,
      "outputs": [
        {
          "output_type": "stream",
          "name": "stdout",
          "text": [
            "1/1 [==============================] - 0s 43ms/step\n",
            "sports\n"
          ]
        }
      ]
    },
    {
      "cell_type": "code",
      "source": [
        "#!pip install gradio\n",
        "import gradio as gr"
      ],
      "metadata": {
        "id": "khq4ckXQHy5n"
      },
      "execution_count": null,
      "outputs": []
    },
    {
      "cell_type": "code",
      "source": [
        "def find_predic(news):\n",
        "    l=[news]\n",
        "    seq = tokenizer.texts_to_sequences(l)\n",
        "    padded = pad_sequences(seq, maxlen=MAX_SEQUENCE_LENGTH)\n",
        "    pred = classifier.predict(padded)\n",
        "    labels = ['world', 'cinema', 'tamilnadu', 'india', 'politics', 'sports']\n",
        "    label = pred, labels[np.argmax(pred)]\n",
        "    return label[1]\n",
        "iface=gr.Interface(fn=find_predic,inputs=\"text\",outputs=\"text\")\n",
        "iface.launch()"
      ],
      "metadata": {
        "id": "pqaNMroKro7N",
        "colab": {
          "base_uri": "https://localhost:8080/",
          "height": 619
        },
        "outputId": "c7bc29e0-a2ef-48f4-e035-791b681d8da7"
      },
      "execution_count": null,
      "outputs": [
        {
          "output_type": "stream",
          "name": "stdout",
          "text": [
            "Colab notebook detected. To show errors in colab notebook, set debug=True in launch()\n",
            "Note: opening Chrome Inspector may crash demo inside Colab notebooks.\n",
            "\n",
            "To create a public link, set `share=True` in `launch()`.\n"
          ]
        },
        {
          "output_type": "display_data",
          "data": {
            "text/plain": [
              "<IPython.core.display.Javascript object>"
            ],
            "application/javascript": [
              "(async (port, path, width, height, cache, element) => {\n",
              "                        if (!google.colab.kernel.accessAllowed && !cache) {\n",
              "                            return;\n",
              "                        }\n",
              "                        element.appendChild(document.createTextNode(''));\n",
              "                        const url = await google.colab.kernel.proxyPort(port, {cache});\n",
              "\n",
              "                        const external_link = document.createElement('div');\n",
              "                        external_link.innerHTML = `\n",
              "                            <div style=\"font-family: monospace; margin-bottom: 0.5rem\">\n",
              "                                Running on <a href=${new URL(path, url).toString()} target=\"_blank\">\n",
              "                                    https://localhost:${port}${path}\n",
              "                                </a>\n",
              "                            </div>\n",
              "                        `;\n",
              "                        element.appendChild(external_link);\n",
              "\n",
              "                        const iframe = document.createElement('iframe');\n",
              "                        iframe.src = new URL(path, url).toString();\n",
              "                        iframe.height = height;\n",
              "                        iframe.allow = \"autoplay; camera; microphone; clipboard-read; clipboard-write;\"\n",
              "                        iframe.width = width;\n",
              "                        iframe.style.border = 0;\n",
              "                        element.appendChild(iframe);\n",
              "                    })(7860, \"/\", \"100%\", 500, false, window.element)"
            ]
          },
          "metadata": {}
        },
        {
          "output_type": "execute_result",
          "data": {
            "text/plain": []
          },
          "metadata": {},
          "execution_count": 81
        }
      ]
    },
    {
      "cell_type": "code",
      "source": [
        "#pip install googletrans==4.0.0-rc1"
      ],
      "metadata": {
        "id": "fJsLT8dr3bTd",
        "colab": {
          "base_uri": "https://localhost:8080/"
        },
        "outputId": "e72b60af-301a-4932-97bc-d5c7be24bf89"
      },
      "execution_count": null,
      "outputs": [
        {
          "output_type": "stream",
          "name": "stdout",
          "text": [
            "Looking in indexes: https://pypi.org/simple, https://us-python.pkg.dev/colab-wheels/public/simple/\n",
            "Collecting googletrans==4.0.0-rc1\n",
            "  Downloading googletrans-4.0.0rc1.tar.gz (20 kB)\n",
            "  Preparing metadata (setup.py) ... \u001b[?25l\u001b[?25hdone\n",
            "Requirement already satisfied: httpx==0.13.3 in /usr/local/lib/python3.8/dist-packages (from googletrans==4.0.0-rc1) (0.13.3)\n",
            "Requirement already satisfied: sniffio in /usr/local/lib/python3.8/dist-packages (from httpx==0.13.3->googletrans==4.0.0-rc1) (1.3.0)\n",
            "Requirement already satisfied: httpcore==0.9.* in /usr/local/lib/python3.8/dist-packages (from httpx==0.13.3->googletrans==4.0.0-rc1) (0.9.1)\n",
            "Requirement already satisfied: chardet==3.* in /usr/local/lib/python3.8/dist-packages (from httpx==0.13.3->googletrans==4.0.0-rc1) (3.0.4)\n",
            "Requirement already satisfied: rfc3986<2,>=1.3 in /usr/local/lib/python3.8/dist-packages (from httpx==0.13.3->googletrans==4.0.0-rc1) (1.5.0)\n",
            "Requirement already satisfied: hstspreload in /usr/local/lib/python3.8/dist-packages (from httpx==0.13.3->googletrans==4.0.0-rc1) (2023.1.1)\n",
            "Requirement already satisfied: certifi in /usr/local/lib/python3.8/dist-packages (from httpx==0.13.3->googletrans==4.0.0-rc1) (2022.12.7)\n",
            "Requirement already satisfied: idna==2.* in /usr/local/lib/python3.8/dist-packages (from httpx==0.13.3->googletrans==4.0.0-rc1) (2.10)\n",
            "Requirement already satisfied: h2==3.* in /usr/local/lib/python3.8/dist-packages (from httpcore==0.9.*->httpx==0.13.3->googletrans==4.0.0-rc1) (3.2.0)\n",
            "Requirement already satisfied: h11<0.10,>=0.8 in /usr/local/lib/python3.8/dist-packages (from httpcore==0.9.*->httpx==0.13.3->googletrans==4.0.0-rc1) (0.9.0)\n",
            "Requirement already satisfied: hpack<4,>=3.0 in /usr/local/lib/python3.8/dist-packages (from h2==3.*->httpcore==0.9.*->httpx==0.13.3->googletrans==4.0.0-rc1) (3.0.0)\n",
            "Requirement already satisfied: hyperframe<6,>=5.2.0 in /usr/local/lib/python3.8/dist-packages (from h2==3.*->httpcore==0.9.*->httpx==0.13.3->googletrans==4.0.0-rc1) (5.2.0)\n",
            "Building wheels for collected packages: googletrans\n",
            "  Building wheel for googletrans (setup.py) ... \u001b[?25l\u001b[?25hdone\n",
            "  Created wheel for googletrans: filename=googletrans-4.0.0rc1-py3-none-any.whl size=17414 sha256=754e71eaec713aebd08f91e6f98bad0ffc84a35617d32607285234ba4cbaec01\n",
            "  Stored in directory: /root/.cache/pip/wheels/a9/25/af/715361fa79594524c89c75d293def652045f3fdce6ca398712\n",
            "Successfully built googletrans\n",
            "Installing collected packages: googletrans\n",
            "  Attempting uninstall: googletrans\n",
            "    Found existing installation: googletrans 3.0.0\n",
            "    Uninstalling googletrans-3.0.0:\n",
            "      Successfully uninstalled googletrans-3.0.0\n",
            "Successfully installed googletrans-4.0.0rc1\n"
          ]
        }
      ]
    },
    {
      "cell_type": "code",
      "source": [
        "import googletrans\n",
        "from googletrans import Translator\n",
        "translator=Translator()\n",
        "out=translator.translate(\"சென்னையில் பெண் கொல்லப்பட்டார்\",dest=\"en\")\n",
        "print(out.text)"
      ],
      "metadata": {
        "id": "fyGBazSh3ojG",
        "colab": {
          "base_uri": "https://localhost:8080/",
          "height": 387
        },
        "outputId": "a7916753-2496-4e4d-a317-a32fb10707a0"
      },
      "execution_count": null,
      "outputs": [
        {
          "output_type": "error",
          "ename": "ModuleNotFoundError",
          "evalue": "ignored",
          "traceback": [
            "\u001b[0;31m---------------------------------------------------------------------------\u001b[0m",
            "\u001b[0;31mModuleNotFoundError\u001b[0m                       Traceback (most recent call last)",
            "\u001b[0;32m<ipython-input-1-2dd94741298f>\u001b[0m in \u001b[0;36m<module>\u001b[0;34m\u001b[0m\n\u001b[0;32m----> 1\u001b[0;31m \u001b[0;32mimport\u001b[0m \u001b[0mgoogletrans\u001b[0m\u001b[0;34m\u001b[0m\u001b[0;34m\u001b[0m\u001b[0m\n\u001b[0m\u001b[1;32m      2\u001b[0m \u001b[0;32mfrom\u001b[0m \u001b[0mgoogletrans\u001b[0m \u001b[0;32mimport\u001b[0m \u001b[0mTranslator\u001b[0m\u001b[0;34m\u001b[0m\u001b[0;34m\u001b[0m\u001b[0m\n\u001b[1;32m      3\u001b[0m \u001b[0mtranslator\u001b[0m\u001b[0;34m=\u001b[0m\u001b[0mTranslator\u001b[0m\u001b[0;34m(\u001b[0m\u001b[0;34m)\u001b[0m\u001b[0;34m\u001b[0m\u001b[0;34m\u001b[0m\u001b[0m\n\u001b[1;32m      4\u001b[0m \u001b[0mout\u001b[0m\u001b[0;34m=\u001b[0m\u001b[0mtranslator\u001b[0m\u001b[0;34m.\u001b[0m\u001b[0mtranslate\u001b[0m\u001b[0;34m(\u001b[0m\u001b[0;34m\"சென்னையில் பெண் கொல்லப்பட்டார்\"\u001b[0m\u001b[0;34m,\u001b[0m\u001b[0mdest\u001b[0m\u001b[0;34m=\u001b[0m\u001b[0;34m\"en\"\u001b[0m\u001b[0;34m)\u001b[0m\u001b[0;34m\u001b[0m\u001b[0;34m\u001b[0m\u001b[0m\n\u001b[1;32m      5\u001b[0m \u001b[0mprint\u001b[0m\u001b[0;34m(\u001b[0m\u001b[0mout\u001b[0m\u001b[0;34m.\u001b[0m\u001b[0mtext\u001b[0m\u001b[0;34m)\u001b[0m\u001b[0;34m\u001b[0m\u001b[0;34m\u001b[0m\u001b[0m\n",
            "\u001b[0;31mModuleNotFoundError\u001b[0m: No module named 'googletrans'",
            "",
            "\u001b[0;31m---------------------------------------------------------------------------\u001b[0;32m\nNOTE: If your import is failing due to a missing package, you can\nmanually install dependencies using either !pip or !apt.\n\nTo view examples of installing some common dependencies, click the\n\"Open Examples\" button below.\n\u001b[0;31m---------------------------------------------------------------------------\u001b[0m\n"
          ],
          "errorDetails": {
            "actions": [
              {
                "action": "open_url",
                "actionText": "Open Examples",
                "url": "/notebooks/snippets/importing_libraries.ipynb"
              }
            ]
          }
        }
      ]
    },
    {
      "cell_type": "code",
      "source": [],
      "metadata": {
        "id": "tJtiyGJs6nNk"
      },
      "execution_count": null,
      "outputs": []
    }
  ]
}